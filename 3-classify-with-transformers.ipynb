{
 "cells": [
  {
   "cell_type": "markdown",
   "metadata": {
    "id": "Q5gRkEyL9-u0"
   },
   "source": [
    "# Sentiment Analysis of Movie Reviews using transformers and a Pretrained LLM"
   ]
  },
  {
   "cell_type": "markdown",
   "metadata": {
    "id": "5aQUy0-iFRNk"
   },
   "source": [
    "In this notebook, I fine-tune a pretrained LLM, DistilBERT base model (uncased), on the IMDB movie-review dataset in an effort to improve on the F1-test scores I got from the classifiers of scikit-learn. Once it is fine-tuned, I deploy the model to Hugging Face."
   ]
  },
  {
   "cell_type": "markdown",
   "metadata": {
    "id": "eo6GMF3X-NZW"
   },
   "source": [
    "## Installs and Imports"
   ]
  },
  {
   "cell_type": "code",
   "execution_count": null,
   "metadata": {
    "collapsed": true,
    "id": "XORZmGw1g7iJ",
    "jupyter": {
     "outputs_hidden": true
    }
   },
   "outputs": [],
   "source": [
    "!pip install datasets\n",
    "!pip install transformers[torch]\n",
    "!pip install evaluate\n",
    "!pip install -U accelerate"
   ]
  },
  {
   "cell_type": "code",
   "execution_count": 2,
   "metadata": {
    "id": "XPvqoRWrhmI8"
   },
   "outputs": [],
   "source": [
    "import numpy as np\n",
    "import torch\n",
    "\n",
    "from datasets import load_dataset\n",
    "from transformers import (\n",
    "    AutoTokenizer,\n",
    "    AutoModelForSequenceClassification,\n",
    "    TrainingArguments,\n",
    "    Trainer\n",
    ")\n",
    "import accelerate\n",
    "import evaluate"
   ]
  },
  {
   "cell_type": "code",
   "execution_count": null,
   "metadata": {
    "id": "O9ghsqWhLlIp"
   },
   "outputs": [],
   "source": [
    "from huggingface_hub import notebook_login\n",
    "notebook_login()"
   ]
  },
  {
   "cell_type": "markdown",
   "metadata": {
    "id": "hUBHcxqBECFd"
   },
   "source": [
    "## Load the Data"
   ]
  },
  {
   "cell_type": "code",
   "execution_count": 4,
   "metadata": {
    "id": "s2HS44dNh8x_"
   },
   "outputs": [],
   "source": [
    "ds_movies = load_dataset('imdb')"
   ]
  },
  {
   "cell_type": "markdown",
   "metadata": {
    "id": "GJU49IwNFwrP"
   },
   "source": [
    "## Pretrained Model and Tokenizer"
   ]
  },
  {
   "cell_type": "code",
   "execution_count": 5,
   "metadata": {
    "colab": {
     "base_uri": "https://localhost:8080/"
    },
    "id": "4VBEb-_tFiad",
    "outputId": "bd3c2ede-c951-4e38-ffe6-32c9a1a99bfe"
   },
   "outputs": [
    {
     "name": "stderr",
     "output_type": "stream",
     "text": [
      "Some weights of DistilBertForSequenceClassification were not initialized from the model checkpoint at distilbert-base-uncased and are newly initialized: ['classifier.bias', 'classifier.weight', 'pre_classifier.bias', 'pre_classifier.weight']\n",
      "You should probably TRAIN this model on a down-stream task to be able to use it for predictions and inference.\n"
     ]
    }
   ],
   "source": [
    "model_name = 'distilbert-base-uncased'\n",
    "model = AutoModelForSequenceClassification.from_pretrained(model_name)\n",
    "tokenizer = AutoTokenizer.from_pretrained(model_name)"
   ]
  },
  {
   "cell_type": "code",
   "execution_count": 6,
   "metadata": {
    "id": "sSIHED88iDvB"
   },
   "outputs": [],
   "source": [
    "def tokenize(dataset):\n",
    "    \"\"\"Tokenize the movie reviews of dataset.\"\"\"\n",
    "    return tokenizer(dataset[\"text\"], padding=\"max_length\", truncation=True)"
   ]
  },
  {
   "cell_type": "code",
   "execution_count": null,
   "metadata": {
    "id": "u1lszceXTXLi"
   },
   "outputs": [],
   "source": [
    "tokenized_ds_movies = ds_movies.map(tokenize, batched=True)"
   ]
  },
  {
   "cell_type": "markdown",
   "metadata": {
    "id": "z6XBGrt-H_PB"
   },
   "source": [
    "## Train and Test"
   ]
  },
  {
   "cell_type": "code",
   "execution_count": 8,
   "metadata": {
    "id": "_ER7CBPsjSut"
   },
   "outputs": [],
   "source": [
    "f1_score = evaluate.load('f1')\n",
    "\n",
    "def compute_metrics(eval_pred):\n",
    "    \"\"\"Compute metrics for evaluation.\"\"\"\n",
    "    # raw outputs, actual labels\n",
    "    logits, labels = eval_pred\n",
    "\n",
    "    # predictions is the highest output probability\n",
    "    predictions = np.argmax(logits, axis=-1)\n",
    "\n",
    "    f1 = f1_score.compute(predictions=predictions, references=labels)\n",
    "    return {'f1': f1['f1']}"
   ]
  },
  {
   "cell_type": "code",
   "execution_count": 9,
   "metadata": {
    "id": "_ODx1NzyjJmi"
   },
   "outputs": [],
   "source": [
    "training_args = TrainingArguments(\n",
    "    output_dir='movie-review-classifier',\n",
    "    eval_strategy='epoch',\n",
    "    num_train_epochs=3,\n",
    "    learning_rate=2e-5,\n",
    "    weight_decay=0.1,\n",
    "    per_device_train_batch_size=16,\n",
    "    per_device_eval_batch_size=16,\n",
    "    push_to_hub=True,\n",
    "    hub_model_id='derek-harnett/movie-review-classifier',\n",
    "    hub_strategy='end'\n",
    ")"
   ]
  },
  {
   "cell_type": "code",
   "execution_count": 10,
   "metadata": {
    "id": "VNeueylPjVF2"
   },
   "outputs": [],
   "source": [
    "trainer = Trainer(\n",
    "    model=model,\n",
    "    args=training_args,\n",
    "    train_dataset=tokenized_ds_movies['train'],\n",
    "    eval_dataset=tokenized_ds_movies['test'],\n",
    "    tokenizer=tokenizer,\n",
    "    compute_metrics=compute_metrics\n",
    ")"
   ]
  },
  {
   "cell_type": "code",
   "execution_count": null,
   "metadata": {
    "id": "fxnZ7qxhj4Pk"
   },
   "outputs": [],
   "source": [
    "trainer.train()"
   ]
  },
  {
   "cell_type": "code",
   "execution_count": 12,
   "metadata": {
    "colab": {
     "base_uri": "https://localhost:8080/",
     "height": 141
    },
    "id": "gMKCqf5nKXIq",
    "outputId": "2d3f9df8-7804-453b-f578-fb3734dc9a6d"
   },
   "outputs": [
    {
     "data": {
      "text/html": [
       "\n",
       "    <div>\n",
       "      \n",
       "      <progress value='1563' max='1563' style='width:300px; height:20px; vertical-align: middle;'></progress>\n",
       "      [1563/1563 07:46]\n",
       "    </div>\n",
       "    "
      ],
      "text/plain": [
       "<IPython.core.display.HTML object>"
      ]
     },
     "metadata": {},
     "output_type": "display_data"
    },
    {
     "data": {
      "text/plain": [
       "{'eval_loss': 0.2742638885974884,\n",
       " 'eval_f1': 0.9327129563350035,\n",
       " 'eval_runtime': 467.3881,\n",
       " 'eval_samples_per_second': 53.489,\n",
       " 'eval_steps_per_second': 3.344,\n",
       " 'epoch': 3.0}"
      ]
     },
     "execution_count": 12,
     "metadata": {},
     "output_type": "execute_result"
    }
   ],
   "source": [
    "trainer.evaluate()"
   ]
  },
  {
   "cell_type": "markdown",
   "metadata": {
    "id": "6wLIYxuXSIWE"
   },
   "source": [
    "## Push to Hugging Face"
   ]
  },
  {
   "cell_type": "code",
   "execution_count": null,
   "metadata": {
    "id": "p-h39-mKSB5Y"
   },
   "outputs": [],
   "source": [
    "trainer.push_to_hub(commit_message='train with full train set')"
   ]
  },
  {
   "cell_type": "code",
   "execution_count": null,
   "metadata": {},
   "outputs": [],
   "source": []
  }
 ],
 "metadata": {
  "accelerator": "GPU",
  "colab": {
   "gpuType": "T4",
   "provenance": []
  },
  "kernelspec": {
   "display_name": "Python 3 (ipykernel)",
   "language": "python",
   "name": "python3"
  },
  "language_info": {
   "codemirror_mode": {
    "name": "ipython",
    "version": 3
   },
   "file_extension": ".py",
   "mimetype": "text/x-python",
   "name": "python",
   "nbconvert_exporter": "python",
   "pygments_lexer": "ipython3",
   "version": "3.11.0"
  }
 },
 "nbformat": 4,
 "nbformat_minor": 4
}
