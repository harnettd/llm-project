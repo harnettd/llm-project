{
  "cells": [
    {
      "cell_type": "markdown",
      "metadata": {
        "id": "0KIIomXgAl3t"
      },
      "source": [
        "# Sentiment Analysis of Movie Reviews using scikit-learn"
      ]
    },
    {
      "cell_type": "markdown",
      "metadata": {
        "id": "67ZjtS_aAl3w"
      },
      "source": [
        "In this notebook, I perform sentiment analysis of movie reviews using `scikit-learn`.\n",
        "\n",
        "The dataset consists of 50k highly polarized (*clearly* favourable or unfavourable) movie reviews from IMBD. The set is partitioned into a labelled train set of 25k reviews and a labelled test set of 25k reviews. The reviews are preprocessed by lower-casing, removing HTML tags, and removing punctutation. The reviews are then tokenized, removing English stop words, and stemmed. Corpus vectorization is implemented using `TfidfVectorizer`. Multiple classification models are trained and tested on the results. The best performing model is pickled for later deployment."
      ]
    },
    {
      "cell_type": "code",
      "source": [
        "from google.colab import drive\n",
        "drive.mount('/content/drive')"
      ],
      "metadata": {
        "id": "cgRv-AeI5uEN",
        "collapsed": true
      },
      "execution_count": null,
      "outputs": []
    },
    {
      "cell_type": "markdown",
      "metadata": {
        "id": "dkrHBlbYAl3x"
      },
      "source": [
        "## Installs and Imports"
      ]
    },
    {
      "cell_type": "code",
      "source": [
        "!pip install datasets"
      ],
      "metadata": {
        "collapsed": true,
        "id": "v_qLLHovA2MB"
      },
      "execution_count": null,
      "outputs": []
    },
    {
      "cell_type": "code",
      "execution_count": 17,
      "metadata": {
        "id": "kqlKD6gqAl3x"
      },
      "outputs": [],
      "source": [
        "import matplotlib.pyplot as plt\n",
        "import pandas as pd\n",
        "import pickle\n",
        "import re\n",
        "\n",
        "from nltk import PorterStemmer\n",
        "\n",
        "from sklearn.base import BaseEstimator, TransformerMixin\n",
        "from sklearn.feature_extraction.text import ENGLISH_STOP_WORDS, TfidfVectorizer\n",
        "from sklearn.linear_model import LogisticRegression\n",
        "from sklearn.svm import LinearSVC\n",
        "from sklearn.ensemble import RandomForestClassifier\n",
        "from sklearn.pipeline import Pipeline\n",
        "from sklearn.model_selection import RandomizedSearchCV\n",
        "from sklearn.metrics import f1_score, make_scorer\n",
        "\n",
        "from scipy.stats import loguniform, uniform\n",
        "from string import punctuation\n",
        "from datasets import load_dataset"
      ]
    },
    {
      "cell_type": "markdown",
      "metadata": {
        "id": "GtGIM-fHAl3z"
      },
      "source": [
        "## Load the IMDB Dataset"
      ]
    },
    {
      "cell_type": "code",
      "execution_count": 18,
      "metadata": {
        "id": "cFKINTFAAl3z"
      },
      "outputs": [],
      "source": [
        "ds = load_dataset('imdb')\n",
        "train, test = pd.DataFrame(ds['train']), pd.DataFrame(ds['test'])"
      ]
    },
    {
      "cell_type": "markdown",
      "metadata": {
        "id": "mZC1PiMoAl30"
      },
      "source": [
        "In the following DataFrame samples, a label of 0 corresponds to a negative review (*i.e.,* thumbs-down) whereas a label of 1 corresponds to a positive review (*i.e.,* thumbs-up)."
      ]
    },
    {
      "cell_type": "code",
      "execution_count": 19,
      "metadata": {
        "colab": {
          "base_uri": "https://localhost:8080/",
          "height": 206
        },
        "id": "RyHpQb8PAl30",
        "outputId": "09f18b38-6d57-4158-f618-408ca46cee06"
      },
      "outputs": [
        {
          "output_type": "execute_result",
          "data": {
            "text/plain": [
              "                                                    text  label\n",
              "5095   The name of Nick Stahl, the young cast and the...      0\n",
              "5455   Mirror. Mirror (1990) is a flat out lame movie...      0\n",
              "4141   Man has been to the farthest reaches of the ea...      0\n",
              "5992   POSSIBLE SPOILERS<br /><br />The Spy Who Shagg...      0\n",
              "22542  I must admit, when I read the description of t...      1"
            ],
            "text/html": [
              "\n",
              "  <div id=\"df-a2694f8a-53b0-4059-aa47-b5cdf101750d\" class=\"colab-df-container\">\n",
              "    <div>\n",
              "<style scoped>\n",
              "    .dataframe tbody tr th:only-of-type {\n",
              "        vertical-align: middle;\n",
              "    }\n",
              "\n",
              "    .dataframe tbody tr th {\n",
              "        vertical-align: top;\n",
              "    }\n",
              "\n",
              "    .dataframe thead th {\n",
              "        text-align: right;\n",
              "    }\n",
              "</style>\n",
              "<table border=\"1\" class=\"dataframe\">\n",
              "  <thead>\n",
              "    <tr style=\"text-align: right;\">\n",
              "      <th></th>\n",
              "      <th>text</th>\n",
              "      <th>label</th>\n",
              "    </tr>\n",
              "  </thead>\n",
              "  <tbody>\n",
              "    <tr>\n",
              "      <th>5095</th>\n",
              "      <td>The name of Nick Stahl, the young cast and the...</td>\n",
              "      <td>0</td>\n",
              "    </tr>\n",
              "    <tr>\n",
              "      <th>5455</th>\n",
              "      <td>Mirror. Mirror (1990) is a flat out lame movie...</td>\n",
              "      <td>0</td>\n",
              "    </tr>\n",
              "    <tr>\n",
              "      <th>4141</th>\n",
              "      <td>Man has been to the farthest reaches of the ea...</td>\n",
              "      <td>0</td>\n",
              "    </tr>\n",
              "    <tr>\n",
              "      <th>5992</th>\n",
              "      <td>POSSIBLE SPOILERS&lt;br /&gt;&lt;br /&gt;The Spy Who Shagg...</td>\n",
              "      <td>0</td>\n",
              "    </tr>\n",
              "    <tr>\n",
              "      <th>22542</th>\n",
              "      <td>I must admit, when I read the description of t...</td>\n",
              "      <td>1</td>\n",
              "    </tr>\n",
              "  </tbody>\n",
              "</table>\n",
              "</div>\n",
              "    <div class=\"colab-df-buttons\">\n",
              "\n",
              "  <div class=\"colab-df-container\">\n",
              "    <button class=\"colab-df-convert\" onclick=\"convertToInteractive('df-a2694f8a-53b0-4059-aa47-b5cdf101750d')\"\n",
              "            title=\"Convert this dataframe to an interactive table.\"\n",
              "            style=\"display:none;\">\n",
              "\n",
              "  <svg xmlns=\"http://www.w3.org/2000/svg\" height=\"24px\" viewBox=\"0 -960 960 960\">\n",
              "    <path d=\"M120-120v-720h720v720H120Zm60-500h600v-160H180v160Zm220 220h160v-160H400v160Zm0 220h160v-160H400v160ZM180-400h160v-160H180v160Zm440 0h160v-160H620v160ZM180-180h160v-160H180v160Zm440 0h160v-160H620v160Z\"/>\n",
              "  </svg>\n",
              "    </button>\n",
              "\n",
              "  <style>\n",
              "    .colab-df-container {\n",
              "      display:flex;\n",
              "      gap: 12px;\n",
              "    }\n",
              "\n",
              "    .colab-df-convert {\n",
              "      background-color: #E8F0FE;\n",
              "      border: none;\n",
              "      border-radius: 50%;\n",
              "      cursor: pointer;\n",
              "      display: none;\n",
              "      fill: #1967D2;\n",
              "      height: 32px;\n",
              "      padding: 0 0 0 0;\n",
              "      width: 32px;\n",
              "    }\n",
              "\n",
              "    .colab-df-convert:hover {\n",
              "      background-color: #E2EBFA;\n",
              "      box-shadow: 0px 1px 2px rgba(60, 64, 67, 0.3), 0px 1px 3px 1px rgba(60, 64, 67, 0.15);\n",
              "      fill: #174EA6;\n",
              "    }\n",
              "\n",
              "    .colab-df-buttons div {\n",
              "      margin-bottom: 4px;\n",
              "    }\n",
              "\n",
              "    [theme=dark] .colab-df-convert {\n",
              "      background-color: #3B4455;\n",
              "      fill: #D2E3FC;\n",
              "    }\n",
              "\n",
              "    [theme=dark] .colab-df-convert:hover {\n",
              "      background-color: #434B5C;\n",
              "      box-shadow: 0px 1px 3px 1px rgba(0, 0, 0, 0.15);\n",
              "      filter: drop-shadow(0px 1px 2px rgba(0, 0, 0, 0.3));\n",
              "      fill: #FFFFFF;\n",
              "    }\n",
              "  </style>\n",
              "\n",
              "    <script>\n",
              "      const buttonEl =\n",
              "        document.querySelector('#df-a2694f8a-53b0-4059-aa47-b5cdf101750d button.colab-df-convert');\n",
              "      buttonEl.style.display =\n",
              "        google.colab.kernel.accessAllowed ? 'block' : 'none';\n",
              "\n",
              "      async function convertToInteractive(key) {\n",
              "        const element = document.querySelector('#df-a2694f8a-53b0-4059-aa47-b5cdf101750d');\n",
              "        const dataTable =\n",
              "          await google.colab.kernel.invokeFunction('convertToInteractive',\n",
              "                                                    [key], {});\n",
              "        if (!dataTable) return;\n",
              "\n",
              "        const docLinkHtml = 'Like what you see? Visit the ' +\n",
              "          '<a target=\"_blank\" href=https://colab.research.google.com/notebooks/data_table.ipynb>data table notebook</a>'\n",
              "          + ' to learn more about interactive tables.';\n",
              "        element.innerHTML = '';\n",
              "        dataTable['output_type'] = 'display_data';\n",
              "        await google.colab.output.renderOutput(dataTable, element);\n",
              "        const docLink = document.createElement('div');\n",
              "        docLink.innerHTML = docLinkHtml;\n",
              "        element.appendChild(docLink);\n",
              "      }\n",
              "    </script>\n",
              "  </div>\n",
              "\n",
              "\n",
              "<div id=\"df-847d4ee2-d603-47eb-8be0-244abe1d9272\">\n",
              "  <button class=\"colab-df-quickchart\" onclick=\"quickchart('df-847d4ee2-d603-47eb-8be0-244abe1d9272')\"\n",
              "            title=\"Suggest charts\"\n",
              "            style=\"display:none;\">\n",
              "\n",
              "<svg xmlns=\"http://www.w3.org/2000/svg\" height=\"24px\"viewBox=\"0 0 24 24\"\n",
              "     width=\"24px\">\n",
              "    <g>\n",
              "        <path d=\"M19 3H5c-1.1 0-2 .9-2 2v14c0 1.1.9 2 2 2h14c1.1 0 2-.9 2-2V5c0-1.1-.9-2-2-2zM9 17H7v-7h2v7zm4 0h-2V7h2v10zm4 0h-2v-4h2v4z\"/>\n",
              "    </g>\n",
              "</svg>\n",
              "  </button>\n",
              "\n",
              "<style>\n",
              "  .colab-df-quickchart {\n",
              "      --bg-color: #E8F0FE;\n",
              "      --fill-color: #1967D2;\n",
              "      --hover-bg-color: #E2EBFA;\n",
              "      --hover-fill-color: #174EA6;\n",
              "      --disabled-fill-color: #AAA;\n",
              "      --disabled-bg-color: #DDD;\n",
              "  }\n",
              "\n",
              "  [theme=dark] .colab-df-quickchart {\n",
              "      --bg-color: #3B4455;\n",
              "      --fill-color: #D2E3FC;\n",
              "      --hover-bg-color: #434B5C;\n",
              "      --hover-fill-color: #FFFFFF;\n",
              "      --disabled-bg-color: #3B4455;\n",
              "      --disabled-fill-color: #666;\n",
              "  }\n",
              "\n",
              "  .colab-df-quickchart {\n",
              "    background-color: var(--bg-color);\n",
              "    border: none;\n",
              "    border-radius: 50%;\n",
              "    cursor: pointer;\n",
              "    display: none;\n",
              "    fill: var(--fill-color);\n",
              "    height: 32px;\n",
              "    padding: 0;\n",
              "    width: 32px;\n",
              "  }\n",
              "\n",
              "  .colab-df-quickchart:hover {\n",
              "    background-color: var(--hover-bg-color);\n",
              "    box-shadow: 0 1px 2px rgba(60, 64, 67, 0.3), 0 1px 3px 1px rgba(60, 64, 67, 0.15);\n",
              "    fill: var(--button-hover-fill-color);\n",
              "  }\n",
              "\n",
              "  .colab-df-quickchart-complete:disabled,\n",
              "  .colab-df-quickchart-complete:disabled:hover {\n",
              "    background-color: var(--disabled-bg-color);\n",
              "    fill: var(--disabled-fill-color);\n",
              "    box-shadow: none;\n",
              "  }\n",
              "\n",
              "  .colab-df-spinner {\n",
              "    border: 2px solid var(--fill-color);\n",
              "    border-color: transparent;\n",
              "    border-bottom-color: var(--fill-color);\n",
              "    animation:\n",
              "      spin 1s steps(1) infinite;\n",
              "  }\n",
              "\n",
              "  @keyframes spin {\n",
              "    0% {\n",
              "      border-color: transparent;\n",
              "      border-bottom-color: var(--fill-color);\n",
              "      border-left-color: var(--fill-color);\n",
              "    }\n",
              "    20% {\n",
              "      border-color: transparent;\n",
              "      border-left-color: var(--fill-color);\n",
              "      border-top-color: var(--fill-color);\n",
              "    }\n",
              "    30% {\n",
              "      border-color: transparent;\n",
              "      border-left-color: var(--fill-color);\n",
              "      border-top-color: var(--fill-color);\n",
              "      border-right-color: var(--fill-color);\n",
              "    }\n",
              "    40% {\n",
              "      border-color: transparent;\n",
              "      border-right-color: var(--fill-color);\n",
              "      border-top-color: var(--fill-color);\n",
              "    }\n",
              "    60% {\n",
              "      border-color: transparent;\n",
              "      border-right-color: var(--fill-color);\n",
              "    }\n",
              "    80% {\n",
              "      border-color: transparent;\n",
              "      border-right-color: var(--fill-color);\n",
              "      border-bottom-color: var(--fill-color);\n",
              "    }\n",
              "    90% {\n",
              "      border-color: transparent;\n",
              "      border-bottom-color: var(--fill-color);\n",
              "    }\n",
              "  }\n",
              "</style>\n",
              "\n",
              "  <script>\n",
              "    async function quickchart(key) {\n",
              "      const quickchartButtonEl =\n",
              "        document.querySelector('#' + key + ' button');\n",
              "      quickchartButtonEl.disabled = true;  // To prevent multiple clicks.\n",
              "      quickchartButtonEl.classList.add('colab-df-spinner');\n",
              "      try {\n",
              "        const charts = await google.colab.kernel.invokeFunction(\n",
              "            'suggestCharts', [key], {});\n",
              "      } catch (error) {\n",
              "        console.error('Error during call to suggestCharts:', error);\n",
              "      }\n",
              "      quickchartButtonEl.classList.remove('colab-df-spinner');\n",
              "      quickchartButtonEl.classList.add('colab-df-quickchart-complete');\n",
              "    }\n",
              "    (() => {\n",
              "      let quickchartButtonEl =\n",
              "        document.querySelector('#df-847d4ee2-d603-47eb-8be0-244abe1d9272 button');\n",
              "      quickchartButtonEl.style.display =\n",
              "        google.colab.kernel.accessAllowed ? 'block' : 'none';\n",
              "    })();\n",
              "  </script>\n",
              "</div>\n",
              "\n",
              "    </div>\n",
              "  </div>\n"
            ],
            "application/vnd.google.colaboratory.intrinsic+json": {
              "type": "dataframe",
              "summary": "{\n  \"name\": \"train\",\n  \"rows\": 5,\n  \"fields\": [\n    {\n      \"column\": \"text\",\n      \"properties\": {\n        \"dtype\": \"string\",\n        \"num_unique_values\": 5,\n        \"samples\": [\n          \"Mirror. Mirror (1990) is a flat out lame movie. Why did I watch movies like this when I was younger? Who knows? Maybe I was one for punishing myself by watching one terrible movie after another. I don't know, I guess I needed a hobby during my teen years. A teenage outcast (Rainbow Harvest) seeks solace in an old mirror. Soon she learns about the horrific power this antique mirror has and uses it to strike out against those who have wronged her. Movies like these, the power giver has a nasty side effect. This one changes her inside and out if she likes it or not.<br /><br />A mess of a movie that for some reason was restored on d.v.d. a few years back. I don't know why. They should have left it on the shelf and collect dust. People love this movie foe some reason. If you do I would like to know why. Until then I dislike this movie and I have no reason to ever watch it again.<br /><br />Not recommended at all.\",\n          \"I must admit, when I read the description of the genre on Netflix as \\\"Steamy Romance\\\" I was a little bit skeptical. \\\"Steamy\\\"? In a movie from 1968?? I was prepared for disappointment. And when I realized it was shot entirely in black & white, I knew my erotic hopes were dashed.<br /><br />Boy, was I wrong! Not only does this film have all of the elements of a steamy romance -- the discovery of first love, fear of the secret being found out, a sudden unexpected end -- but at times this movie was downright erotic. You will soon forget that it is shot in black & white. The cinematography deserves every accolade it has received over the years. And the performances from the two stars (Essy Persson and Anna Gael) are intense and memorable. OK, so they're both in their mid twenties trying to play school girls. It's 1968. Do you really expect teenagers from the '60s to be able to effectively explore a lesbian love story like this? Many adult women were still trying to come to grips with their sexuality back then. Anyone looking for real teens here is expecting too much.<br /><br />I think this movie was way ahead of its time. The level of eroticism was an unexpected pleasure; yet it still managed to leave a lot to the imagination, opting instead to give us poetic descriptions to add to what we were shown.<br /><br />I have no doubt lesbians will identify with the characters here. As for you straight guys who love watching lesbians in action: Although it won't be all you expect, I don't think you'll be too, too disappointed.\",\n          \"Man has been to the farthest reaches of the earth and now he is traveling to new worlds. But with new worlds come ancient evils... the vampires of space. And not just a handful but entire tribes. In this film (which I saw as \\\"Bloodsuckers\\\" but I guess also goes as \\\"Vampires Wars\\\") we see what happens when the imperialist earthlings meet the imperialist vampires.<br /><br />I will make this review very short because it's undeserving of a good review. The best I can say for this film is it has a good cast of b-list and upcoming stars. Natassia Malthe was Quintana, and was far more attractive here than in \\\"Bloodrayne 2\\\". Michael Ironside is Muco, and is always a fan favorite (as I say, he's the poor man's Jack Nicholson). And we even get Carrie-Ann Fleming as \\\"Damian's wife\\\", who horror fans will now recognize as the eponymous Jenifer from Dario Argento's \\\"Jenifer\\\". So this movie, as bad as it is, isn't without some names attached... but the same can be said of Uwe Boll's work.<br /><br />The concept of the military tracking and killing vampires in space isn't necessarily a bad idea, but it easily falls into the realm of \\\"cheese\\\" and this film falls hard. The acting, especially from the vampires, is over the top and I just didn't find the explanations of their existence very convincing. Worst of all, the vampire tribes have the names \\\"Voorhess\\\" and \\\"Leatherfaces\\\". I understand this was supposed to be a clever reference for the horror fans, but it wasn't clever at all. It just sounded dumb and out of place (unlike the much more subtle references in James Gunn's \\\"Slither\\\", such as naming stores after lesser-known horror directors).<br /><br />That's all I want to say. If you can stand lots of cheese (on this day I couldn't and I'm from Wisconsin) and want to see average actors with poor costumes fight vampires in space (although \\\"space\\\" looks a lot like any other forest on earth) check this one out, if you can find it. I don't personally recommend this when you can watch other cheesy vampires films (Jon Carpenter's \\\"Vampires\\\") or other cheesy space movies. Or maybe even some good ones. But, hey, do your thing.\"\n        ],\n        \"semantic_type\": \"\",\n        \"description\": \"\"\n      }\n    },\n    {\n      \"column\": \"label\",\n      \"properties\": {\n        \"dtype\": \"number\",\n        \"std\": 0,\n        \"min\": 0,\n        \"max\": 1,\n        \"num_unique_values\": 2,\n        \"samples\": [\n          1,\n          0\n        ],\n        \"semantic_type\": \"\",\n        \"description\": \"\"\n      }\n    }\n  ]\n}"
            }
          },
          "metadata": {},
          "execution_count": 19
        }
      ],
      "source": [
        "train.sample(5)"
      ]
    },
    {
      "cell_type": "code",
      "execution_count": 20,
      "metadata": {
        "colab": {
          "base_uri": "https://localhost:8080/",
          "height": 206
        },
        "id": "1CAvFD9NAl32",
        "outputId": "95fc59a4-bd2a-491c-f743-e74e58dfc42a"
      },
      "outputs": [
        {
          "output_type": "execute_result",
          "data": {
            "text/plain": [
              "                                                    text  label\n",
              "9497   Old bat transforms to younger OK looking girl ...      0\n",
              "8578   I really wish Hollywood would come up with som...      0\n",
              "11523  Jim Brown stars and produces a tale set in the...      0\n",
              "1981   This is one of the worst films I have seen in ...      0\n",
              "18737  Centres on Czech WW2 pilots  the older Franti...      1"
            ],
            "text/html": [
              "\n",
              "  <div id=\"df-0277d9bd-1cdd-4cf3-a175-ff7f2cf4f824\" class=\"colab-df-container\">\n",
              "    <div>\n",
              "<style scoped>\n",
              "    .dataframe tbody tr th:only-of-type {\n",
              "        vertical-align: middle;\n",
              "    }\n",
              "\n",
              "    .dataframe tbody tr th {\n",
              "        vertical-align: top;\n",
              "    }\n",
              "\n",
              "    .dataframe thead th {\n",
              "        text-align: right;\n",
              "    }\n",
              "</style>\n",
              "<table border=\"1\" class=\"dataframe\">\n",
              "  <thead>\n",
              "    <tr style=\"text-align: right;\">\n",
              "      <th></th>\n",
              "      <th>text</th>\n",
              "      <th>label</th>\n",
              "    </tr>\n",
              "  </thead>\n",
              "  <tbody>\n",
              "    <tr>\n",
              "      <th>9497</th>\n",
              "      <td>Old bat transforms to younger OK looking girl ...</td>\n",
              "      <td>0</td>\n",
              "    </tr>\n",
              "    <tr>\n",
              "      <th>8578</th>\n",
              "      <td>I really wish Hollywood would come up with som...</td>\n",
              "      <td>0</td>\n",
              "    </tr>\n",
              "    <tr>\n",
              "      <th>11523</th>\n",
              "      <td>Jim Brown stars and produces a tale set in the...</td>\n",
              "      <td>0</td>\n",
              "    </tr>\n",
              "    <tr>\n",
              "      <th>1981</th>\n",
              "      <td>This is one of the worst films I have seen in ...</td>\n",
              "      <td>0</td>\n",
              "    </tr>\n",
              "    <tr>\n",
              "      <th>18737</th>\n",
              "      <td>Centres on Czech WW2 pilots  the older Franti...</td>\n",
              "      <td>1</td>\n",
              "    </tr>\n",
              "  </tbody>\n",
              "</table>\n",
              "</div>\n",
              "    <div class=\"colab-df-buttons\">\n",
              "\n",
              "  <div class=\"colab-df-container\">\n",
              "    <button class=\"colab-df-convert\" onclick=\"convertToInteractive('df-0277d9bd-1cdd-4cf3-a175-ff7f2cf4f824')\"\n",
              "            title=\"Convert this dataframe to an interactive table.\"\n",
              "            style=\"display:none;\">\n",
              "\n",
              "  <svg xmlns=\"http://www.w3.org/2000/svg\" height=\"24px\" viewBox=\"0 -960 960 960\">\n",
              "    <path d=\"M120-120v-720h720v720H120Zm60-500h600v-160H180v160Zm220 220h160v-160H400v160Zm0 220h160v-160H400v160ZM180-400h160v-160H180v160Zm440 0h160v-160H620v160ZM180-180h160v-160H180v160Zm440 0h160v-160H620v160Z\"/>\n",
              "  </svg>\n",
              "    </button>\n",
              "\n",
              "  <style>\n",
              "    .colab-df-container {\n",
              "      display:flex;\n",
              "      gap: 12px;\n",
              "    }\n",
              "\n",
              "    .colab-df-convert {\n",
              "      background-color: #E8F0FE;\n",
              "      border: none;\n",
              "      border-radius: 50%;\n",
              "      cursor: pointer;\n",
              "      display: none;\n",
              "      fill: #1967D2;\n",
              "      height: 32px;\n",
              "      padding: 0 0 0 0;\n",
              "      width: 32px;\n",
              "    }\n",
              "\n",
              "    .colab-df-convert:hover {\n",
              "      background-color: #E2EBFA;\n",
              "      box-shadow: 0px 1px 2px rgba(60, 64, 67, 0.3), 0px 1px 3px 1px rgba(60, 64, 67, 0.15);\n",
              "      fill: #174EA6;\n",
              "    }\n",
              "\n",
              "    .colab-df-buttons div {\n",
              "      margin-bottom: 4px;\n",
              "    }\n",
              "\n",
              "    [theme=dark] .colab-df-convert {\n",
              "      background-color: #3B4455;\n",
              "      fill: #D2E3FC;\n",
              "    }\n",
              "\n",
              "    [theme=dark] .colab-df-convert:hover {\n",
              "      background-color: #434B5C;\n",
              "      box-shadow: 0px 1px 3px 1px rgba(0, 0, 0, 0.15);\n",
              "      filter: drop-shadow(0px 1px 2px rgba(0, 0, 0, 0.3));\n",
              "      fill: #FFFFFF;\n",
              "    }\n",
              "  </style>\n",
              "\n",
              "    <script>\n",
              "      const buttonEl =\n",
              "        document.querySelector('#df-0277d9bd-1cdd-4cf3-a175-ff7f2cf4f824 button.colab-df-convert');\n",
              "      buttonEl.style.display =\n",
              "        google.colab.kernel.accessAllowed ? 'block' : 'none';\n",
              "\n",
              "      async function convertToInteractive(key) {\n",
              "        const element = document.querySelector('#df-0277d9bd-1cdd-4cf3-a175-ff7f2cf4f824');\n",
              "        const dataTable =\n",
              "          await google.colab.kernel.invokeFunction('convertToInteractive',\n",
              "                                                    [key], {});\n",
              "        if (!dataTable) return;\n",
              "\n",
              "        const docLinkHtml = 'Like what you see? Visit the ' +\n",
              "          '<a target=\"_blank\" href=https://colab.research.google.com/notebooks/data_table.ipynb>data table notebook</a>'\n",
              "          + ' to learn more about interactive tables.';\n",
              "        element.innerHTML = '';\n",
              "        dataTable['output_type'] = 'display_data';\n",
              "        await google.colab.output.renderOutput(dataTable, element);\n",
              "        const docLink = document.createElement('div');\n",
              "        docLink.innerHTML = docLinkHtml;\n",
              "        element.appendChild(docLink);\n",
              "      }\n",
              "    </script>\n",
              "  </div>\n",
              "\n",
              "\n",
              "<div id=\"df-89d83f76-871f-45dd-baba-baf9069b4ef6\">\n",
              "  <button class=\"colab-df-quickchart\" onclick=\"quickchart('df-89d83f76-871f-45dd-baba-baf9069b4ef6')\"\n",
              "            title=\"Suggest charts\"\n",
              "            style=\"display:none;\">\n",
              "\n",
              "<svg xmlns=\"http://www.w3.org/2000/svg\" height=\"24px\"viewBox=\"0 0 24 24\"\n",
              "     width=\"24px\">\n",
              "    <g>\n",
              "        <path d=\"M19 3H5c-1.1 0-2 .9-2 2v14c0 1.1.9 2 2 2h14c1.1 0 2-.9 2-2V5c0-1.1-.9-2-2-2zM9 17H7v-7h2v7zm4 0h-2V7h2v10zm4 0h-2v-4h2v4z\"/>\n",
              "    </g>\n",
              "</svg>\n",
              "  </button>\n",
              "\n",
              "<style>\n",
              "  .colab-df-quickchart {\n",
              "      --bg-color: #E8F0FE;\n",
              "      --fill-color: #1967D2;\n",
              "      --hover-bg-color: #E2EBFA;\n",
              "      --hover-fill-color: #174EA6;\n",
              "      --disabled-fill-color: #AAA;\n",
              "      --disabled-bg-color: #DDD;\n",
              "  }\n",
              "\n",
              "  [theme=dark] .colab-df-quickchart {\n",
              "      --bg-color: #3B4455;\n",
              "      --fill-color: #D2E3FC;\n",
              "      --hover-bg-color: #434B5C;\n",
              "      --hover-fill-color: #FFFFFF;\n",
              "      --disabled-bg-color: #3B4455;\n",
              "      --disabled-fill-color: #666;\n",
              "  }\n",
              "\n",
              "  .colab-df-quickchart {\n",
              "    background-color: var(--bg-color);\n",
              "    border: none;\n",
              "    border-radius: 50%;\n",
              "    cursor: pointer;\n",
              "    display: none;\n",
              "    fill: var(--fill-color);\n",
              "    height: 32px;\n",
              "    padding: 0;\n",
              "    width: 32px;\n",
              "  }\n",
              "\n",
              "  .colab-df-quickchart:hover {\n",
              "    background-color: var(--hover-bg-color);\n",
              "    box-shadow: 0 1px 2px rgba(60, 64, 67, 0.3), 0 1px 3px 1px rgba(60, 64, 67, 0.15);\n",
              "    fill: var(--button-hover-fill-color);\n",
              "  }\n",
              "\n",
              "  .colab-df-quickchart-complete:disabled,\n",
              "  .colab-df-quickchart-complete:disabled:hover {\n",
              "    background-color: var(--disabled-bg-color);\n",
              "    fill: var(--disabled-fill-color);\n",
              "    box-shadow: none;\n",
              "  }\n",
              "\n",
              "  .colab-df-spinner {\n",
              "    border: 2px solid var(--fill-color);\n",
              "    border-color: transparent;\n",
              "    border-bottom-color: var(--fill-color);\n",
              "    animation:\n",
              "      spin 1s steps(1) infinite;\n",
              "  }\n",
              "\n",
              "  @keyframes spin {\n",
              "    0% {\n",
              "      border-color: transparent;\n",
              "      border-bottom-color: var(--fill-color);\n",
              "      border-left-color: var(--fill-color);\n",
              "    }\n",
              "    20% {\n",
              "      border-color: transparent;\n",
              "      border-left-color: var(--fill-color);\n",
              "      border-top-color: var(--fill-color);\n",
              "    }\n",
              "    30% {\n",
              "      border-color: transparent;\n",
              "      border-left-color: var(--fill-color);\n",
              "      border-top-color: var(--fill-color);\n",
              "      border-right-color: var(--fill-color);\n",
              "    }\n",
              "    40% {\n",
              "      border-color: transparent;\n",
              "      border-right-color: var(--fill-color);\n",
              "      border-top-color: var(--fill-color);\n",
              "    }\n",
              "    60% {\n",
              "      border-color: transparent;\n",
              "      border-right-color: var(--fill-color);\n",
              "    }\n",
              "    80% {\n",
              "      border-color: transparent;\n",
              "      border-right-color: var(--fill-color);\n",
              "      border-bottom-color: var(--fill-color);\n",
              "    }\n",
              "    90% {\n",
              "      border-color: transparent;\n",
              "      border-bottom-color: var(--fill-color);\n",
              "    }\n",
              "  }\n",
              "</style>\n",
              "\n",
              "  <script>\n",
              "    async function quickchart(key) {\n",
              "      const quickchartButtonEl =\n",
              "        document.querySelector('#' + key + ' button');\n",
              "      quickchartButtonEl.disabled = true;  // To prevent multiple clicks.\n",
              "      quickchartButtonEl.classList.add('colab-df-spinner');\n",
              "      try {\n",
              "        const charts = await google.colab.kernel.invokeFunction(\n",
              "            'suggestCharts', [key], {});\n",
              "      } catch (error) {\n",
              "        console.error('Error during call to suggestCharts:', error);\n",
              "      }\n",
              "      quickchartButtonEl.classList.remove('colab-df-spinner');\n",
              "      quickchartButtonEl.classList.add('colab-df-quickchart-complete');\n",
              "    }\n",
              "    (() => {\n",
              "      let quickchartButtonEl =\n",
              "        document.querySelector('#df-89d83f76-871f-45dd-baba-baf9069b4ef6 button');\n",
              "      quickchartButtonEl.style.display =\n",
              "        google.colab.kernel.accessAllowed ? 'block' : 'none';\n",
              "    })();\n",
              "  </script>\n",
              "</div>\n",
              "\n",
              "    </div>\n",
              "  </div>\n"
            ],
            "application/vnd.google.colaboratory.intrinsic+json": {
              "type": "dataframe",
              "summary": "{\n  \"name\": \"test\",\n  \"rows\": 5,\n  \"fields\": [\n    {\n      \"column\": \"text\",\n      \"properties\": {\n        \"dtype\": \"string\",\n        \"num_unique_values\": 5,\n        \"samples\": [\n          \"I really wish Hollywood would come up with some new ideas and quick. Instead they go around and recreate and mess up a perfectly good movie with a re-make. This movie is awful from the DeMille version. All the way through this movie I was saying to myself, Huh??? - What???? - I don't remember that part. The only exciting thing in this movie so far was the parting of the Red Sea. And in Heston's version - it was a heck of a lot better than this version. Did anyone else see an atomic or nuclear bomb cloud fade in and out when the Red Sea was being parted? I think I did. Anyway, I Might - Might - watch the last part tonight.<br /><br />I wish Hollywood would tackle different ideas and subject matters when they are making new movies. Instead of re-hashing old films.<br /><br />They should of left well enough alone.<br /><br />UPDATE:<br /><br />Well I watched the last part. Did Moses make up the second copy of the ten commandments with his own hand - or was I seeing things - please someone - email me and let me know. HORRIBLE\",\n          \"Centres on Czech WW2 pilots \\u0096 the older Frantisek, the boyish impulsive Karel and in the background the quiet piano-playing Honza. As the film opens, it is 1950, the war is over and Frantisek and Honza are imprisoned in a former monastery. In their now Soviet-controlled native country they are 'enemy of the people'. Honza is severely maltreated by his Communist countrymen and dies.<br /><br />In 1939 many pilots manage to escape German-occupied Europe and make their way to England where they join the RAF. Notwithstanding their high motivation and experience they face RAF reluctance and British stiff upper lip. Finally they fight gallantly in the Battle of Britain. However, Frantisek and Karel find their friendship severely tested when they both fall for the same woman.<br /><br />In terms of romantic sub-plot, this is very similar to the Hollywood production Pearl Harbour. However, given the context of the film and Frantisek's eventual fate, it is also possible to read the English woman's treatment of the two men as symbolic of British treatment of the Czech and Polish RAF pilots: conveniently forgetting them once the war is over.<br /><br />In addition, the film is a lot less clich\\u00e9 than Pearl Harbour and the characters are more fully realised. Dark Blue World also scores in terms of its stunning aerial dogfights, which were seamlessly created using a mixture of models, actual live-action aerial filming and out-takes from the 1969 epic The Battle of Britain.<br /><br />In short, Dark Blue World is a well-made, moving, thought-provoking and exciting drama that puts the likes of Pearl Harbour to shame. Highly recommended.\",\n          \"Jim Brown stars and produces a tale set in the Philippines just after the Japanese invasion. The story has the Japanese taking several navy men prisoner including some divers, who they use to retrieve the gold that MacArthur had dumped into the Manila bay.<br /><br />It's a messy movie aiming to make a statement about war and racism (The film uses Edwin McCain's War in a not so subtle montage). The performances are just adequate at best. Jim Brown is okay, but he doesn't really show any sort of range in a performance that just has him standing there looking annoyed. The sets are serviceable but seem rather cheap. The film suffers from the outset due to a great deal of stock footage including many of the best known shots from the Japanese attack in Tora! Tora! Tora!. The use of such big budget sequence effectively makes the rest of the film look positively anemic; it also reminds one that there are better films out there one could be watching. For me the film seems to have half a real plot, the retrieval of the silver, and half a plot that is there just to fill time. None of it is particularly exciting even with the explosive finale.<br /><br />Given the choice I'd take a pass.\"\n        ],\n        \"semantic_type\": \"\",\n        \"description\": \"\"\n      }\n    },\n    {\n      \"column\": \"label\",\n      \"properties\": {\n        \"dtype\": \"number\",\n        \"std\": 0,\n        \"min\": 0,\n        \"max\": 1,\n        \"num_unique_values\": 2,\n        \"samples\": [\n          1,\n          0\n        ],\n        \"semantic_type\": \"\",\n        \"description\": \"\"\n      }\n    }\n  ]\n}"
            }
          },
          "metadata": {},
          "execution_count": 20
        }
      ],
      "source": [
        "test.sample(5)"
      ]
    },
    {
      "cell_type": "markdown",
      "metadata": {
        "id": "HRIZs_4BAl33"
      },
      "source": [
        "## Exploratory Data Analysis"
      ]
    },
    {
      "cell_type": "code",
      "execution_count": 21,
      "metadata": {
        "colab": {
          "base_uri": "https://localhost:8080/"
        },
        "id": "IpY10rt5Al33",
        "outputId": "88e5bdf9-3048-434f-8797-b8c235b3f31b"
      },
      "outputs": [
        {
          "output_type": "stream",
          "name": "stdout",
          "text": [
            "<class 'pandas.core.frame.DataFrame'>\n",
            "RangeIndex: 25000 entries, 0 to 24999\n",
            "Data columns (total 2 columns):\n",
            " #   Column  Non-Null Count  Dtype \n",
            "---  ------  --------------  ----- \n",
            " 0   text    25000 non-null  object\n",
            " 1   label   25000 non-null  int64 \n",
            "dtypes: int64(1), object(1)\n",
            "memory usage: 390.8+ KB\n"
          ]
        }
      ],
      "source": [
        "train.info()"
      ]
    },
    {
      "cell_type": "markdown",
      "source": [
        "I plot the distribution of movie review labels in the train set."
      ],
      "metadata": {
        "id": "Xiru_f-c7EUu"
      }
    },
    {
      "cell_type": "code",
      "execution_count": 22,
      "metadata": {
        "colab": {
          "base_uri": "https://localhost:8080/",
          "height": 467
        },
        "id": "rWJ-GVkxAl33",
        "outputId": "a3db90b2-68fa-48a9-c068-bd8dac85fe45"
      },
      "outputs": [
        {
          "output_type": "display_data",
          "data": {
            "text/plain": [
              "<Figure size 640x480 with 1 Axes>"
            ],
            "image/png": "[encoded data removed]"
          },
          "metadata": {}
        }
      ],
      "source": [
        "fig, ax = plt.subplots()\n",
        "train.groupby('label').count().plot(kind='bar', alpha=0.75, ax=ax)\n",
        "ax.set_ylabel('count')\n",
        "ax.set_title('Distribution of movie review labels')\n",
        "ax.legend().set_visible(False)\n",
        "plt.show()"
      ]
    },
    {
      "cell_type": "markdown",
      "metadata": {
        "id": "28Xd_9kzAl33"
      },
      "source": [
        "From the above bar graph, the train set appears to be balanced. To confirm:"
      ]
    },
    {
      "cell_type": "code",
      "execution_count": 23,
      "metadata": {
        "colab": {
          "base_uri": "https://localhost:8080/"
        },
        "id": "owpeKomDAl34",
        "outputId": "b3323adb-cc40-4e8b-b9bf-99671925ff2c"
      },
      "outputs": [
        {
          "output_type": "execute_result",
          "data": {
            "text/plain": [
              "label\n",
              "0    12500\n",
              "1    12500\n",
              "Name: count, dtype: int64"
            ]
          },
          "metadata": {},
          "execution_count": 23
        }
      ],
      "source": [
        "train['label'].value_counts()"
      ]
    },
    {
      "cell_type": "markdown",
      "metadata": {
        "id": "rGY5KMnTAl34"
      },
      "source": [
        "It is instructive to read a handful of reviews to better understand what is meant by \"highly polarized.\""
      ]
    },
    {
      "cell_type": "code",
      "execution_count": 24,
      "metadata": {
        "id": "KxSsAw5RAl34"
      },
      "outputs": [],
      "source": [
        "thumbs_ups = train[train['label'] == 1]\n",
        "thumbs_downs = train[train['label'] == 0]"
      ]
    },
    {
      "cell_type": "code",
      "execution_count": 25,
      "metadata": {
        "colab": {
          "base_uri": "https://localhost:8080/"
        },
        "id": "oo1V8uqFAl34",
        "outputId": "1062618b-696f-4fb4-8e6b-e1306144c62e"
      },
      "outputs": [
        {
          "output_type": "stream",
          "name": "stdout",
          "text": [
            "This movie is about a side of Ireland that Americans don't normally see, the narrow-minded religiously prejudiced side of the 'friendliest race in the world'. The movie, by the admission of the inhabitants of Fethard who are old enough to remember the events, is fairly accurate (though they insist that the film-makers invented some of the more violent scenes just to spice up the action).<br /><br />The movie was very unpopular in Ireland as it portrayed the Catholic church in a bad light, but the simple fact is that representatives of the Catholic church *did* organise vetoes of minorities (before Protestants it was the Jews).<br /><br />The film is a fascinating insight into the whole issue of religion in Ireland\n",
            "\n",
            "Finally, an indie film that actually delivers some great scares! I see most horror films that come out... Theatrical, Straight-To-DVD, cable, etc... and most of them suck... a few are watchable... even fewer are actually good... Dark Remains is one of the good ones. I caught a screening of this film at the South Padre Island Film Festival... the audience loved it... and my wife and I loved it! Having no name actors, I assume the budget on this film was pretty low, but you wouldn't know it... the film looks fantastic... the acting totally works for the film... the story is good... and the scares are great! While most filmmakers focus solely on the scares, they often forget about story and character development, two things that help to deliver the scares more efficiently. Brian Avenet-Bradley must know that character and story are important. He develops both to the point where you care about the characters, you know the characters, and are therefore more scared when they are in danger.<br /><br />Watching horror films that cost anywhere from $80 million to $5000 to make, I find \"Dark Remains\" to be one of the gems out there. Check this film out!\n",
            "\n",
            "Some guys think that sniper is not good because of the action part of it was not good enough. Well, if you regard it as an action movie, this view point could be quite true as the action part of this movive is not actually exciting. However, I think this is a psychological drama rather than an action one.<br /><br />The movie mainly told us about the inside of two snipers who definitely had different personalities and different experiences. Tomas Beccket , who was a veteran and had 74 confirmed kills, looked as if he was cold-hearted. However, after Beccket showed his day dream of Montana, we can clearly see his softness inside. It was the cruel war and his partners' sacrifice that made Beccket become so called cold-hearted.<br /><br />Millar, on the contrary, was a new comer, a green hand, and was even not qualified as a sniper. Billy Zane did quite well to show millar's hesitation and fear when he first tried to \"put a bullet through one's heart\"(as what Beccket said). What he thought about the actuall suicide mission was that it could be easily accomplished and then he could safely get back and receive the award.<br /><br />These two guys were quite different in their personalities and I think that the movie had successfully showed the difference and the impact they had to each other due to the difference in their personalities. These two snipers quarreled, suspected each other and finally come to an understanding by the communication and by what they had done to help even to save the other.<br /><br />Sniper isn't a good action movie but a good psychological one.\n"
          ]
        }
      ],
      "source": [
        "thumbs_up_samples = thumbs_ups['text'].sample(3).to_list()\n",
        "print('\\n\\n'.join(thumbs_up_samples))"
      ]
    },
    {
      "cell_type": "code",
      "execution_count": 26,
      "metadata": {
        "colab": {
          "base_uri": "https://localhost:8080/"
        },
        "id": "ivqXrzAJAl34",
        "outputId": "47285bf9-935f-4115-ca4d-6d1cc222524d"
      },
      "outputs": [
        {
          "output_type": "stream",
          "name": "stdout",
          "text": [
            "I saw this director's \"Woman On The Beach\" and could not understand the good to great reviews. This film is much like that one, two people who are caught in a relationship with very little dynamic and even less interest to anyone else. Like his other films, you have to want to listen to vacuous dialog, wade through very little and become enchanted with underwritten, pretty uninteresting characters. If you feel you can like this film, don't let my review stop you. I do like minimalism in films, but I feel Tsai Ming-Liang's films are far superior. He has a fairly terrific actor in Lee Kang-Sheng in his films. There is nothing here. I wish IU liked it, but I don't. Oh, well.\n",
            "\n",
            "I remember when I first saw this movie, I was in sixth grade when it happened. Before I saw this, i had listened to the original Broadway recording of it, and I really loved it! But when I saw this, I was like, what the heck?! This movie is missing a lot of the songs from the musical for crying out loud! Who decided to do all of that?!<br /><br />I really am a very huge fan of Gene Kelly, but this movie is probably the worst of a musical that he ever did! The movie looked more like a Hollywood set than the beautiful Highlands of Scotland. And who the heck decided to cut all of Meg's songs out of the movie?! <br /><br />I am willing to bet that when they saw this movie, Lerner and Lowe were probably wondering: \"Who in the world decided to do this to our masterpiece?\" Well they had a right to say that if they did, they were probably mad at the fact that Hollywood turned their great musical into this rather blank movie.<br /><br />Song and acting wise Mr. Kelly, you passed the audition with flying colors, but you are in a movie that is missing a lot of the text.<br /><br />So in short, if you want a good movie based on a musical by Frederick Lowe and Alan Jay Lerner, this one isn't it! <br /><br />3/10\n",
            "\n",
            "This might be the poorest example of amateur propaganda ever made. The writers and producers should study the German films of the thirties and forties. They knew how to sell. Even soviet-style clunky leader as god-like father-figure were better done. Disappointing. The loss of faith, regained in church at last second just in time for daddy to be \"saved\" by the Hoover/God was not too bad. Unfortunately, it seemed rushed and not nearly melodramatic enough. A few misty heavenlier shots of the angelical Hoover up in the corner of the screen-beaming and nodding- would have added a lot. The best aspect is Hoover only saving the deserving family and children WHO had \"proven\" their worth. Unfortunately, other poor homeless were portrayed as likable and even good- yet the Hoover-God doesn't help them. A better approach would have been shots of them drinking spirits to show the justice of their condition. Finally, bright and cheerful scenes of recovery (after Hoover saved the country from the depression) should have rolled at the end. We could see then how Hoover-God had saved not just THIS deserving family, but all the truly deserving. Amateurist at best.\n"
          ]
        }
      ],
      "source": [
        "thumbs_down_samples = thumbs_downs['text'].sample(3).to_list()\n",
        "print('\\n\\n'.join(thumbs_down_samples))"
      ]
    },
    {
      "cell_type": "markdown",
      "metadata": {
        "id": "8eG6a3t6Al35"
      },
      "source": [
        "## Preprocessor"
      ]
    },
    {
      "cell_type": "markdown",
      "metadata": {
        "id": "-bk2TBv9Al35"
      },
      "source": [
        "The preprocessor transforms movie reviews by lower-casing, removing HTML tags, and removing punctuation."
      ]
    },
    {
      "cell_type": "code",
      "execution_count": 27,
      "metadata": {
        "id": "bMasQvaiAl35"
      },
      "outputs": [],
      "source": [
        "class Preprocessor(BaseEstimator, TransformerMixin):\n",
        "    @staticmethod\n",
        "    def strip_html(X):\n",
        "        \"\"\"Remove HTML tags from a corpus X.\"\"\"\n",
        "        return [re.sub(r'<[^>]+>', ' ', doc) for doc in X]\n",
        "\n",
        "    @staticmethod\n",
        "    def strip_forward_slashes(X):\n",
        "        \"\"\"Replace / by a space in a corpus X.\"\"\"\n",
        "        return [doc.replace('/', ' ') for doc in X]\n",
        "\n",
        "    @staticmethod\n",
        "    def strip_punctuation(X):\n",
        "        \"\"\"\n",
        "        Remove punctuation from a corpus X.\n",
        "        \"\"\"\n",
        "        def strip_punc_from_doc(doc: str) -> str:\n",
        "            \"\"\"Remove punctuation from a single document doc.\"\"\"\n",
        "            doc_trans = doc\n",
        "            for p in punctuation:\n",
        "                doc_trans = doc_trans.replace(p, '')\n",
        "            return doc_trans\n",
        "\n",
        "        return [strip_punc_from_doc(doc) for doc in X]\n",
        "\n",
        "    def fit(self, X, y=None):\n",
        "        return self\n",
        "\n",
        "    def transform(self, X):\n",
        "        if isinstance(X, pd.Series):\n",
        "            X = X.to_list()\n",
        "\n",
        "        X_trans = X\n",
        "        X_trans = [doc.lower() for doc in X_trans]\n",
        "        X_trans = Preprocessor.strip_html(X_trans)\n",
        "        X_trans = Preprocessor.strip_forward_slashes(X_trans)\n",
        "        X_trans = Preprocessor.strip_punctuation(X_trans)\n",
        "\n",
        "        return X_trans"
      ]
    },
    {
      "cell_type": "markdown",
      "metadata": {
        "id": "J6OwlrxwAl36"
      },
      "source": [
        "To see Preprocessor in action, pick a random movie review:"
      ]
    },
    {
      "cell_type": "code",
      "execution_count": 28,
      "metadata": {
        "colab": {
          "base_uri": "https://localhost:8080/"
        },
        "id": "FKlkpY7qAl36",
        "outputId": "4673b9df-65fe-45a6-a00b-302394618b25"
      },
      "outputs": [
        {
          "output_type": "stream",
          "name": "stdout",
          "text": [
            "If you ever watched the Dukes of Hazard you know that you never had to worry about drugs or cussing or crude behavior being seen by young children. If you've seen the movie you know that is no longer the case! This movie was HORRIBLE! Main characters doing drugs and thinking it is funny and cool is certainly not what I call entertainment. They took a wonderful show and just turned it into trash. Daisy who was a little flirtatious in the original show now looks and acts like she belongs on the street corner getting paid for her services. I was so excited about seeing this movie before it came out, 15 minutes into the movie I was ready to leave. I stayed thinking it had to get better but instead it got worse by the minute. I wish I had never seen this movie. It trashed a good show and left nothing but horrible taste in my mouth when I left. Do yourself a favor, go see something worth your money, cause it's not only a waste of money but a waste of 2 hours of your life you will never get back!\n",
            "\n",
            "if you ever watched the dukes of hazard you know that you never had to worry about drugs or cussing or crude behavior being seen by young children if youve seen the movie you know that is no longer the case this movie was horrible main characters doing drugs and thinking it is funny and cool is certainly not what i call entertainment they took a wonderful show and just turned it into trash daisy who was a little flirtatious in the original show now looks and acts like she belongs on the street corner getting paid for her services i was so excited about seeing this movie before it came out 15 minutes into the movie i was ready to leave i stayed thinking it had to get better but instead it got worse by the minute i wish i had never seen this movie it trashed a good show and left nothing but horrible taste in my mouth when i left do yourself a favor go see something worth your money cause its not only a waste of money but a waste of 2 hours of your life you will never get back\n"
          ]
        }
      ],
      "source": [
        "preprocessor = Preprocessor()\n",
        "\n",
        "doc = train['text'].sample()\n",
        "doc_preprocessed = preprocessor.transform(doc)\n",
        "\n",
        "print(doc.to_list()[0])\n",
        "print()\n",
        "print(doc_preprocessed[0])"
      ]
    },
    {
      "cell_type": "markdown",
      "metadata": {
        "id": "I8ImtNQfAl36"
      },
      "source": [
        "## Tokenizer"
      ]
    },
    {
      "cell_type": "markdown",
      "metadata": {
        "id": "iWYN34CRAl36"
      },
      "source": [
        "The tokenizer removes English stop words and stems the corpus."
      ]
    },
    {
      "cell_type": "code",
      "execution_count": 29,
      "metadata": {
        "id": "qIhbKXzFAl36"
      },
      "outputs": [],
      "source": [
        "class Tokenizer(BaseEstimator, TransformerMixin):\n",
        "    def __init__(self, stemmer, stop_words=None):\n",
        "        \"\"\"\n",
        "        Initialize a Tokenizer.\n",
        "\n",
        "        :param stemmer: An instance of a word stemmer\n",
        "        :param stop_words: A list of words to remove from the corpus\n",
        "        \"\"\"\n",
        "        self.stemmer = stemmer\n",
        "        self.stop_words = stop_words\n",
        "\n",
        "    def remove_stop_words(self, X):\n",
        "        \"\"\"\n",
        "        Remove stop words from a corpus X.\n",
        "        \"\"\"\n",
        "        def remove_stop_words_from_doc(doc):\n",
        "            \"\"\"Remove stop words from a document doc.\"\"\"\n",
        "            doc_trans = []\n",
        "            for word in doc:\n",
        "                if word not in self.stop_words:\n",
        "                    doc_trans.append(word)\n",
        "            return doc_trans\n",
        "\n",
        "        return [remove_stop_words_from_doc(doc) for doc in X]\n",
        "\n",
        "    def stem(self, X):\n",
        "        \"\"\"\n",
        "        Stem a corpus X.\n",
        "        \"\"\"\n",
        "        def stem_doc(doc):\n",
        "            \"\"\"Stem a document doc.\"\"\"\n",
        "            return_doc = []\n",
        "            for word in doc:\n",
        "                return_doc.append(self.stemmer.stem(word))\n",
        "            return return_doc\n",
        "\n",
        "        return [stem_doc(doc) for doc in X]\n",
        "\n",
        "    def fit(self, X, y=None):\n",
        "        return self\n",
        "\n",
        "    def transform(self, X):\n",
        "        if isinstance(X, pd.Series):\n",
        "            X = X.to_list()\n",
        "\n",
        "        X_trans = X\n",
        "        X_trans = [doc.split() for doc in X_trans]\n",
        "        X_trans = self.remove_stop_words(X_trans)\n",
        "        X_trans = self.stem(X_trans)\n",
        "        X_trans = [' '.join(doc) for doc in X_trans]\n",
        "\n",
        "        return X_trans"
      ]
    },
    {
      "cell_type": "markdown",
      "metadata": {
        "id": "-vcEsH_eAl37"
      },
      "source": [
        "To see Tokenizer in action, transform the previously preprocessed movie review."
      ]
    },
    {
      "cell_type": "code",
      "execution_count": 30,
      "metadata": {
        "colab": {
          "base_uri": "https://localhost:8080/"
        },
        "id": "dCbxTmNTAl37",
        "outputId": "886fb799-9310-45bf-b7db-54aee94be695"
      },
      "outputs": [
        {
          "output_type": "stream",
          "name": "stdout",
          "text": [
            "if you ever watched the dukes of hazard you know that you never had to worry about drugs or cussing or crude behavior being seen by young children if youve seen the movie you know that is no longer the case this movie was horrible main characters doing drugs and thinking it is funny and cool is certainly not what i call entertainment they took a wonderful show and just turned it into trash daisy who was a little flirtatious in the original show now looks and acts like she belongs on the street corner getting paid for her services i was so excited about seeing this movie before it came out 15 minutes into the movie i was ready to leave i stayed thinking it had to get better but instead it got worse by the minute i wish i had never seen this movie it trashed a good show and left nothing but horrible taste in my mouth when i left do yourself a favor go see something worth your money cause its not only a waste of money but a waste of 2 hours of your life you will never get back\n",
            "\n",
            "watch duke hazard know worri drug cuss crude behavior seen young children youv seen movi know longer case movi horribl main charact do drug think funni cool certainli entertain took wonder just turn trash daisi littl flirtati origin look act like belong street corner get paid servic excit see movi came 15 minut movi readi leav stay think better instead got wors minut wish seen movi trash good left horribl tast mouth left favor worth money caus wast money wast 2 hour life\n"
          ]
        }
      ],
      "source": [
        "tokenizer = Tokenizer(PorterStemmer(), ENGLISH_STOP_WORDS)\n",
        "\n",
        "doc_tokenized = tokenizer.transform(doc_preprocessed)\n",
        "\n",
        "print(doc_preprocessed[0])\n",
        "print()\n",
        "print(doc_tokenized[0])"
      ]
    },
    {
      "cell_type": "markdown",
      "metadata": {
        "id": "2YAgpYi-Al37"
      },
      "source": [
        "## Classifer"
      ]
    },
    {
      "cell_type": "markdown",
      "source": [
        "I train and test logistic regression, random forest, and support vector machine classifiers on the IMDB movie reviews. I score the models using F1-score because the train set is balanced and the consequences of misclassifying a positive review are the same as misclassifying a negative review."
      ],
      "metadata": {
        "id": "kTpL6bQ28FgG"
      }
    },
    {
      "cell_type": "code",
      "execution_count": 31,
      "metadata": {
        "id": "FQEm6eAbAl37"
      },
      "outputs": [],
      "source": [
        "X_train, X_test, y_train, y_test =\\\n",
        "    train['text'], test['text'], train['label'], test['label']"
      ]
    },
    {
      "cell_type": "code",
      "source": [
        "n_iter = 25  # num iterations per randomized grid search"
      ],
      "metadata": {
        "id": "ifrKawQH844U"
      },
      "execution_count": 32,
      "outputs": []
    },
    {
      "cell_type": "markdown",
      "metadata": {
        "id": "9uGBmXsNAl37"
      },
      "source": [
        "### Logistic Regression"
      ]
    },
    {
      "cell_type": "code",
      "source": [
        "vectorizer = TfidfVectorizer(\n",
        "    max_df = 0.95,\n",
        "    min_df = 2,\n",
        "    max_features = 10_000,\n",
        "    strip_accents='unicode'\n",
        ")\n",
        "\n",
        "cleaner = Pipeline([\n",
        "    ('preprocessor', Preprocessor()),\n",
        "    ('tokenizer', Tokenizer(PorterStemmer(), ENGLISH_STOP_WORDS)),\n",
        "    ('vectorizer', vectorizer)\n",
        "])"
      ],
      "metadata": {
        "id": "KKSbw_iiRoRn"
      },
      "execution_count": 33,
      "outputs": []
    },
    {
      "cell_type": "code",
      "execution_count": 34,
      "metadata": {
        "id": "jWfWV2_sAl37"
      },
      "outputs": [],
      "source": [
        "lr = LogisticRegression(\n",
        "    penalty='l2',\n",
        "    solver='saga',\n",
        "    max_iter=500\n",
        ")\n",
        "\n",
        "pipe = Pipeline([\n",
        "    ('cleaner', cleaner),\n",
        "    ('classifier', lr)\n",
        "])\n",
        "\n",
        "param_distributions = {\n",
        "    'classifier__C': loguniform(1e-2, 1e2)\n",
        "}\n",
        "\n",
        "search_lr = RandomizedSearchCV(\n",
        "    estimator=pipe,\n",
        "    param_distributions=param_distributions,\n",
        "    n_iter=n_iter,\n",
        "    scoring=make_scorer(f1_score),\n",
        "    n_jobs=-1,\n",
        "    refit=True\n",
        ")"
      ]
    },
    {
      "cell_type": "code",
      "execution_count": 35,
      "metadata": {
        "id": "lOa1gKCmAl38"
      },
      "outputs": [],
      "source": [
        "search_lr.fit(X_train, y_train);"
      ]
    },
    {
      "cell_type": "code",
      "source": [
        "test_score_lr = search_lr.score(X_test, y_test)\n",
        "\n",
        "print(f'Best parameters: {search_lr.best_params_}')\n",
        "print(f'F1-score: {test_score_lr}')"
      ],
      "metadata": {
        "colab": {
          "base_uri": "https://localhost:8080/"
        },
        "id": "s2vSpT-GYX6E",
        "outputId": "2794eaba-3100-4e2d-ad81-f95caf857d9c"
      },
      "execution_count": 36,
      "outputs": [
        {
          "output_type": "stream",
          "name": "stdout",
          "text": [
            "Best parameters: {'classifier__C': 0.8037855463158128}\n",
            "F1-score: 0.8747107174207964\n"
          ]
        }
      ]
    },
    {
      "cell_type": "code",
      "source": [
        "best_model = search_lr.best_estimator_\n",
        "best_score = test_score_lr"
      ],
      "metadata": {
        "id": "-deFy3WYMqAu"
      },
      "execution_count": 37,
      "outputs": []
    },
    {
      "cell_type": "markdown",
      "source": [
        "### Random Forest"
      ],
      "metadata": {
        "id": "lKqLIcDJNnyK"
      }
    },
    {
      "cell_type": "code",
      "execution_count": 38,
      "metadata": {
        "id": "PRP4PVpwAl38"
      },
      "outputs": [],
      "source": [
        "rfc = RandomForestClassifier()\n",
        "\n",
        "pipe = Pipeline([\n",
        "    ('cleaner', cleaner),\n",
        "    ('classifier', rfc)\n",
        "])\n",
        "\n",
        "param_distributions = {\n",
        "    'classifier__n_estimators': [10, 30, 100, 300, 1000],\n",
        "    'classifier__max_depth': list(range(10, 101)),\n",
        "    'classifier__min_samples_split': list(range(2, 11)),\n",
        "    'classifier__min_samples_leaf': list(range(1, 11))\n",
        "}\n",
        "\n",
        "search_rfc = RandomizedSearchCV(\n",
        "    estimator=pipe,\n",
        "    param_distributions=param_distributions,\n",
        "    n_iter=n_iter,\n",
        "    scoring=make_scorer(f1_score),\n",
        "    n_jobs=-1,\n",
        "    refit=True\n",
        ")"
      ]
    },
    {
      "cell_type": "code",
      "source": [
        "search_rfc.fit(X_train, y_train);"
      ],
      "metadata": {
        "id": "VpVfqqUrOVKk"
      },
      "execution_count": 39,
      "outputs": []
    },
    {
      "cell_type": "code",
      "source": [
        "test_score_rfc = search_rfc.score(X_test, y_test)\n",
        "\n",
        "print(f'Best parameters: {search_rfc.best_params_}')\n",
        "print(f'Test F1-score: {test_score_rfc}')"
      ],
      "metadata": {
        "colab": {
          "base_uri": "https://localhost:8080/"
        },
        "id": "vtZIsatbZBi1",
        "outputId": "4fc53369-970b-4ad2-8e78-558040b1bb52"
      },
      "execution_count": 40,
      "outputs": [
        {
          "output_type": "stream",
          "name": "stdout",
          "text": [
            "Best parameters: {'classifier__n_estimators': 300, 'classifier__min_samples_split': 7, 'classifier__min_samples_leaf': 2, 'classifier__max_depth': 57}\n",
            "Test F1-score: 0.8498804780876493\n"
          ]
        }
      ]
    },
    {
      "cell_type": "code",
      "source": [
        "if test_score_rfc > best_score:\n",
        "    best_model = search_rfc.best_estimator_\n",
        "    best_score = test_score_rfc"
      ],
      "metadata": {
        "id": "_PI7XehrNS_0"
      },
      "execution_count": 41,
      "outputs": []
    },
    {
      "cell_type": "markdown",
      "source": [
        "### Support Vector Machine"
      ],
      "metadata": {
        "id": "_4dTJFlzdR5J"
      }
    },
    {
      "cell_type": "code",
      "source": [
        "svc = LinearSVC(penalty='l2')\n",
        "\n",
        "pipe = Pipeline([\n",
        "    ('cleaner', cleaner),\n",
        "    ('classifier', svc)\n",
        "])\n",
        "\n",
        "param_distributions = {\n",
        "    'classifier__C': loguniform(1e-2, 1e2),\n",
        "    'classifier__max_iter': [10, 30, 100, 300, 1000]\n",
        "}\n",
        "\n",
        "search_svc = RandomizedSearchCV(\n",
        "    estimator=pipe,\n",
        "    param_distributions=param_distributions,\n",
        "    n_iter=n_iter,\n",
        "    scoring=make_scorer(f1_score),\n",
        "    n_jobs=-1,\n",
        "    refit=True\n",
        ")"
      ],
      "metadata": {
        "id": "OzZlXEXIdXPD"
      },
      "execution_count": 42,
      "outputs": []
    },
    {
      "cell_type": "code",
      "source": [
        "search_svc.fit(X_train, y_train);"
      ],
      "metadata": {
        "collapsed": true,
        "id": "-ol8BGeDeQ6A"
      },
      "execution_count": 45,
      "outputs": []
    },
    {
      "cell_type": "code",
      "source": [
        "test_score_svc = search_svc.score(X_test, y_test)\n",
        "\n",
        "print(f'Best model: {search_svc.best_params_}')\n",
        "print(f'Test F1-score: {test_score_svc}')"
      ],
      "metadata": {
        "colab": {
          "base_uri": "https://localhost:8080/"
        },
        "id": "DKeHEuvyeYFv",
        "outputId": "1ac87511-2657-43d8-cade-84158a5a44c2"
      },
      "execution_count": 46,
      "outputs": [
        {
          "output_type": "stream",
          "name": "stdout",
          "text": [
            "Best model: {'classifier__C': 0.0490974930842273, 'classifier__max_iter': 30}\n",
            "Test F1-score: 0.8736324718566673\n"
          ]
        }
      ]
    },
    {
      "cell_type": "code",
      "source": [
        "if test_score_svc > best_score:\n",
        "    best_model = search_svc.best_estimator_\n",
        "    best_score = test_score_svc"
      ],
      "metadata": {
        "id": "I7XR2vcANmlO"
      },
      "execution_count": 47,
      "outputs": []
    },
    {
      "cell_type": "markdown",
      "source": [
        "## Conclusion"
      ],
      "metadata": {
        "id": "E4nMSB0TUPEH"
      }
    },
    {
      "cell_type": "code",
      "source": [
        "print(f'Test F1-scores:')\n",
        "print(f'    Logistic regression: {test_score_lr}')\n",
        "print(f'    Random forest: {test_score_rfc}')\n",
        "print(f'    Support vector machine: {test_score_svc}')"
      ],
      "metadata": {
        "colab": {
          "base_uri": "https://localhost:8080/"
        },
        "id": "OIYkP5g2UTM4",
        "outputId": "3beab958-82ef-400d-f59f-adca0f3129db"
      },
      "execution_count": 48,
      "outputs": [
        {
          "output_type": "stream",
          "name": "stdout",
          "text": [
            "Test F1-scores:\n",
            "    Logistic regression: 0.8747107174207964\n",
            "    Random forest: 0.8498804780876493\n",
            "    Support vector machine: 0.8736324718566673\n"
          ]
        }
      ]
    },
    {
      "cell_type": "markdown",
      "source": [
        "I pickle the best-performing model so that it can be deployed later."
      ],
      "metadata": {
        "id": "w0xrCOYo9eJK"
      }
    },
    {
      "cell_type": "code",
      "source": [
        "models_dir = 'MyDrive/projects/movie-review-classifier/models'\n",
        "with open(f'/content/drive/{models_dir}/best_model.pkl', 'wb') as file:\n",
        "    pickle.dump(best_model, file)"
      ],
      "metadata": {
        "id": "oZT0s9JA6DZB"
      },
      "execution_count": 49,
      "outputs": []
    }
  ],
  "metadata": {
    "kernelspec": {
      "display_name": "Python 3",
      "name": "python3"
    },
    "language_info": {
      "name": "python"
    },
    "colab": {
      "provenance": []
    }
  },
  "nbformat": 4,
  "nbformat_minor": 0
}