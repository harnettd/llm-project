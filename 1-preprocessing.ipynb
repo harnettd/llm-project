{
  "cells": [
    {
      "cell_type": "markdown",
      "metadata": {
        "id": "0KIIomXgAl3t"
      },
      "source": [
        "# 1. Sentiment Analysis of Movie Reviews using scikit-learn"
      ]
    },
    {
      "cell_type": "markdown",
      "metadata": {
        "id": "67ZjtS_aAl3w"
      },
      "source": [
        "In this notebook, I perform sentiment analysis of movie reviews using `scikit-learn`.\n",
        "\n",
        "The dataset consists of 50k highly polarized (*clearly* favourable or unfavourable) movie reviews from IMBD. The set is partitioned into a labelled train set of 25k reviews and a labelled test set of 25k reviews. The reviews are preprocessed by lower-casing, removing HTML tags, and removing punctutation. The reviews are then tokenized, removing English stop words, and stemmed. Corpus vectorization is implemented using `TfidfVectorizer`. Multiple classification models are trained and tested on the results."
      ]
    },
    {
      "cell_type": "markdown",
      "metadata": {
        "id": "dkrHBlbYAl3x"
      },
      "source": [
        "## Imports"
      ]
    },
    {
      "cell_type": "code",
      "source": [
        "!pip install datasets"
      ],
      "metadata": {
        "collapsed": true,
        "id": "v_qLLHovA2MB"
      },
      "execution_count": null,
      "outputs": []
    },
    {
      "cell_type": "code",
      "execution_count": 2,
      "metadata": {
        "id": "kqlKD6gqAl3x"
      },
      "outputs": [],
      "source": [
        "import matplotlib.pyplot as plt\n",
        "import pandas as pd\n",
        "import re\n",
        "\n",
        "from nltk import PorterStemmer\n",
        "\n",
        "from sklearn.base import BaseEstimator, TransformerMixin\n",
        "from sklearn.feature_extraction.text import ENGLISH_STOP_WORDS, TfidfVectorizer\n",
        "from sklearn.linear_model import LogisticRegression\n",
        "from sklearn.svm import LinearSVC\n",
        "from sklearn.ensemble import RandomForestClassifier\n",
        "from sklearn.pipeline import Pipeline\n",
        "from sklearn.model_selection import RandomizedSearchCV\n",
        "from sklearn.metrics import f1_score, make_scorer\n",
        "\n",
        "from scipy.stats import loguniform, uniform\n",
        "from string import punctuation\n",
        "from datasets import load_dataset"
      ]
    },
    {
      "cell_type": "markdown",
      "metadata": {
        "id": "GtGIM-fHAl3z"
      },
      "source": [
        "## Load IMDB Dataset"
      ]
    },
    {
      "cell_type": "code",
      "execution_count": null,
      "metadata": {
        "id": "cFKINTFAAl3z"
      },
      "outputs": [],
      "source": [
        "ds = load_dataset('imdb')\n",
        "train, test = pd.DataFrame(ds['train']), pd.DataFrame(ds['test'])"
      ]
    },
    {
      "cell_type": "markdown",
      "metadata": {
        "id": "mZC1PiMoAl30"
      },
      "source": [
        "In the following DataFrame samples, a label of 0 corresponds to a negative review (*i.e.,* thumbs-down) whereas a label of 1 corresponds to a positive review (*i.e.,* thumbs-up)."
      ]
    },
    {
      "cell_type": "code",
      "execution_count": 4,
      "metadata": {
        "colab": {
          "base_uri": "https://localhost:8080/",
          "height": 206
        },
        "id": "RyHpQb8PAl30",
        "outputId": "cb81cb07-5513-4d28-bcd1-98ce6b8d1f0e"
      },
      "outputs": [
        {
          "output_type": "execute_result",
          "data": {
            "text/plain": [
              "                                                    text  label\n",
              "6293   This movie was amusing at times, hell sometime...      0\n",
              "14522  This final Voyager episode begins 23 years in ...      1\n",
              "3068   There have been very few films I have not been...      0\n",
              "8360   From the stupid \"quaint African natives\" trave...      0\n",
              "13726  This film is exactly what its title describes-...      1"
            ],
            "text/html": [
              "\n",
              "  <div id=\"df-1972ffcf-061b-46db-8270-248483cabc8f\" class=\"colab-df-container\">\n",
              "    <div>\n",
              "<style scoped>\n",
              "    .dataframe tbody tr th:only-of-type {\n",
              "        vertical-align: middle;\n",
              "    }\n",
              "\n",
              "    .dataframe tbody tr th {\n",
              "        vertical-align: top;\n",
              "    }\n",
              "\n",
              "    .dataframe thead th {\n",
              "        text-align: right;\n",
              "    }\n",
              "</style>\n",
              "<table border=\"1\" class=\"dataframe\">\n",
              "  <thead>\n",
              "    <tr style=\"text-align: right;\">\n",
              "      <th></th>\n",
              "      <th>text</th>\n",
              "      <th>label</th>\n",
              "    </tr>\n",
              "  </thead>\n",
              "  <tbody>\n",
              "    <tr>\n",
              "      <th>6293</th>\n",
              "      <td>This movie was amusing at times, hell sometime...</td>\n",
              "      <td>0</td>\n",
              "    </tr>\n",
              "    <tr>\n",
              "      <th>14522</th>\n",
              "      <td>This final Voyager episode begins 23 years in ...</td>\n",
              "      <td>1</td>\n",
              "    </tr>\n",
              "    <tr>\n",
              "      <th>3068</th>\n",
              "      <td>There have been very few films I have not been...</td>\n",
              "      <td>0</td>\n",
              "    </tr>\n",
              "    <tr>\n",
              "      <th>8360</th>\n",
              "      <td>From the stupid \"quaint African natives\" trave...</td>\n",
              "      <td>0</td>\n",
              "    </tr>\n",
              "    <tr>\n",
              "      <th>13726</th>\n",
              "      <td>This film is exactly what its title describes-...</td>\n",
              "      <td>1</td>\n",
              "    </tr>\n",
              "  </tbody>\n",
              "</table>\n",
              "</div>\n",
              "    <div class=\"colab-df-buttons\">\n",
              "\n",
              "  <div class=\"colab-df-container\">\n",
              "    <button class=\"colab-df-convert\" onclick=\"convertToInteractive('df-1972ffcf-061b-46db-8270-248483cabc8f')\"\n",
              "            title=\"Convert this dataframe to an interactive table.\"\n",
              "            style=\"display:none;\">\n",
              "\n",
              "  <svg xmlns=\"http://www.w3.org/2000/svg\" height=\"24px\" viewBox=\"0 -960 960 960\">\n",
              "    <path d=\"M120-120v-720h720v720H120Zm60-500h600v-160H180v160Zm220 220h160v-160H400v160Zm0 220h160v-160H400v160ZM180-400h160v-160H180v160Zm440 0h160v-160H620v160ZM180-180h160v-160H180v160Zm440 0h160v-160H620v160Z\"/>\n",
              "  </svg>\n",
              "    </button>\n",
              "\n",
              "  <style>\n",
              "    .colab-df-container {\n",
              "      display:flex;\n",
              "      gap: 12px;\n",
              "    }\n",
              "\n",
              "    .colab-df-convert {\n",
              "      background-color: #E8F0FE;\n",
              "      border: none;\n",
              "      border-radius: 50%;\n",
              "      cursor: pointer;\n",
              "      display: none;\n",
              "      fill: #1967D2;\n",
              "      height: 32px;\n",
              "      padding: 0 0 0 0;\n",
              "      width: 32px;\n",
              "    }\n",
              "\n",
              "    .colab-df-convert:hover {\n",
              "      background-color: #E2EBFA;\n",
              "      box-shadow: 0px 1px 2px rgba(60, 64, 67, 0.3), 0px 1px 3px 1px rgba(60, 64, 67, 0.15);\n",
              "      fill: #174EA6;\n",
              "    }\n",
              "\n",
              "    .colab-df-buttons div {\n",
              "      margin-bottom: 4px;\n",
              "    }\n",
              "\n",
              "    [theme=dark] .colab-df-convert {\n",
              "      background-color: #3B4455;\n",
              "      fill: #D2E3FC;\n",
              "    }\n",
              "\n",
              "    [theme=dark] .colab-df-convert:hover {\n",
              "      background-color: #434B5C;\n",
              "      box-shadow: 0px 1px 3px 1px rgba(0, 0, 0, 0.15);\n",
              "      filter: drop-shadow(0px 1px 2px rgba(0, 0, 0, 0.3));\n",
              "      fill: #FFFFFF;\n",
              "    }\n",
              "  </style>\n",
              "\n",
              "    <script>\n",
              "      const buttonEl =\n",
              "        document.querySelector('#df-1972ffcf-061b-46db-8270-248483cabc8f button.colab-df-convert');\n",
              "      buttonEl.style.display =\n",
              "        google.colab.kernel.accessAllowed ? 'block' : 'none';\n",
              "\n",
              "      async function convertToInteractive(key) {\n",
              "        const element = document.querySelector('#df-1972ffcf-061b-46db-8270-248483cabc8f');\n",
              "        const dataTable =\n",
              "          await google.colab.kernel.invokeFunction('convertToInteractive',\n",
              "                                                    [key], {});\n",
              "        if (!dataTable) return;\n",
              "\n",
              "        const docLinkHtml = 'Like what you see? Visit the ' +\n",
              "          '<a target=\"_blank\" href=https://colab.research.google.com/notebooks/data_table.ipynb>data table notebook</a>'\n",
              "          + ' to learn more about interactive tables.';\n",
              "        element.innerHTML = '';\n",
              "        dataTable['output_type'] = 'display_data';\n",
              "        await google.colab.output.renderOutput(dataTable, element);\n",
              "        const docLink = document.createElement('div');\n",
              "        docLink.innerHTML = docLinkHtml;\n",
              "        element.appendChild(docLink);\n",
              "      }\n",
              "    </script>\n",
              "  </div>\n",
              "\n",
              "\n",
              "<div id=\"df-9c8f4aca-e7ac-4e68-8822-53bc1cddadbc\">\n",
              "  <button class=\"colab-df-quickchart\" onclick=\"quickchart('df-9c8f4aca-e7ac-4e68-8822-53bc1cddadbc')\"\n",
              "            title=\"Suggest charts\"\n",
              "            style=\"display:none;\">\n",
              "\n",
              "<svg xmlns=\"http://www.w3.org/2000/svg\" height=\"24px\"viewBox=\"0 0 24 24\"\n",
              "     width=\"24px\">\n",
              "    <g>\n",
              "        <path d=\"M19 3H5c-1.1 0-2 .9-2 2v14c0 1.1.9 2 2 2h14c1.1 0 2-.9 2-2V5c0-1.1-.9-2-2-2zM9 17H7v-7h2v7zm4 0h-2V7h2v10zm4 0h-2v-4h2v4z\"/>\n",
              "    </g>\n",
              "</svg>\n",
              "  </button>\n",
              "\n",
              "<style>\n",
              "  .colab-df-quickchart {\n",
              "      --bg-color: #E8F0FE;\n",
              "      --fill-color: #1967D2;\n",
              "      --hover-bg-color: #E2EBFA;\n",
              "      --hover-fill-color: #174EA6;\n",
              "      --disabled-fill-color: #AAA;\n",
              "      --disabled-bg-color: #DDD;\n",
              "  }\n",
              "\n",
              "  [theme=dark] .colab-df-quickchart {\n",
              "      --bg-color: #3B4455;\n",
              "      --fill-color: #D2E3FC;\n",
              "      --hover-bg-color: #434B5C;\n",
              "      --hover-fill-color: #FFFFFF;\n",
              "      --disabled-bg-color: #3B4455;\n",
              "      --disabled-fill-color: #666;\n",
              "  }\n",
              "\n",
              "  .colab-df-quickchart {\n",
              "    background-color: var(--bg-color);\n",
              "    border: none;\n",
              "    border-radius: 50%;\n",
              "    cursor: pointer;\n",
              "    display: none;\n",
              "    fill: var(--fill-color);\n",
              "    height: 32px;\n",
              "    padding: 0;\n",
              "    width: 32px;\n",
              "  }\n",
              "\n",
              "  .colab-df-quickchart:hover {\n",
              "    background-color: var(--hover-bg-color);\n",
              "    box-shadow: 0 1px 2px rgba(60, 64, 67, 0.3), 0 1px 3px 1px rgba(60, 64, 67, 0.15);\n",
              "    fill: var(--button-hover-fill-color);\n",
              "  }\n",
              "\n",
              "  .colab-df-quickchart-complete:disabled,\n",
              "  .colab-df-quickchart-complete:disabled:hover {\n",
              "    background-color: var(--disabled-bg-color);\n",
              "    fill: var(--disabled-fill-color);\n",
              "    box-shadow: none;\n",
              "  }\n",
              "\n",
              "  .colab-df-spinner {\n",
              "    border: 2px solid var(--fill-color);\n",
              "    border-color: transparent;\n",
              "    border-bottom-color: var(--fill-color);\n",
              "    animation:\n",
              "      spin 1s steps(1) infinite;\n",
              "  }\n",
              "\n",
              "  @keyframes spin {\n",
              "    0% {\n",
              "      border-color: transparent;\n",
              "      border-bottom-color: var(--fill-color);\n",
              "      border-left-color: var(--fill-color);\n",
              "    }\n",
              "    20% {\n",
              "      border-color: transparent;\n",
              "      border-left-color: var(--fill-color);\n",
              "      border-top-color: var(--fill-color);\n",
              "    }\n",
              "    30% {\n",
              "      border-color: transparent;\n",
              "      border-left-color: var(--fill-color);\n",
              "      border-top-color: var(--fill-color);\n",
              "      border-right-color: var(--fill-color);\n",
              "    }\n",
              "    40% {\n",
              "      border-color: transparent;\n",
              "      border-right-color: var(--fill-color);\n",
              "      border-top-color: var(--fill-color);\n",
              "    }\n",
              "    60% {\n",
              "      border-color: transparent;\n",
              "      border-right-color: var(--fill-color);\n",
              "    }\n",
              "    80% {\n",
              "      border-color: transparent;\n",
              "      border-right-color: var(--fill-color);\n",
              "      border-bottom-color: var(--fill-color);\n",
              "    }\n",
              "    90% {\n",
              "      border-color: transparent;\n",
              "      border-bottom-color: var(--fill-color);\n",
              "    }\n",
              "  }\n",
              "</style>\n",
              "\n",
              "  <script>\n",
              "    async function quickchart(key) {\n",
              "      const quickchartButtonEl =\n",
              "        document.querySelector('#' + key + ' button');\n",
              "      quickchartButtonEl.disabled = true;  // To prevent multiple clicks.\n",
              "      quickchartButtonEl.classList.add('colab-df-spinner');\n",
              "      try {\n",
              "        const charts = await google.colab.kernel.invokeFunction(\n",
              "            'suggestCharts', [key], {});\n",
              "      } catch (error) {\n",
              "        console.error('Error during call to suggestCharts:', error);\n",
              "      }\n",
              "      quickchartButtonEl.classList.remove('colab-df-spinner');\n",
              "      quickchartButtonEl.classList.add('colab-df-quickchart-complete');\n",
              "    }\n",
              "    (() => {\n",
              "      let quickchartButtonEl =\n",
              "        document.querySelector('#df-9c8f4aca-e7ac-4e68-8822-53bc1cddadbc button');\n",
              "      quickchartButtonEl.style.display =\n",
              "        google.colab.kernel.accessAllowed ? 'block' : 'none';\n",
              "    })();\n",
              "  </script>\n",
              "</div>\n",
              "\n",
              "    </div>\n",
              "  </div>\n"
            ],
            "application/vnd.google.colaboratory.intrinsic+json": {
              "type": "dataframe",
              "summary": "{\n  \"name\": \"train\",\n  \"rows\": 5,\n  \"fields\": [\n    {\n      \"column\": \"text\",\n      \"properties\": {\n        \"dtype\": \"string\",\n        \"num_unique_values\": 5,\n        \"samples\": [\n          \"This final Voyager episode begins 23 years in the future. Voyager has made it back home. In the many years it took to return tho, the Vulcan Tuvoks' mind has been destroyed. He carried a disease they were too late getting home to cure.<br /><br />Captain Janeway comes across aliens who have time travel technology. She realizes, there's a Warp Conduit in the Delta Quadrant that could bring Voyager home immediately - if she could go back in time and notify Voyager. There's one problem. The Conduit is deep inside Borg Space.<br /><br />Janeway visits Tuvok. He's like a child. He scribbles tho, obsessed, working on math problems or movie reviews or something, he's convinced are important somehow. In the institution, Tuvok cries, asking for 'Janeway' to please, please come back to him.<br /><br />Janeway decides to commandeer a federation shuttle and equip it with weapons technology 20 years ahead of the Borg, in the hopes of going back in time and using this new technology to guide Voyager to the Warp Conduit.<br /><br />When she goes back in time and links up with Voyager, Janeway meets her younger self. The two captains disagree, arguing about the plan. The real-captain visits Tuvok asking him if it's true he has a brain disorder. Tuvok admits it's true, but it can't be cured by the facilities on the ship so he's kept it to himself.<br /><br />The young Captain agrees to the older Captains' plan. To increase their chances of success the older Janeway plans to distract the Borg with her shuttle craft. The Borg actually capture Janeway and her shuttle. The Borg Queen personally assimilates Captain Janeway. But Janeway's expected this! the Borg Queen has assimilated a virus into herself that kills her. With the Borg Queen dead Voyager makes it thru the Warp Conduit back to federation space.\",\n          \"This film is exactly what its title describes--an attempt to get you to buy into what the writers have to offer.<br /><br />First, it's kinda fun to see the 1996-style Toronto I remember with all its silly haircuts, sunglasses, clothes, and attitude. It really hasn't changed any; just a nice, safe, cheap, provincial little urban backwater that makes a great meeting place for international film types! It's also amusing to see Kenny and Spenny head to L.A. and find out that it's Toronto all over again, only with a strange assortment of beach bums, musicians, fortune tellers, and yet more uppity film types.<br /><br />I don't see Pitch as a film to be enjoyed; it's not entertainment unless the viewer enjoys watching someone's aspirations being trampled. I take Pitch as a warning that power and money is really held by studio execs and production houses. Would-be (and \\\"successful\\\") writers, musicians, and actors are still mere transients even when they reach the Big Time.<br /><br />So, Kenny and Spenny are trying to sell you a warning. Buy it or don't, but the message is still there.\",\n          \"There have been very few films I have not been able to sit through. I made it through Battle Field Earth no problem. But this, This is one of the single worst films EVER to be made. I understand Whoopi Goldberg tried to get of acting in it. I do not blame her. I would feel ashamed to have this on a resume. I belive it is a rare occasion when almost every gag in a film falls flat on it's face. Well it happens here. Not to mention the SFX, look for the dino with the control cables hanging out of it rear end!!!!!! Halfway through the film I was still looking for a plot. I never found one. Save yourself the trouble of renting this and save 90 minutes of your life.\"\n        ],\n        \"semantic_type\": \"\",\n        \"description\": \"\"\n      }\n    },\n    {\n      \"column\": \"label\",\n      \"properties\": {\n        \"dtype\": \"number\",\n        \"std\": 0,\n        \"min\": 0,\n        \"max\": 1,\n        \"num_unique_values\": 2,\n        \"samples\": [\n          1,\n          0\n        ],\n        \"semantic_type\": \"\",\n        \"description\": \"\"\n      }\n    }\n  ]\n}"
            }
          },
          "metadata": {},
          "execution_count": 4
        }
      ],
      "source": [
        "train.sample(5)"
      ]
    },
    {
      "cell_type": "code",
      "execution_count": 5,
      "metadata": {
        "colab": {
          "base_uri": "https://localhost:8080/",
          "height": 206
        },
        "id": "1CAvFD9NAl32",
        "outputId": "516c9249-9937-467d-f4ca-fa4063c94178"
      },
      "outputs": [
        {
          "output_type": "execute_result",
          "data": {
            "text/plain": [
              "                                                    text  label\n",
              "10964  First things first, I am by no means a picky m...      0\n",
              "20169  I haven't seen this film for over 20 years, bu...      1\n",
              "22354  And she really was beautiful (Laraine Day, tha...      1\n",
              "13652  An untidy man, known as Bill, lives in a small...      1\n",
              "2338   Your time and brains will be much better spent...      0"
            ],
            "text/html": [
              "\n",
              "  <div id=\"df-ea8816db-b2bb-487d-9fa9-48b8daba96e1\" class=\"colab-df-container\">\n",
              "    <div>\n",
              "<style scoped>\n",
              "    .dataframe tbody tr th:only-of-type {\n",
              "        vertical-align: middle;\n",
              "    }\n",
              "\n",
              "    .dataframe tbody tr th {\n",
              "        vertical-align: top;\n",
              "    }\n",
              "\n",
              "    .dataframe thead th {\n",
              "        text-align: right;\n",
              "    }\n",
              "</style>\n",
              "<table border=\"1\" class=\"dataframe\">\n",
              "  <thead>\n",
              "    <tr style=\"text-align: right;\">\n",
              "      <th></th>\n",
              "      <th>text</th>\n",
              "      <th>label</th>\n",
              "    </tr>\n",
              "  </thead>\n",
              "  <tbody>\n",
              "    <tr>\n",
              "      <th>10964</th>\n",
              "      <td>First things first, I am by no means a picky m...</td>\n",
              "      <td>0</td>\n",
              "    </tr>\n",
              "    <tr>\n",
              "      <th>20169</th>\n",
              "      <td>I haven't seen this film for over 20 years, bu...</td>\n",
              "      <td>1</td>\n",
              "    </tr>\n",
              "    <tr>\n",
              "      <th>22354</th>\n",
              "      <td>And she really was beautiful (Laraine Day, tha...</td>\n",
              "      <td>1</td>\n",
              "    </tr>\n",
              "    <tr>\n",
              "      <th>13652</th>\n",
              "      <td>An untidy man, known as Bill, lives in a small...</td>\n",
              "      <td>1</td>\n",
              "    </tr>\n",
              "    <tr>\n",
              "      <th>2338</th>\n",
              "      <td>Your time and brains will be much better spent...</td>\n",
              "      <td>0</td>\n",
              "    </tr>\n",
              "  </tbody>\n",
              "</table>\n",
              "</div>\n",
              "    <div class=\"colab-df-buttons\">\n",
              "\n",
              "  <div class=\"colab-df-container\">\n",
              "    <button class=\"colab-df-convert\" onclick=\"convertToInteractive('df-ea8816db-b2bb-487d-9fa9-48b8daba96e1')\"\n",
              "            title=\"Convert this dataframe to an interactive table.\"\n",
              "            style=\"display:none;\">\n",
              "\n",
              "  <svg xmlns=\"http://www.w3.org/2000/svg\" height=\"24px\" viewBox=\"0 -960 960 960\">\n",
              "    <path d=\"M120-120v-720h720v720H120Zm60-500h600v-160H180v160Zm220 220h160v-160H400v160Zm0 220h160v-160H400v160ZM180-400h160v-160H180v160Zm440 0h160v-160H620v160ZM180-180h160v-160H180v160Zm440 0h160v-160H620v160Z\"/>\n",
              "  </svg>\n",
              "    </button>\n",
              "\n",
              "  <style>\n",
              "    .colab-df-container {\n",
              "      display:flex;\n",
              "      gap: 12px;\n",
              "    }\n",
              "\n",
              "    .colab-df-convert {\n",
              "      background-color: #E8F0FE;\n",
              "      border: none;\n",
              "      border-radius: 50%;\n",
              "      cursor: pointer;\n",
              "      display: none;\n",
              "      fill: #1967D2;\n",
              "      height: 32px;\n",
              "      padding: 0 0 0 0;\n",
              "      width: 32px;\n",
              "    }\n",
              "\n",
              "    .colab-df-convert:hover {\n",
              "      background-color: #E2EBFA;\n",
              "      box-shadow: 0px 1px 2px rgba(60, 64, 67, 0.3), 0px 1px 3px 1px rgba(60, 64, 67, 0.15);\n",
              "      fill: #174EA6;\n",
              "    }\n",
              "\n",
              "    .colab-df-buttons div {\n",
              "      margin-bottom: 4px;\n",
              "    }\n",
              "\n",
              "    [theme=dark] .colab-df-convert {\n",
              "      background-color: #3B4455;\n",
              "      fill: #D2E3FC;\n",
              "    }\n",
              "\n",
              "    [theme=dark] .colab-df-convert:hover {\n",
              "      background-color: #434B5C;\n",
              "      box-shadow: 0px 1px 3px 1px rgba(0, 0, 0, 0.15);\n",
              "      filter: drop-shadow(0px 1px 2px rgba(0, 0, 0, 0.3));\n",
              "      fill: #FFFFFF;\n",
              "    }\n",
              "  </style>\n",
              "\n",
              "    <script>\n",
              "      const buttonEl =\n",
              "        document.querySelector('#df-ea8816db-b2bb-487d-9fa9-48b8daba96e1 button.colab-df-convert');\n",
              "      buttonEl.style.display =\n",
              "        google.colab.kernel.accessAllowed ? 'block' : 'none';\n",
              "\n",
              "      async function convertToInteractive(key) {\n",
              "        const element = document.querySelector('#df-ea8816db-b2bb-487d-9fa9-48b8daba96e1');\n",
              "        const dataTable =\n",
              "          await google.colab.kernel.invokeFunction('convertToInteractive',\n",
              "                                                    [key], {});\n",
              "        if (!dataTable) return;\n",
              "\n",
              "        const docLinkHtml = 'Like what you see? Visit the ' +\n",
              "          '<a target=\"_blank\" href=https://colab.research.google.com/notebooks/data_table.ipynb>data table notebook</a>'\n",
              "          + ' to learn more about interactive tables.';\n",
              "        element.innerHTML = '';\n",
              "        dataTable['output_type'] = 'display_data';\n",
              "        await google.colab.output.renderOutput(dataTable, element);\n",
              "        const docLink = document.createElement('div');\n",
              "        docLink.innerHTML = docLinkHtml;\n",
              "        element.appendChild(docLink);\n",
              "      }\n",
              "    </script>\n",
              "  </div>\n",
              "\n",
              "\n",
              "<div id=\"df-f6e6d543-1ec1-42a8-b4f5-9b246306ca43\">\n",
              "  <button class=\"colab-df-quickchart\" onclick=\"quickchart('df-f6e6d543-1ec1-42a8-b4f5-9b246306ca43')\"\n",
              "            title=\"Suggest charts\"\n",
              "            style=\"display:none;\">\n",
              "\n",
              "<svg xmlns=\"http://www.w3.org/2000/svg\" height=\"24px\"viewBox=\"0 0 24 24\"\n",
              "     width=\"24px\">\n",
              "    <g>\n",
              "        <path d=\"M19 3H5c-1.1 0-2 .9-2 2v14c0 1.1.9 2 2 2h14c1.1 0 2-.9 2-2V5c0-1.1-.9-2-2-2zM9 17H7v-7h2v7zm4 0h-2V7h2v10zm4 0h-2v-4h2v4z\"/>\n",
              "    </g>\n",
              "</svg>\n",
              "  </button>\n",
              "\n",
              "<style>\n",
              "  .colab-df-quickchart {\n",
              "      --bg-color: #E8F0FE;\n",
              "      --fill-color: #1967D2;\n",
              "      --hover-bg-color: #E2EBFA;\n",
              "      --hover-fill-color: #174EA6;\n",
              "      --disabled-fill-color: #AAA;\n",
              "      --disabled-bg-color: #DDD;\n",
              "  }\n",
              "\n",
              "  [theme=dark] .colab-df-quickchart {\n",
              "      --bg-color: #3B4455;\n",
              "      --fill-color: #D2E3FC;\n",
              "      --hover-bg-color: #434B5C;\n",
              "      --hover-fill-color: #FFFFFF;\n",
              "      --disabled-bg-color: #3B4455;\n",
              "      --disabled-fill-color: #666;\n",
              "  }\n",
              "\n",
              "  .colab-df-quickchart {\n",
              "    background-color: var(--bg-color);\n",
              "    border: none;\n",
              "    border-radius: 50%;\n",
              "    cursor: pointer;\n",
              "    display: none;\n",
              "    fill: var(--fill-color);\n",
              "    height: 32px;\n",
              "    padding: 0;\n",
              "    width: 32px;\n",
              "  }\n",
              "\n",
              "  .colab-df-quickchart:hover {\n",
              "    background-color: var(--hover-bg-color);\n",
              "    box-shadow: 0 1px 2px rgba(60, 64, 67, 0.3), 0 1px 3px 1px rgba(60, 64, 67, 0.15);\n",
              "    fill: var(--button-hover-fill-color);\n",
              "  }\n",
              "\n",
              "  .colab-df-quickchart-complete:disabled,\n",
              "  .colab-df-quickchart-complete:disabled:hover {\n",
              "    background-color: var(--disabled-bg-color);\n",
              "    fill: var(--disabled-fill-color);\n",
              "    box-shadow: none;\n",
              "  }\n",
              "\n",
              "  .colab-df-spinner {\n",
              "    border: 2px solid var(--fill-color);\n",
              "    border-color: transparent;\n",
              "    border-bottom-color: var(--fill-color);\n",
              "    animation:\n",
              "      spin 1s steps(1) infinite;\n",
              "  }\n",
              "\n",
              "  @keyframes spin {\n",
              "    0% {\n",
              "      border-color: transparent;\n",
              "      border-bottom-color: var(--fill-color);\n",
              "      border-left-color: var(--fill-color);\n",
              "    }\n",
              "    20% {\n",
              "      border-color: transparent;\n",
              "      border-left-color: var(--fill-color);\n",
              "      border-top-color: var(--fill-color);\n",
              "    }\n",
              "    30% {\n",
              "      border-color: transparent;\n",
              "      border-left-color: var(--fill-color);\n",
              "      border-top-color: var(--fill-color);\n",
              "      border-right-color: var(--fill-color);\n",
              "    }\n",
              "    40% {\n",
              "      border-color: transparent;\n",
              "      border-right-color: var(--fill-color);\n",
              "      border-top-color: var(--fill-color);\n",
              "    }\n",
              "    60% {\n",
              "      border-color: transparent;\n",
              "      border-right-color: var(--fill-color);\n",
              "    }\n",
              "    80% {\n",
              "      border-color: transparent;\n",
              "      border-right-color: var(--fill-color);\n",
              "      border-bottom-color: var(--fill-color);\n",
              "    }\n",
              "    90% {\n",
              "      border-color: transparent;\n",
              "      border-bottom-color: var(--fill-color);\n",
              "    }\n",
              "  }\n",
              "</style>\n",
              "\n",
              "  <script>\n",
              "    async function quickchart(key) {\n",
              "      const quickchartButtonEl =\n",
              "        document.querySelector('#' + key + ' button');\n",
              "      quickchartButtonEl.disabled = true;  // To prevent multiple clicks.\n",
              "      quickchartButtonEl.classList.add('colab-df-spinner');\n",
              "      try {\n",
              "        const charts = await google.colab.kernel.invokeFunction(\n",
              "            'suggestCharts', [key], {});\n",
              "      } catch (error) {\n",
              "        console.error('Error during call to suggestCharts:', error);\n",
              "      }\n",
              "      quickchartButtonEl.classList.remove('colab-df-spinner');\n",
              "      quickchartButtonEl.classList.add('colab-df-quickchart-complete');\n",
              "    }\n",
              "    (() => {\n",
              "      let quickchartButtonEl =\n",
              "        document.querySelector('#df-f6e6d543-1ec1-42a8-b4f5-9b246306ca43 button');\n",
              "      quickchartButtonEl.style.display =\n",
              "        google.colab.kernel.accessAllowed ? 'block' : 'none';\n",
              "    })();\n",
              "  </script>\n",
              "</div>\n",
              "\n",
              "    </div>\n",
              "  </div>\n"
            ],
            "application/vnd.google.colaboratory.intrinsic+json": {
              "type": "dataframe",
              "summary": "{\n  \"name\": \"test\",\n  \"rows\": 5,\n  \"fields\": [\n    {\n      \"column\": \"text\",\n      \"properties\": {\n        \"dtype\": \"string\",\n        \"num_unique_values\": 5,\n        \"samples\": [\n          \"I haven't seen this film for over 20 years, but it had such an impact on me that I remember sitting through the credits and for several minutes after in complete awe. This is one of the most underrated films of the entire decade in which it was originally released. I just ordered a copy of it on DVD and paid for overnight shipping and can't wait for it to arrive. It is uplifting at times, and also very dark and somewhat disturbing. It's a story of a close-knit band of regular kids growing up in the inner city and makes one feel as though they are actually sitting on the sidelines, rather than watching on a movie screen or television. Hard to explain, but it is something that must be experienced. The story starts at childhood and tracks the lives of the four main characters through high school and as they embark on their separate journeys in life. The entire cast did an incredible job and it's by far the best work of Jodi Thelen's career. I'm hoping that the DVD lives up to my memory and plan on watching it this Friday with a good friend.\",\n          \"Your time and brains will be much better spent reading or listening to Charlie Wilson's War. Phillip Seymour Hoffman, plays the most enjoyable character in the movie, Gust, the Greek, and he plays him as a eunuch. Gust, in the book, is hard core and completely free to speak his mind. In the movie, he's not even shown as being equally important to Charlie. And poor Charlie is never shown donating blood (which he did every time he visited the camps in Pakistan). In short, the movie is too bland, and the history is too old for our modern time. We don't really care about the end of the cold war and the defeat of the Soviet Union (which happened in spite of Reagan, not as a result of) by a well financed group of people who were extremely willing to fight. Not quite the lesson we need to be hearing and seeing considering how well the wars in Iraq and Afghanistan are going. (As I read the book, I kept getting that deja vu feeling, except it was present day).\",\n          \"And she really was beautiful (Laraine Day, that is) - herself, her part, and her performance. An engaging story of selfish vs. selfless love, for the same man, wealthy heartthrob and dipsomaniac Robert Cummings. One of his bouts of inebriation leads to an incident that enrages the local community and tests the mettle of the two sisters (Jean Muir and Laraine Day) that are close to him (and to each other). Their comfortable and somewhat superficial milieu is up-ended as the two girls confront the ensuing crisis and respond to its conflicting demands of prudence, integrity, loyalty, and love, with consequences that are profoundly different for each of them. With the old vanities and niceties abandoned, their real characters are revealed in enthralling contrast.<br /><br />A wonderful find on TCM!\"\n        ],\n        \"semantic_type\": \"\",\n        \"description\": \"\"\n      }\n    },\n    {\n      \"column\": \"label\",\n      \"properties\": {\n        \"dtype\": \"number\",\n        \"std\": 0,\n        \"min\": 0,\n        \"max\": 1,\n        \"num_unique_values\": 2,\n        \"samples\": [\n          1,\n          0\n        ],\n        \"semantic_type\": \"\",\n        \"description\": \"\"\n      }\n    }\n  ]\n}"
            }
          },
          "metadata": {},
          "execution_count": 5
        }
      ],
      "source": [
        "test.sample(5)"
      ]
    },
    {
      "cell_type": "markdown",
      "metadata": {
        "id": "HRIZs_4BAl33"
      },
      "source": [
        "## Exploratory Data Analysis"
      ]
    },
    {
      "cell_type": "code",
      "execution_count": 6,
      "metadata": {
        "colab": {
          "base_uri": "https://localhost:8080/"
        },
        "id": "IpY10rt5Al33",
        "outputId": "8366b651-8f0f-4d36-fb2d-475402d92b05"
      },
      "outputs": [
        {
          "output_type": "stream",
          "name": "stdout",
          "text": [
            "<class 'pandas.core.frame.DataFrame'>\n",
            "RangeIndex: 25000 entries, 0 to 24999\n",
            "Data columns (total 2 columns):\n",
            " #   Column  Non-Null Count  Dtype \n",
            "---  ------  --------------  ----- \n",
            " 0   text    25000 non-null  object\n",
            " 1   label   25000 non-null  int64 \n",
            "dtypes: int64(1), object(1)\n",
            "memory usage: 390.8+ KB\n"
          ]
        }
      ],
      "source": [
        "train.info()"
      ]
    },
    {
      "cell_type": "code",
      "execution_count": 7,
      "metadata": {
        "colab": {
          "base_uri": "https://localhost:8080/",
          "height": 467
        },
        "id": "rWJ-GVkxAl33",
        "outputId": "efc6a1df-4021-412d-96c0-38567725ffb6"
      },
      "outputs": [
        {
          "output_type": "display_data",
          "data": {
            "text/plain": [
              "<Figure size 640x480 with 1 Axes>"
            ],
            "image/png": "[encoded data removed]"
          },
          "metadata": {}
        }
      ],
      "source": [
        "fig, ax = plt.subplots()\n",
        "train.groupby('label').count().plot(kind='bar', alpha=0.75, ax=ax)\n",
        "ax.set_ylabel('count')\n",
        "ax.set_title('Distribution of labels')\n",
        "ax.legend().set_visible(False)\n",
        "plt.show()"
      ]
    },
    {
      "cell_type": "markdown",
      "metadata": {
        "id": "28Xd_9kzAl33"
      },
      "source": [
        "From the above bar graph, the train set appears to be balanced. To confirm:"
      ]
    },
    {
      "cell_type": "code",
      "execution_count": 8,
      "metadata": {
        "colab": {
          "base_uri": "https://localhost:8080/"
        },
        "id": "owpeKomDAl34",
        "outputId": "3457b4d1-ddfe-4d41-9a84-a5e4d457e868"
      },
      "outputs": [
        {
          "output_type": "execute_result",
          "data": {
            "text/plain": [
              "label\n",
              "0    12500\n",
              "1    12500\n",
              "Name: count, dtype: int64"
            ]
          },
          "metadata": {},
          "execution_count": 8
        }
      ],
      "source": [
        "train['label'].value_counts()"
      ]
    },
    {
      "cell_type": "markdown",
      "metadata": {
        "id": "rGY5KMnTAl34"
      },
      "source": [
        "It is instructive to read a handful of the reviews to better understand what is meant by \"highly polarized.\""
      ]
    },
    {
      "cell_type": "code",
      "execution_count": 9,
      "metadata": {
        "id": "KxSsAw5RAl34"
      },
      "outputs": [],
      "source": [
        "thumbs_ups = train[train['label'] == 1]\n",
        "thumbs_downs = train[train['label'] == 0]"
      ]
    },
    {
      "cell_type": "code",
      "execution_count": 10,
      "metadata": {
        "colab": {
          "base_uri": "https://localhost:8080/"
        },
        "id": "oo1V8uqFAl34",
        "outputId": "8ce4d326-2940-4426-bdd6-e4a9d055f02e"
      },
      "outputs": [
        {
          "output_type": "stream",
          "name": "stdout",
          "text": [
            "I saw this on a Cantonese VCD with the English subtitles. I thought the story was good but there were times when some of the subcharacters were grossly over-acting. This took away from the film as did the fairly lame musical score, which really irked me throughout the entire movie. If the musical score was improved I could overlook the few overacted scenes. Then the film would be much, much better.\n",
            "\n",
            "For people interested in business and the corporate world, this show is simply the best of the best. As one of the former contestants of the show wrote in his blog about this innovative show: People in business finally had an audience. The whole idea is perfect; having a group of businesspeople competing against each other in business-related tasks, set in the best place in the world, New York City. Donald Trump is perfect as the boss, even though his ego is bigger than the whole universe times infinity. He also makes a lot of questionable decisions about whom to fire, which is one of the negatives about the show.<br /><br />Season 1: Great season overall, the best season of the \"normal\" ones. This season was the one that was most about actual business skills. Later on the series almost drowned in marketing related tasks with way too many product placements. Great and interesting contestants overall, with the most likable character ever in this series: Troy. I know I'm not the only person who suspect that the Trump World Tower-episode where he got fired was rigged to have Amy and Nick win this particular task.<br /><br />Season 2: Also a great season. The tasks were still pretty much OK, and it had many interesting contestants. Jen M was terrible and should never had made it to the final, IMO. Also, this season had the worst firing ever (Pamela).<br /><br />Season 3: Terrible. Actually, I liked the concept of book smarts vs. street smarts, but the cast was so utterly terrible (it turned out that Trump hated the cast as well) that the whole season was a total disaster. Best moments was the second episode (motel renovation), with PM Brian fired, a guy who added nothing but huge amounts of comedy value.<br /><br />Season 4: An excellent season, much because of the interesting and entertaining contestants this season (especially Randall, Alla, Marcus and the total disaster whose name was Toral). The \"Take me out to the Boardroom\" episode is one of the absolute classics of this show, ending with the well-remembered quadruple firing. Sadly, I think we got robbed for the Randall vs. Alla final. I think Trump was afraid that she could have won, and prevented that from happening.<br /><br />Season 5: A boring season with really no special things to it. Brent was just an embarrassment and obviously only there to create drama. The tasks were terrible overall (how has creating a jingle anything to do with business at all?). I guess the best man won, but personally I couldn't care less.<br /><br />Season 6: I can see why they wanted to try out L.A. as a new location for the show, but looking back it was a mistake. New York will always be the place for this. This season added so many new things, most of them terrible (like losing team having to sleep outside in tents, winning PM continues to be PM ,for example). The tasks were terrible and Trump also chose the wrong winner. James deserved it, no doubt.<br /><br />Season 7: Celebrity edition. Best season ever. Totally different rules (like the use of rolodexes), but all fun and entertainment. The biggest problem was that many of the contestants were not real celebrities at all, especially the women where everyone were unknown to me except for Omarosa, who is a total disgrace to everything she takes part in. This looked to be Gene Simmon's season, but after he made a complete fool of himself during the Kodak task , another man emerged from the shadows: Piers Morgan. Never has anyone dominated a season like he did. He crushed his opponents and also came across as a guy with a great sense of humor (although some uptight Americans (not all Americans, of course, don't take me wrong) sadly didn't have the social skills to understand it). WAY TO GO PIERS!!<br /><br />For fans of this i highly recommend the UK version starring Sir Alan Sugar as the boss. In fact, the British version is way better, and that says something since the American (and original) truly is a great show. One thing about the UK version is that the contestants normally tend to behave like decent human beings in the boardroom, unlike the constant yelling and rude behavior that takes place in the US version.\n",
            "\n",
            "Tintin and I recently aired as an episode of PBS's P.O.V. series. It's based on a taped interview of Georges Remi a.k.a. Herge, Tintin's creator, from 1971 in which in discusses his various experiences publishing his popular character, first in a Catholic newspaper, then in his own series of comic books. Awesome sweeping views of various comic pages and surreal images of Herge's dreams. I first encountered Tintin in the pages of Children's Digest at my local elementary school library reading The Secrets of the Unicorn. My mom later got a subscription to CD and I read the entire Red Rackham's Treasure every month in 1978. I remember seeing some Tintin comic books in a local book store after that but for some reason I didn't get any probably because I was 12 and I thought I was outgrowing them. I do have Breaking Free, a book written and drawn by J. Daniels, published in 1989, six years after Herge's death. Haven't read it yet. This film also covers the artist's personal life as when he left his first wife after his affair with a colorist in his employ (whom he later married). Her name is Fanny and she is interviewed here. If you love Tintin and his creator, this film is definitely worth a look. Update: 9/4/07-I've now read Breaking Free. Tintin and The Captain are the only regular characters that appear here and they are tailored to the anti-capitalist views of Mr. Daniels with Tintin portrayed as a rabble rouser with a chip on his shoulder who nevertheless cares for The Captain who he's staying with. The Captain here is just trying to make ends meet with a wife and daughter that he loves dearly. They and other construction workers vow to strike after a fellow employee dies from a faulty equipment accident. The whole thing takes place in England with working-class cockney accents intact. Not the kind of thing Herge would approve of but an interesting read nonetheless. Oh, yes, dog Snowy only appears in the top left corner of the cover (which has Tintin running over the police!) and the dedication page.\n",
            "\n"
          ]
        }
      ],
      "source": [
        "thumbs_up_samples = thumbs_ups['text'].sample(3).to_list()\n",
        "for sample in thumbs_up_samples:\n",
        "    print(sample + '\\n')"
      ]
    },
    {
      "cell_type": "code",
      "execution_count": 11,
      "metadata": {
        "colab": {
          "base_uri": "https://localhost:8080/"
        },
        "id": "ivqXrzAJAl34",
        "outputId": "cadd86ab-1ef9-4bcf-a7c2-f0d2876bec64"
      },
      "outputs": [
        {
          "output_type": "stream",
          "name": "stdout",
          "text": [
            "I rented this film to see what might be a bloody, non stop action movie and got this overly sentimental and super cheap low budget action-drama that makes Kickboxer look like Die Hard. Lou and Reb are in Vietnam and as Lou saves Reb from the gooks, he gets shot in the head in what is easily one of the worst effects ever. The Vietnam scenes are shot in someones backyard, I swear! Lou is now brain damaged and Reb and him live together and own a bar. Super homoerotic. Lou is convinced to fight in a cage for money and Reb goes on a killing spree to get him back. There is no good fight scenes at all, the punches are two inches away from a person. Characters personalities change in matter of seconds. One guy is a bad and in the next scene he's good. The acting is horrid and the music is some overly sentimental Frank Stallone sounding song that would make you sick. I hated this film.\n",
            "\n",
            "Such a pretentious and lame attempt to hipness. Diabolical script and dialogue and truly embarrassing acting. Really the worse movie I have ever seen(at the cinema). Nothing in my opinion saves this movie from being a total disaster. I saw it when it came out in a cinema in Brighton. People were walking out and there were more people chatting outside the toilets than in the auditorium! At the end there were boos and scorn from the meagre crowd left, which was quite sad as relatives of one of the main actors were present and looked really sheepish. However the movie was that bad that I really could not feel like that sympathetic with them. Everybody has to start from somewhere and their son started off his acting career with this truly awful attempt at 'Tarantinism made in the UK'. 5 years have gone bye, but sometimes I still cringe at the memory of that sad night at the movies! This is a movie with no redeeming features whatsoever! I gave it a 1 as 0 was not available. They should invent a 'shameometer' for everybody involved in this sorry mess of a movie. I know some of them have moved on to better things, the positive thing is that none of them could have sank any lower than this.\n",
            "\n",
            "SNL is pretty funny but people who say this is like watching a Short skit on SNL is a little dumb minded. It's NOTHING like SNL, it's just a stupid piece of crap.<br /><br />Andy Samberg tries to act like Jon Heder but fails. Although Jon Heder is only funny in Napoleon Dynamite Andy tries his hardest and people think he's funny.<br /><br />Only funny people in the movie were Danny McBride and Bill Hader. The only part that was decently funny with Andy was the pool part.<br /><br />They could have made the \"Quiet place\" a lot better if they didn't make the falling scene 3 freaking minutes.<br /><br />The part where he's pronouncing his H's more is retarded. They try going with it too long and half the time it looks like Andy is laughing while he acts...he's a horrible actor and doesn't deserve to be in a movie.<br /><br />This movie is a joke and is for the simple minded people with the brain of a 10 year old level of comedy. Which is about half the United States.\n",
            "\n"
          ]
        }
      ],
      "source": [
        "thumbs_down_samples = thumbs_downs['text'].sample(3).to_list()\n",
        "for sample in thumbs_down_samples:\n",
        "    print(sample + '\\n')"
      ]
    },
    {
      "cell_type": "markdown",
      "metadata": {
        "id": "8eG6a3t6Al35"
      },
      "source": [
        "## Preprocessor"
      ]
    },
    {
      "cell_type": "markdown",
      "metadata": {
        "id": "-bk2TBv9Al35"
      },
      "source": [
        "The preprocessor processes and cleans movie reviews through lower-casing, removing HTML tags, and removing punctuation."
      ]
    },
    {
      "cell_type": "code",
      "execution_count": 12,
      "metadata": {
        "id": "bMasQvaiAl35"
      },
      "outputs": [],
      "source": [
        "class Preprocessor(BaseEstimator, TransformerMixin):\n",
        "    @staticmethod\n",
        "    def strip_html(X):\n",
        "        \"\"\"Remove HTML tags from a corpus X.\"\"\"\n",
        "        return [re.sub(r'<[^>]+>', ' ', doc) for doc in X]\n",
        "\n",
        "    @staticmethod\n",
        "    def strip_forward_slashes(X):\n",
        "        \"\"\"Replace / by a space in a corpus X.\"\"\"\n",
        "        return [doc.replace('/', ' ') for doc in X]\n",
        "\n",
        "    @staticmethod\n",
        "    def strip_punctuation(X):\n",
        "        \"\"\"Remove punctuation from a corpus X.\"\"\"\n",
        "        def strip_punc_from_doc(doc: str) -> str:\n",
        "            \"\"\"Remove punctuation from a single document doc.\"\"\"\n",
        "            doc_trans = doc\n",
        "            for p in punctuation:\n",
        "                doc_trans = doc_trans.replace(p, '')\n",
        "            return doc_trans\n",
        "        return [strip_punc_from_doc(doc) for doc in X]\n",
        "\n",
        "    def fit(self, X, y=None):\n",
        "        return self\n",
        "\n",
        "    def transform(self, X):\n",
        "        if isinstance(X, pd.Series):\n",
        "            X = X.to_list()\n",
        "\n",
        "        X_trans = X\n",
        "        X_trans = [doc.lower() for doc in X_trans]\n",
        "        X_trans = Preprocessor.strip_html(X_trans)\n",
        "        X_trans = Preprocessor.strip_forward_slashes(X_trans)\n",
        "        X_trans = Preprocessor.strip_punctuation(X_trans)\n",
        "\n",
        "        return X_trans"
      ]
    },
    {
      "cell_type": "markdown",
      "metadata": {
        "id": "J6OwlrxwAl36"
      },
      "source": [
        "To see Preprocessor in action, pick a random movie review:"
      ]
    },
    {
      "cell_type": "code",
      "execution_count": 13,
      "metadata": {
        "colab": {
          "base_uri": "https://localhost:8080/"
        },
        "id": "FKlkpY7qAl36",
        "outputId": "6a34c157-e516-4a2c-b61b-6bc5a53b6a93"
      },
      "outputs": [
        {
          "output_type": "stream",
          "name": "stdout",
          "text": [
            "Brilliant execution in displaying once and for all, this time in the venue of politics, of how \"good intentions do actually pave the road to hell\". Excellent!\n",
            "\n",
            "brilliant execution in displaying once and for all this time in the venue of politics of how good intentions do actually pave the road to hell excellent\n"
          ]
        }
      ],
      "source": [
        "preprocessor = Preprocessor()\n",
        "\n",
        "doc = train['text'].sample()\n",
        "doc_preprocessed = preprocessor.transform(doc)\n",
        "\n",
        "print(doc.to_list()[0])\n",
        "print()\n",
        "print(doc_preprocessed[0])"
      ]
    },
    {
      "cell_type": "markdown",
      "metadata": {
        "id": "I8ImtNQfAl36"
      },
      "source": [
        "## Tokenizer"
      ]
    },
    {
      "cell_type": "markdown",
      "metadata": {
        "id": "iWYN34CRAl36"
      },
      "source": [
        "The tokenizer removes English stop words and stems the corpus."
      ]
    },
    {
      "cell_type": "code",
      "execution_count": 14,
      "metadata": {
        "id": "qIhbKXzFAl36"
      },
      "outputs": [],
      "source": [
        "class Tokenizer(BaseEstimator, TransformerMixin):\n",
        "    def __init__(self, stemmer, stop_words=None):\n",
        "        \"\"\"\n",
        "        Initialize a Tokenizer.\n",
        "\n",
        "        :param stemmer: An instance of a word stemmer\n",
        "        :param stop_words: A list of words to remove from the corpus\n",
        "        \"\"\"\n",
        "        self.stemmer = stemmer\n",
        "        self.stop_words = stop_words\n",
        "\n",
        "    def remove_stop_words(self, X):\n",
        "        \"\"\"Remove stop words from a corpus X.\"\"\"\n",
        "        def remove_stop_words_from_doc(doc):\n",
        "            \"\"\"Remove stop words from a document doc.\"\"\"\n",
        "            doc_trans = []\n",
        "            for word in doc:\n",
        "                if word not in self.stop_words:\n",
        "                    doc_trans.append(word)\n",
        "            return doc_trans\n",
        "        return [remove_stop_words_from_doc(doc) for doc in X]\n",
        "\n",
        "    def stem(self, X):\n",
        "        \"\"\"Stem a corpus X.\"\"\"\n",
        "        def stem_doc(doc):\n",
        "            \"\"\"Stem a document doc.\"\"\"\n",
        "            return_doc = []\n",
        "            for word in doc:\n",
        "                return_doc.append(self.stemmer.stem(word))\n",
        "            return return_doc\n",
        "        return [stem_doc(doc) for doc in X]\n",
        "\n",
        "    def fit(self, X, y=None):\n",
        "        return self\n",
        "\n",
        "    def transform(self, X):\n",
        "        if isinstance(X, pd.Series):\n",
        "            X = X.to_list()\n",
        "\n",
        "        X_trans = X\n",
        "        X_trans = [doc.split() for doc in X_trans]\n",
        "        X_trans = self.remove_stop_words(X_trans)\n",
        "        X_trans = self.stem(X_trans)\n",
        "        X_trans = [' '.join(doc) for doc in X_trans]\n",
        "\n",
        "        return X_trans"
      ]
    },
    {
      "cell_type": "markdown",
      "metadata": {
        "id": "-vcEsH_eAl37"
      },
      "source": [
        "To see Tokenizer in action, transform the previously preprocessed movie review."
      ]
    },
    {
      "cell_type": "code",
      "execution_count": 15,
      "metadata": {
        "colab": {
          "base_uri": "https://localhost:8080/"
        },
        "id": "dCbxTmNTAl37",
        "outputId": "95b68e01-caa8-4376-a5b0-01727f0a9476"
      },
      "outputs": [
        {
          "output_type": "stream",
          "name": "stdout",
          "text": [
            "brilliant execution in displaying once and for all this time in the venue of politics of how good intentions do actually pave the road to hell excellent\n",
            "\n",
            "brilliant execut display time venu polit good intent actual pave road hell excel\n"
          ]
        }
      ],
      "source": [
        "tokenizer = Tokenizer(PorterStemmer(), ENGLISH_STOP_WORDS)\n",
        "\n",
        "doc_tokenized = tokenizer.transform(doc_preprocessed)\n",
        "\n",
        "print(doc_preprocessed[0])\n",
        "print()\n",
        "print(doc_tokenized[0])"
      ]
    },
    {
      "cell_type": "markdown",
      "metadata": {
        "id": "2YAgpYi-Al37"
      },
      "source": [
        "## Classification"
      ]
    },
    {
      "cell_type": "code",
      "execution_count": 16,
      "metadata": {
        "id": "FQEm6eAbAl37"
      },
      "outputs": [],
      "source": [
        "X_train, X_test, y_train, y_test =\\\n",
        "    train['text'], test['text'], train['label'], test['label']"
      ]
    },
    {
      "cell_type": "markdown",
      "metadata": {
        "id": "9uGBmXsNAl37"
      },
      "source": [
        "### Logistic Regression"
      ]
    },
    {
      "cell_type": "code",
      "source": [
        "vectorizer = TfidfVectorizer(\n",
        "    max_df = 0.95,\n",
        "    min_df = 2,\n",
        "    max_features = 10_000,\n",
        "    strip_accents='unicode'\n",
        ")\n",
        "\n",
        "cleaner = Pipeline([\n",
        "    ('preprocessor', Preprocessor()),\n",
        "    ('tokenizer', Tokenizer(PorterStemmer(), ENGLISH_STOP_WORDS)),\n",
        "    ('vectorizer', vectorizer)\n",
        "])"
      ],
      "metadata": {
        "id": "KKSbw_iiRoRn"
      },
      "execution_count": 17,
      "outputs": []
    },
    {
      "cell_type": "code",
      "execution_count": 18,
      "metadata": {
        "id": "jWfWV2_sAl37"
      },
      "outputs": [],
      "source": [
        "lr = LogisticRegression(\n",
        "    penalty='l2',\n",
        "    solver='saga',\n",
        "    max_iter=500\n",
        ")\n",
        "\n",
        "pipe = Pipeline([\n",
        "    ('cleaner', cleaner),\n",
        "    ('classifier', lr)\n",
        "])\n",
        "\n",
        "param_distributions = {\n",
        "    'classifier__C': loguniform(1e-2, 1e2)\n",
        "}\n",
        "\n",
        "search_lr = RandomizedSearchCV(\n",
        "    estimator=pipe,\n",
        "    param_distributions=param_distributions,\n",
        "    n_iter=20,\n",
        "    scoring=make_scorer(f1_score),\n",
        "    n_jobs=-1,\n",
        "    refit=True\n",
        ")"
      ]
    },
    {
      "cell_type": "code",
      "execution_count": 19,
      "metadata": {
        "id": "lOa1gKCmAl38"
      },
      "outputs": [],
      "source": [
        "search_lr.fit(X_train, y_train);"
      ]
    },
    {
      "cell_type": "code",
      "source": [
        "test_score_lr = search_lr.score(X_test, y_test)\n",
        "\n",
        "print(f'Best model: {search_lr.best_params_}')\n",
        "print(f'F1-score: {test_score_lr}')"
      ],
      "metadata": {
        "colab": {
          "base_uri": "https://localhost:8080/"
        },
        "id": "s2vSpT-GYX6E",
        "outputId": "1fba49ad-3f9b-463a-e99d-b9d97330b9ce"
      },
      "execution_count": 20,
      "outputs": [
        {
          "output_type": "stream",
          "name": "stdout",
          "text": [
            "Best model: {'classifier__C': 0.5879592567634434}\n",
            "F1-score: 0.8741041567128525\n"
          ]
        }
      ]
    },
    {
      "cell_type": "markdown",
      "source": [
        "### Random Forest"
      ],
      "metadata": {
        "id": "lKqLIcDJNnyK"
      }
    },
    {
      "cell_type": "code",
      "execution_count": 21,
      "metadata": {
        "id": "PRP4PVpwAl38"
      },
      "outputs": [],
      "source": [
        "rfc = RandomForestClassifier()\n",
        "\n",
        "pipe = Pipeline([\n",
        "    ('cleaner', cleaner),\n",
        "    ('classifier', rfc)\n",
        "])\n",
        "\n",
        "param_distributions = {\n",
        "    'classifier__n_estimators': [10, 30, 100, 300, 1000],\n",
        "    'classifier__max_depth': list(range(10, 101)),\n",
        "    'classifier__min_samples_split': list(range(2, 11)),\n",
        "    'classifier__min_samples_leaf': list(range(1, 11))\n",
        "}\n",
        "\n",
        "search_rfc = RandomizedSearchCV(\n",
        "    estimator=pipe,\n",
        "    param_distributions=param_distributions,\n",
        "    n_iter=20,\n",
        "    scoring=make_scorer(f1_score),\n",
        "    n_jobs=-1,\n",
        "    refit=True\n",
        ")"
      ]
    },
    {
      "cell_type": "code",
      "source": [
        "search_rfc.fit(X_train, y_train);"
      ],
      "metadata": {
        "id": "VpVfqqUrOVKk"
      },
      "execution_count": 22,
      "outputs": []
    },
    {
      "cell_type": "code",
      "source": [
        "test_score_rfc = search_rfc.score(X_test, y_test)\n",
        "\n",
        "print(f'Best model: {search_rfc.best_params_}')\n",
        "print(f'Test F1-score: {test_score_rfc}')"
      ],
      "metadata": {
        "colab": {
          "base_uri": "https://localhost:8080/"
        },
        "id": "vtZIsatbZBi1",
        "outputId": "a823b3ff-8717-401f-ce7e-8787883846f5"
      },
      "execution_count": 23,
      "outputs": [
        {
          "output_type": "stream",
          "name": "stdout",
          "text": [
            "Best model: {'classifier__n_estimators': 300, 'classifier__min_samples_split': 5, 'classifier__min_samples_leaf': 4, 'classifier__max_depth': 68}\n",
            "Test F1-score: 0.8474535745596556\n"
          ]
        }
      ]
    },
    {
      "cell_type": "markdown",
      "source": [
        "### Support Vector Machine"
      ],
      "metadata": {
        "id": "_4dTJFlzdR5J"
      }
    },
    {
      "cell_type": "code",
      "source": [
        "svc = LinearSVC(penalty='l2')\n",
        "\n",
        "pipe = Pipeline([\n",
        "    ('cleaner', cleaner),\n",
        "    ('classifier', svc)\n",
        "])\n",
        "\n",
        "param_distributions = {\n",
        "    'classifier__C': loguniform(1e-2, 1e2),\n",
        "    'classifier__max_iter': [10, 30, 100, 300, 1000]\n",
        "}\n",
        "\n",
        "search_svc = RandomizedSearchCV(\n",
        "    estimator=pipe,\n",
        "    param_distributions=param_distributions,\n",
        "    n_iter=20,\n",
        "    scoring=make_scorer(f1_score),\n",
        "    n_jobs=-1,\n",
        "    refit=True\n",
        ")"
      ],
      "metadata": {
        "id": "OzZlXEXIdXPD"
      },
      "execution_count": 24,
      "outputs": []
    },
    {
      "cell_type": "code",
      "source": [
        "search_svc.fit(X_train, y_train);"
      ],
      "metadata": {
        "collapsed": true,
        "id": "-ol8BGeDeQ6A"
      },
      "execution_count": null,
      "outputs": []
    },
    {
      "cell_type": "code",
      "source": [
        "test_score_svc = search_svc.score(X_test, y_test)\n",
        "\n",
        "print(f'Best model: {search_svc.best_params_}')\n",
        "print(f'Test F1-score: {test_score_svc}')"
      ],
      "metadata": {
        "colab": {
          "base_uri": "https://localhost:8080/"
        },
        "id": "DKeHEuvyeYFv",
        "outputId": "a2d50d2c-76f4-45fa-a1aa-733eb2c4c10f"
      },
      "execution_count": 26,
      "outputs": [
        {
          "output_type": "stream",
          "name": "stdout",
          "text": [
            "Best model: {'classifier__C': 0.06227692687478894, 'classifier__max_iter': 10}\n",
            "Test F1-score: 0.8745676460064407\n"
          ]
        }
      ]
    },
    {
      "cell_type": "markdown",
      "source": [
        "## Conclusion"
      ],
      "metadata": {
        "id": "E4nMSB0TUPEH"
      }
    },
    {
      "cell_type": "code",
      "source": [
        "print(f'Test F1-scores:')\n",
        "print(f'    Logistic regression: {test_score_lr}')\n",
        "print(f'    Random forest: {test_score_rfc}')\n",
        "print(f'    Support Vector Machine: {test_score_svc}')"
      ],
      "metadata": {
        "colab": {
          "base_uri": "https://localhost:8080/"
        },
        "id": "OIYkP5g2UTM4",
        "outputId": "a6b4a5c6-86ec-47d6-c54b-b5071bdd2f42"
      },
      "execution_count": 27,
      "outputs": [
        {
          "output_type": "stream",
          "name": "stdout",
          "text": [
            "Test F1-scores:\n",
            "    Logistic regression: 0.8741041567128525\n",
            "    Random forest: 0.8474535745596556\n",
            "    Support Vector Machine: 0.8745676460064407\n"
          ]
        }
      ]
    }
  ],
  "metadata": {
    "kernelspec": {
      "display_name": "Python 3",
      "name": "python3"
    },
    "language_info": {
      "name": "python"
    },
    "colab": {
      "provenance": [],
      "machine_shape": "hm"
    }
  },
  "nbformat": 4,
  "nbformat_minor": 0
}