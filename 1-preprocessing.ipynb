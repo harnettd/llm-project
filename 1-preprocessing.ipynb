{
 "cells": [
  {
   "cell_type": "markdown",
   "metadata": {},
   "source": [
    "# 1-Preprocessing"
   ]
  },
  {
   "cell_type": "markdown",
   "metadata": {},
   "source": [
    "In this notebook, I import the movie-review dataset, clean it, and write the results to a pair of CSV files."
   ]
  },
  {
   "cell_type": "markdown",
   "metadata": {},
   "source": [
    "## Import"
   ]
  },
  {
   "cell_type": "code",
   "execution_count": 287,
   "metadata": {},
   "outputs": [],
   "source": [
    "import matplotlib.pyplot as plt\n",
    "import pandas as pd\n",
    "import re\n",
    "\n",
    "from nltk import PorterStemmer\n",
    "\n",
    "from sklearn.base import BaseEstimator, TransformerMixin\n",
    "from sklearn.feature_extraction.text import ENGLISH_STOP_WORDS, CountVectorizer, TfidfVectorizer\n",
    "from sklearn.ensemble import RandomForestClassifier\n",
    "from sklearn.pipeline import Pipeline\n",
    "from sklearn.metrics import f1_score\n",
    "\n",
    "from string import punctuation\n",
    "from datasets import load_dataset"
   ]
  },
  {
   "cell_type": "markdown",
   "metadata": {},
   "source": [
    "## Load IMDB Dataset"
   ]
  },
  {
   "cell_type": "code",
   "execution_count": 24,
   "metadata": {},
   "outputs": [],
   "source": [
    "ds = load_dataset('imdb')\n",
    "train, test = pd.DataFrame(ds['train']), pd.DataFrame(ds['test'])"
   ]
  },
  {
   "cell_type": "code",
   "execution_count": 26,
   "metadata": {},
   "outputs": [
    {
     "data": {
      "text/html": [
       "<div>\n",
       "<style scoped>\n",
       "    .dataframe tbody tr th:only-of-type {\n",
       "        vertical-align: middle;\n",
       "    }\n",
       "\n",
       "    .dataframe tbody tr th {\n",
       "        vertical-align: top;\n",
       "    }\n",
       "\n",
       "    .dataframe thead th {\n",
       "        text-align: right;\n",
       "    }\n",
       "</style>\n",
       "<table border=\"1\" class=\"dataframe\">\n",
       "  <thead>\n",
       "    <tr style=\"text-align: right;\">\n",
       "      <th></th>\n",
       "      <th>text</th>\n",
       "      <th>label</th>\n",
       "    </tr>\n",
       "  </thead>\n",
       "  <tbody>\n",
       "    <tr>\n",
       "      <th>21255</th>\n",
       "      <td>This is one of the greatest sports movies ever...</td>\n",
       "      <td>1</td>\n",
       "    </tr>\n",
       "    <tr>\n",
       "      <th>23770</th>\n",
       "      <td>This is your typical cheerful and colorful MGM...</td>\n",
       "      <td>1</td>\n",
       "    </tr>\n",
       "    <tr>\n",
       "      <th>14887</th>\n",
       "      <td>This show is quick-witted, colorful, dark yet ...</td>\n",
       "      <td>1</td>\n",
       "    </tr>\n",
       "    <tr>\n",
       "      <th>16021</th>\n",
       "      <td>Drum scene is wild! Cook, Jr. is unsung hero o...</td>\n",
       "      <td>1</td>\n",
       "    </tr>\n",
       "    <tr>\n",
       "      <th>11327</th>\n",
       "      <td>Every once in a while I will rent an action/ad...</td>\n",
       "      <td>0</td>\n",
       "    </tr>\n",
       "  </tbody>\n",
       "</table>\n",
       "</div>"
      ],
      "text/plain": [
       "                                                    text  label\n",
       "21255  This is one of the greatest sports movies ever...      1\n",
       "23770  This is your typical cheerful and colorful MGM...      1\n",
       "14887  This show is quick-witted, colorful, dark yet ...      1\n",
       "16021  Drum scene is wild! Cook, Jr. is unsung hero o...      1\n",
       "11327  Every once in a while I will rent an action/ad...      0"
      ]
     },
     "execution_count": 26,
     "metadata": {},
     "output_type": "execute_result"
    }
   ],
   "source": [
    "train.sample(5)"
   ]
  },
  {
   "cell_type": "code",
   "execution_count": 27,
   "metadata": {},
   "outputs": [
    {
     "data": {
      "text/html": [
       "<div>\n",
       "<style scoped>\n",
       "    .dataframe tbody tr th:only-of-type {\n",
       "        vertical-align: middle;\n",
       "    }\n",
       "\n",
       "    .dataframe tbody tr th {\n",
       "        vertical-align: top;\n",
       "    }\n",
       "\n",
       "    .dataframe thead th {\n",
       "        text-align: right;\n",
       "    }\n",
       "</style>\n",
       "<table border=\"1\" class=\"dataframe\">\n",
       "  <thead>\n",
       "    <tr style=\"text-align: right;\">\n",
       "      <th></th>\n",
       "      <th>text</th>\n",
       "      <th>label</th>\n",
       "    </tr>\n",
       "  </thead>\n",
       "  <tbody>\n",
       "    <tr>\n",
       "      <th>23755</th>\n",
       "      <td>An especially delightful film to those of us w...</td>\n",
       "      <td>1</td>\n",
       "    </tr>\n",
       "    <tr>\n",
       "      <th>18697</th>\n",
       "      <td>My favourite story from 'tales from the crypt'...</td>\n",
       "      <td>1</td>\n",
       "    </tr>\n",
       "    <tr>\n",
       "      <th>17669</th>\n",
       "      <td>Stalingrad is a terrific movie, well acted and...</td>\n",
       "      <td>1</td>\n",
       "    </tr>\n",
       "    <tr>\n",
       "      <th>16365</th>\n",
       "      <td>This film was adapted from the well known sutr...</td>\n",
       "      <td>1</td>\n",
       "    </tr>\n",
       "    <tr>\n",
       "      <th>9347</th>\n",
       "      <td>A couple of clarifying comments are in order. ...</td>\n",
       "      <td>0</td>\n",
       "    </tr>\n",
       "  </tbody>\n",
       "</table>\n",
       "</div>"
      ],
      "text/plain": [
       "                                                    text  label\n",
       "23755  An especially delightful film to those of us w...      1\n",
       "18697  My favourite story from 'tales from the crypt'...      1\n",
       "17669  Stalingrad is a terrific movie, well acted and...      1\n",
       "16365  This film was adapted from the well known sutr...      1\n",
       "9347   A couple of clarifying comments are in order. ...      0"
      ]
     },
     "execution_count": 27,
     "metadata": {},
     "output_type": "execute_result"
    }
   ],
   "source": [
    "test.sample(5)"
   ]
  },
  {
   "cell_type": "markdown",
   "metadata": {},
   "source": [
    "## EDA"
   ]
  },
  {
   "cell_type": "code",
   "execution_count": 28,
   "metadata": {},
   "outputs": [
    {
     "name": "stdout",
     "output_type": "stream",
     "text": [
      "<class 'pandas.core.frame.DataFrame'>\n",
      "RangeIndex: 25000 entries, 0 to 24999\n",
      "Data columns (total 2 columns):\n",
      " #   Column  Non-Null Count  Dtype \n",
      "---  ------  --------------  ----- \n",
      " 0   text    25000 non-null  object\n",
      " 1   label   25000 non-null  int64 \n",
      "dtypes: int64(1), object(1)\n",
      "memory usage: 390.8+ KB\n"
     ]
    }
   ],
   "source": [
    "train.info()"
   ]
  },
  {
   "cell_type": "code",
   "execution_count": 62,
   "metadata": {},
   "outputs": [
    {
     "data": {
      "image/png": "[encoded data removed]",
      "text/plain": [
       "<Figure size 640x480 with 1 Axes>"
      ]
     },
     "metadata": {},
     "output_type": "display_data"
    }
   ],
   "source": [
    "fig, ax = plt.subplots()\n",
    "train.groupby('label').count().plot(kind='bar', alpha=0.75, ax=ax)\n",
    "ax.set_ylabel('count')\n",
    "ax.set_title('Distribution of labels')\n",
    "ax.legend().set_visible(False)\n",
    "plt.show()"
   ]
  },
  {
   "cell_type": "code",
   "execution_count": 65,
   "metadata": {},
   "outputs": [],
   "source": [
    "thumbs_ups = train[train['label'] == 1]\n",
    "thumbs_downs = train[train['label'] == 0]"
   ]
  },
  {
   "cell_type": "code",
   "execution_count": 154,
   "metadata": {},
   "outputs": [
    {
     "data": {
      "text/plain": [
       "['The whole does not even come close to the sum of the parts. No problem. This film features a line-up of some of the most diversely creative directors of our time and some really famous names in the cast. The segments are devised around the same theme, \"Love in Paris\", but the resemblance ends there. Actually, considering that the approach to the theme from all these different directors takes so many forms, it is amazing that we can even feel we are still watching the same film. No great effort has been made to turn it into a comprehensive whole. This buffet has so many great ingredients, I am glad nobody tried to put them all in a single dish.']"
      ]
     },
     "execution_count": 154,
     "metadata": {},
     "output_type": "execute_result"
    }
   ],
   "source": [
    "ex0 = thumbs_ups['text'].sample().to_list()\n",
    "ex0"
   ]
  },
  {
   "cell_type": "code",
   "execution_count": 181,
   "metadata": {},
   "outputs": [
    {
     "data": {
      "text/plain": [
       "['I was curious to watch this movie. A lot of people seem to be excited. I also have my beliefs. I believe in Jesus Christ but I\\'m opened for any kind of views or opinions. It doesn\\'t matter for me, if Jesus existed in the way it\\'s written in the bible. If Maria was a virgin or not, or all the other similar pagan coincidences. What matters for me is the idea of salvation, the idea of love as the only way to find peace in this world.<br /><br />What made me angry is when somebody takes a sentence, present it as a fact but without showing the context it was written. For example, they showed in this movie following sentence big: \"Those enemies of mine who did not want me to be king over them - bring them here and kill them in front of me\" Jesus (Lukas 19:27) What they didn\\'t tell you is the context. Jesus told a story about an evil king. There is no passage in the bible where Jesus supports killing. He is love! After quoting the bible wrong they present us yelling people (pseudo-christians) filled with hate. The majority of viewers don\\'t check the informations presented so they start thinking Jesus=hate=not good for me or for anybody else. This is pure manipulation people. Please use your brain. Don\\'t take everything as a fact they tell you in this movie. We destroy our own basis, our civilization if we start dismantling Jesus in this way and the message he brought to us. You saw off the branch you\\'re sitting on.']"
      ]
     },
     "execution_count": 181,
     "metadata": {},
     "output_type": "execute_result"
    }
   ],
   "source": [
    "ex1 = thumbs_downs['text'].sample().to_list()\n",
    "ex1"
   ]
  },
  {
   "cell_type": "markdown",
   "metadata": {},
   "source": [
    "## Preprocessor"
   ]
  },
  {
   "cell_type": "code",
   "execution_count": 236,
   "metadata": {},
   "outputs": [],
   "source": [
    "class Preprocessor(BaseEstimator, TransformerMixin):\n",
    "    @staticmethod\n",
    "    def strip_html(X):\n",
    "        return [re.sub(r'<[^>]+>', ' ', doc) for doc in X]\n",
    "\n",
    "    @staticmethod\n",
    "    def strip_forward_slashes(X):\n",
    "        return [doc.replace('/', ' ') for doc in X]\n",
    "\n",
    "    @staticmethod\n",
    "    def strip_punctuation(X):\n",
    "        def strip_punc_from_doc(doc: str) -> str:\n",
    "            return_val = doc\n",
    "            for p in punctuation:\n",
    "                return_val = return_val.replace(p, '')\n",
    "            return return_val\n",
    "        return [strip_punc_from_doc(doc) for doc in X] \n",
    "\n",
    "    def fit(self, X, y=None):\n",
    "        return self\n",
    "\n",
    "    def transform(self, X):\n",
    "        if isinstance(X, pd.Series):\n",
    "            X = X.to_list()\n",
    "            \n",
    "        X_trans = X\n",
    "        X_trans = [doc.lower() for doc in X_trans]\n",
    "        X_trans = Preprocessor.strip_html(X_trans)\n",
    "        X_trans = Preprocessor.strip_forward_slashes(X_trans)\n",
    "        X_trans = Preprocessor.strip_punctuation(X_trans)\n",
    "        \n",
    "        return X_trans"
   ]
  },
  {
   "cell_type": "code",
   "execution_count": 237,
   "metadata": {},
   "outputs": [],
   "source": [
    "preprocessor = Preprocessor()"
   ]
  },
  {
   "cell_type": "code",
   "execution_count": 238,
   "metadata": {},
   "outputs": [],
   "source": [
    "docs = train['text']\n",
    "docs_trans = preprocessor.transform(docs)"
   ]
  },
  {
   "cell_type": "code",
   "execution_count": 239,
   "metadata": {},
   "outputs": [
    {
     "data": {
      "text/plain": [
       "'oh brotherafter hearing about this ridiculous film for umpteen years all i can think of is that old peggy lee song  is that all there is i was just an early teen when this smoked fish hit the us i was too young to get in the theater although i did manage to sneak into goodbye columbus then a screening at a local film museum beckoned  finally i could see this film except now i was as old as my parents were when they schlepped to see it  the only reason this film was not condemned to the anonymous sands of time was because of the obscenity case sparked by its us release millions of people flocked to this stinker thinking they were going to see a sex filminstead they got lots of closeups of gnarly repulsive swedes onstreet interviews in bland shopping malls asinie political pretensionand feeble whocares simulated sex scenes with saggy pale actors  cultural icon holy grail historic artifactwhatever this thing was shred it burn it then stuff the ashes in a lead box  elite esthetes still scrape to find value in its boring pseudo revolutionary political spewingsbut if it werent for the censorship scandal it would have been ignored then forgotten  instead the i am blank blank rhythymed title was repeated endlessly for years as a titilation for porno films i am curious lavender  for gay films i am curious black  for blaxploitation films etc and every ten years or so the thing rises from the dead to be viewed by a new generation of suckers who want to see that naughty sex film that revolutionized the film industry  yeesh avoid like the plagueor if you must see it  rent the video and fast forward to the dirty parts just to get it over with  '"
      ]
     },
     "execution_count": 239,
     "metadata": {},
     "output_type": "execute_result"
    }
   ],
   "source": [
    "docs_trans[4]"
   ]
  },
  {
   "cell_type": "markdown",
   "metadata": {},
   "source": [
    "## Tokenizer"
   ]
  },
  {
   "cell_type": "code",
   "execution_count": 267,
   "metadata": {},
   "outputs": [],
   "source": [
    "class Tokenizer(BaseEstimator, TransformerMixin):\n",
    "    def __init__(self, stemmer, stop_words=None):\n",
    "        self.stemmer = stemmer\n",
    "        self.stop_words = stop_words\n",
    "\n",
    "    def remove_stop_words(self, X):\n",
    "        def remove_stop_words_from_doc(doc):\n",
    "            return_doc = []\n",
    "            for word in doc:\n",
    "                if word not in self.stop_words:\n",
    "                    return_doc.append(word)\n",
    "            return return_doc\n",
    "        return [remove_stop_words_from_doc(doc) for doc in X]\n",
    "\n",
    "    def stem(self, X):\n",
    "        def stem_doc(doc):\n",
    "            return_doc = []\n",
    "            for word in doc:\n",
    "                return_doc.append(self.stemmer.stem(word))\n",
    "            return return_doc\n",
    "        return [stem_doc(doc) for doc in X]\n",
    "        \n",
    "    def fit(self, X, y=None):\n",
    "        return self\n",
    "\n",
    "    def transform(self, X):\n",
    "        if isinstance(X, pd.Series):\n",
    "            X = X.to_list()\n",
    "            \n",
    "        X_trans = X\n",
    "        X_trans = [doc.split() for doc in X_trans]\n",
    "        X_trans = self.remove_stop_words(X_trans)\n",
    "        X_trans = self.stem(X_trans)\n",
    "        X_trans = [' '.join(doc) for doc in X_trans]\n",
    "        \n",
    "        return X_trans"
   ]
  },
  {
   "cell_type": "code",
   "execution_count": 268,
   "metadata": {},
   "outputs": [],
   "source": [
    "tokenizer = Tokenizer(PorterStemmer(), ENGLISH_STOP_WORDS)"
   ]
  },
  {
   "cell_type": "code",
   "execution_count": 269,
   "metadata": {},
   "outputs": [],
   "source": [
    "docs = tokenizer.transform(docs_trans[0:1])"
   ]
  },
  {
   "cell_type": "code",
   "execution_count": 270,
   "metadata": {},
   "outputs": [
    {
     "name": "stdout",
     "output_type": "stream",
     "text": [
      "rent curiousyellow video store controversi surround releas 1967 heard seiz custom tri enter countri fan film consid controversi realli plot center young swedish drama student name lena want learn life particular want focu attent make sort documentari averag swede thought certain polit issu vietnam war race issu unit state ask politician ordinari denizen stockholm opinion polit sex drama teacher classmat marri men kill curiousyellow 40 year ago consid pornograph realli sex nuditi scene far shot like cheapli porno countrymen mind shock realiti sex nuditi major stapl swedish cinema ingmar bergman arguabl answer good old boy john ford sex scene film commend filmmak fact sex shown film shown artist purpos just shock peopl make money shown pornograph theater america curiousyellow good film want studi meat potato pun intend swedish cinema realli film doesnt plot\n"
     ]
    }
   ],
   "source": [
    "print(docs[0])"
   ]
  },
  {
   "cell_type": "markdown",
   "metadata": {},
   "source": [
    "## Pipeline"
   ]
  },
  {
   "cell_type": "code",
   "execution_count": 280,
   "metadata": {},
   "outputs": [],
   "source": [
    "tokenizer = Tokenizer(PorterStemmer(), ENGLISH_STOP_WORDS)\n",
    "\n",
    "vectorizer = TfidfVectorizer(\n",
    "    max_df=0.95,\n",
    "    min_df=2,\n",
    "    max_features=750\n",
    ")\n",
    "\n",
    "random_forest_classifier = RandomForestClassifier()\n",
    "\n",
    "pipe = Pipeline([\n",
    "    ('preprocessor', Preprocessor()),\n",
    "    ('tokenizer', tokenizer),\n",
    "    ('vectorizer', vectorizer),\n",
    "    ('classifier', random_forest_classifier)\n",
    "])"
   ]
  },
  {
   "cell_type": "code",
   "execution_count": 290,
   "metadata": {},
   "outputs": [],
   "source": [
    "X_train, X_test, y_train, y_test =\\\n",
    "    train['text'], test['text'], train['label'], test['label']"
   ]
  },
  {
   "cell_type": "code",
   "execution_count": 291,
   "metadata": {},
   "outputs": [],
   "source": [
    "result = pipe.fit(X_train, y_train)"
   ]
  },
  {
   "cell_type": "code",
   "execution_count": 292,
   "metadata": {},
   "outputs": [
    {
     "data": {
      "text/plain": [
       "0.8258982396913431"
      ]
     },
     "execution_count": 292,
     "metadata": {},
     "output_type": "execute_result"
    }
   ],
   "source": [
    "y_pred = result.predict(X_test)\n",
    "f1_score(y_test, y_pred)"
   ]
  },
  {
   "cell_type": "code",
   "execution_count": null,
   "metadata": {},
   "outputs": [],
   "source": []
  }
 ],
 "metadata": {
  "kernelspec": {
   "display_name": "huggingface",
   "language": "python",
   "name": "huggingface"
  },
  "language_info": {
   "codemirror_mode": {
    "name": "ipython",
    "version": 3
   },
   "file_extension": ".py",
   "mimetype": "text/x-python",
   "name": "python",
   "nbconvert_exporter": "python",
   "pygments_lexer": "ipython3",
   "version": "3.10.13"
  }
 },
 "nbformat": 4,
 "nbformat_minor": 4
}
