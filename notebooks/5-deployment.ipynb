{
 "cells": [
  {
   "cell_type": "code",
   "execution_count": 1,
   "metadata": {},
   "outputs": [],
   "source": [
    "import requests"
   ]
  },
  {
   "cell_type": "code",
   "execution_count": 6,
   "metadata": {},
   "outputs": [],
   "source": [
    "reviews = [\n",
    "\"\"\"I hate this movie.\"\"\",\n",
    "    \n",
    "\"\"\"Retroactively enriching Fury Road with greater emotional heft if not quite matching it in propulsive throttle, \n",
    "Furiosa is another glorious swerve in mastermind George Miller's breathless race towards cinematic Valhalla.\"\"\",\n",
    "    \n",
    "\"\"\"ANd I hate this movie.\"\"\",\n",
    "\n",
    "\"Pathetically predictable; not even deserving a ½ star; don't waste your movie time on this.\"\n",
    "]"
   ]
  },
  {
   "cell_type": "code",
   "execution_count": 7,
   "metadata": {},
   "outputs": [],
   "source": [
    "url = 'http://localhost:5000/classify'\n",
    "payload = {'reviews': reviews}\n",
    "\n",
    "response = requests.post(url, json=payload)"
   ]
  },
  {
   "cell_type": "code",
   "execution_count": 8,
   "metadata": {},
   "outputs": [
    {
     "data": {
      "text/plain": [
       "200"
      ]
     },
     "execution_count": 8,
     "metadata": {},
     "output_type": "execute_result"
    }
   ],
   "source": [
    "response.status_code"
   ]
  },
  {
   "cell_type": "code",
   "execution_count": 9,
   "metadata": {},
   "outputs": [
    {
     "data": {
      "text/plain": [
       "[[{'label': 'LABEL_0', 'score': 1.0},\n",
       "  {'label': 'LABEL_1', 'score': 2.0219514951236306e-08}],\n",
       " [{'label': 'LABEL_1', 'score': 1.0},\n",
       "  {'label': 'LABEL_0', 'score': 2.471612248200472e-08}],\n",
       " [{'label': 'LABEL_0', 'score': 1.0},\n",
       "  {'label': 'LABEL_1', 'score': 2.0283636104068137e-08}],\n",
       " [{'label': 'LABEL_0', 'score': 1.0},\n",
       "  {'label': 'LABEL_1', 'score': 1.4185021157686606e-08}]]"
      ]
     },
     "execution_count": 9,
     "metadata": {},
     "output_type": "execute_result"
    }
   ],
   "source": [
    "response.json()"
   ]
  },
  {
   "cell_type": "code",
   "execution_count": null,
   "metadata": {},
   "outputs": [],
   "source": []
  }
 ],
 "metadata": {
  "kernelspec": {
   "display_name": "huggingface",
   "language": "python",
   "name": "huggingface"
  },
  "language_info": {
   "codemirror_mode": {
    "name": "ipython",
    "version": 3
   },
   "file_extension": ".py",
   "mimetype": "text/x-python",
   "name": "python",
   "nbconvert_exporter": "python",
   "pygments_lexer": "ipython3",
   "version": "3.10.13"
  }
 },
 "nbformat": 4,
 "nbformat_minor": 4
}
