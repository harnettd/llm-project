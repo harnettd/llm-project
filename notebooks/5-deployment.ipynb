{
 "cells": [
  {
   "cell_type": "markdown",
   "metadata": {},
   "source": [
    "# 5-Deployment"
   ]
  },
  {
   "cell_type": "markdown",
   "metadata": {},
   "source": [
    "Using Google colab, I fine-tuned an LLM (DistilBERT) to classify movie reviews. A positive review should get a score of 1 (*i.e.,* thumbs-up) and a negative review should get a score of 0 (*i.e., thumbs-down). Through Goole colab, I was able to perform the fine-tuning with GPU support. I saved the resulting tokenizer and tuned model to a local directory. (The directory is over 250 MB in size, so I did not upload it to this project's Github repo.) \n",
    "\n",
    "I then used Flask to set up a local server at http://localhost:5000/classify. (The corresponding code is in 'notebooks/api.py'.) Upon receiving a POST request with a payload consisting of a list of (text) movie reviews, the server applies the model to generate corresponding move-review classifications. The classifications are returned as a pair of probabilities, one for 1 and another for 0."
   ]
  },
  {
   "cell_type": "markdown",
   "metadata": {},
   "source": [
    "## Import"
   ]
  },
  {
   "cell_type": "code",
   "execution_count": 1,
   "metadata": {},
   "outputs": [],
   "source": [
    "import pandas as pd\n",
    "import requests"
   ]
  },
  {
   "cell_type": "markdown",
   "metadata": {},
   "source": [
    "## Utils"
   ]
  },
  {
   "cell_type": "code",
   "execution_count": 2,
   "metadata": {},
   "outputs": [],
   "source": [
    "def collapse_dicts(d: dict) -> dict:\n",
    "    \"\"\"\n",
    "    Collapse a two-key dictionary to its values.\n",
    "\n",
    "    Given\n",
    "        {k1: v1, k2: v2},\n",
    "    return\n",
    "        {v1: v2}.\n",
    "    \"\"\"\n",
    "    values = list(d.values())\n",
    "    return {values[0]: values[1]}"
   ]
  },
  {
   "cell_type": "code",
   "execution_count": 3,
   "metadata": {},
   "outputs": [],
   "source": [
    "def merge_dicts(dict_pair) -> dict:\n",
    "    \"\"\"\n",
    "    Merge a pair of dictionaries.\n",
    "\n",
    "    Given\n",
    "        [{k1: v1}, {k2: v2}],\n",
    "    return\n",
    "        {k1: v1, k2: v2}.\n",
    "    \"\"\"\n",
    "    return {**dict_pair[0], **dict_pair[1]}"
   ]
  },
  {
   "cell_type": "code",
   "execution_count": 4,
   "metadata": {},
   "outputs": [],
   "source": [
    "def get_predictions_df(reviews_scores: dict) -> pd.DataFrame:\n",
    "    \"\"\"Return a DataFrame of reviews, scores, and classifier predictions.\n",
    "\n",
    "    Makes a POST request to my movie-review-classifier and organizes\n",
    "    the request and results into a DataFrame.\n",
    "\n",
    "    :param reviews_scores: Text reviews and corresponding scores (0 or 1)\n",
    "    :type reviews_scores: dict\n",
    "\n",
    "    :return: A DataFrame of reviews, scores, and classifier predictions\n",
    "    :rtype: pd.DataFrame\n",
    "    \"\"\"\n",
    "    reviews: list = reviews_scores['reviews']\n",
    "\n",
    "    # The URL of the movie-review-classifier (local) server\n",
    "    url = 'http://localhost:5000/classify'\n",
    "    payload = {'reviews': reviews}\n",
    "    response = requests.post(url, json=payload)\n",
    "    response_json: list = response.json()\n",
    "\n",
    "    results = []\n",
    "    for rj in response_json:\n",
    "        new: dict = merge_dicts([collapse_dicts(d) for d in rj])\n",
    "        results.append(new)\n",
    "\n",
    "    probs_of_0 = [result['LABEL_0'] for result in results]\n",
    "    probs_of_1 = [result['LABEL_1'] for result in results]\n",
    "\n",
    "    return pd.DataFrame({\n",
    "        'review': reviews,\n",
    "        'score': scores,\n",
    "        'prob_0': probs_of_0,\n",
    "        'prob_1': probs_of_1\n",
    "    })"
   ]
  },
  {
   "cell_type": "markdown",
   "metadata": {},
   "source": [
    "## Tests"
   ]
  },
  {
   "cell_type": "code",
   "execution_count": 5,
   "metadata": {},
   "outputs": [],
   "source": [
    "# A list of movie reviews\n",
    "reviews = [\n",
    "\"\"\"I hate this movie.\"\"\",\n",
    "\"\"\"Retroactively enriching Fury Road with greater emotional heft if not quite matching it in propulsive throttle, \n",
    "Furiosa is another glorious swerve in mastermind George Miller's breathless race towards cinematic Valhalla.\"\"\",\n",
    "\"Absolutely riveting. I enjoyed every minute of this film.\",\n",
    "\"Pathetically predictable; not even deserving a ½ star; don't waste your movie time on this.\"\n",
    "]\n",
    "\n",
    "# The scores corresponding to the above movie reviews. A 1 is a thumbs-up.\n",
    "# A 0 is a thumbs-down.\n",
    "scores = [0, 1, 0, 0]\n",
    "\n",
    "reviews_scores = {\n",
    "    'reviews': reviews,\n",
    "    'scores': scores\n",
    "}\n"
   ]
  },
  {
   "cell_type": "code",
   "execution_count": 6,
   "metadata": {},
   "outputs": [
    {
     "data": {
      "text/html": [
       "<div>\n",
       "<style scoped>\n",
       "    .dataframe tbody tr th:only-of-type {\n",
       "        vertical-align: middle;\n",
       "    }\n",
       "\n",
       "    .dataframe tbody tr th {\n",
       "        vertical-align: top;\n",
       "    }\n",
       "\n",
       "    .dataframe thead th {\n",
       "        text-align: right;\n",
       "    }\n",
       "</style>\n",
       "<table border=\"1\" class=\"dataframe\">\n",
       "  <thead>\n",
       "    <tr style=\"text-align: right;\">\n",
       "      <th></th>\n",
       "      <th>review</th>\n",
       "      <th>score</th>\n",
       "      <th>prob_0</th>\n",
       "      <th>prob_1</th>\n",
       "    </tr>\n",
       "  </thead>\n",
       "  <tbody>\n",
       "    <tr>\n",
       "      <th>0</th>\n",
       "      <td>I hate this movie.</td>\n",
       "      <td>0</td>\n",
       "      <td>1.000000e+00</td>\n",
       "      <td>2.021951e-08</td>\n",
       "    </tr>\n",
       "    <tr>\n",
       "      <th>1</th>\n",
       "      <td>Retroactively enriching Fury Road with greater...</td>\n",
       "      <td>1</td>\n",
       "      <td>2.471612e-08</td>\n",
       "      <td>1.000000e+00</td>\n",
       "    </tr>\n",
       "    <tr>\n",
       "      <th>2</th>\n",
       "      <td>Absolutely riveting. I enjoyed every minute of...</td>\n",
       "      <td>0</td>\n",
       "      <td>2.583128e-08</td>\n",
       "      <td>1.000000e+00</td>\n",
       "    </tr>\n",
       "    <tr>\n",
       "      <th>3</th>\n",
       "      <td>Pathetically predictable; not even deserving a...</td>\n",
       "      <td>0</td>\n",
       "      <td>1.000000e+00</td>\n",
       "      <td>1.418502e-08</td>\n",
       "    </tr>\n",
       "  </tbody>\n",
       "</table>\n",
       "</div>"
      ],
      "text/plain": [
       "                                              review  score        prob_0  \\\n",
       "0                                 I hate this movie.      0  1.000000e+00   \n",
       "1  Retroactively enriching Fury Road with greater...      1  2.471612e-08   \n",
       "2  Absolutely riveting. I enjoyed every minute of...      0  2.583128e-08   \n",
       "3  Pathetically predictable; not even deserving a...      0  1.000000e+00   \n",
       "\n",
       "         prob_1  \n",
       "0  2.021951e-08  \n",
       "1  1.000000e+00  \n",
       "2  1.000000e+00  \n",
       "3  1.418502e-08  "
      ]
     },
     "execution_count": 6,
     "metadata": {},
     "output_type": "execute_result"
    }
   ],
   "source": [
    "df = get_predictions_df(reviews_scores)\n",
    "df"
   ]
  },
  {
   "cell_type": "code",
   "execution_count": null,
   "metadata": {},
   "outputs": [],
   "source": []
  }
 ],
 "metadata": {
  "kernelspec": {
   "display_name": "huggingface",
   "language": "python",
   "name": "huggingface"
  },
  "language_info": {
   "codemirror_mode": {
    "name": "ipython",
    "version": 3
   },
   "file_extension": ".py",
   "mimetype": "text/x-python",
   "name": "python",
   "nbconvert_exporter": "python",
   "pygments_lexer": "ipython3",
   "version": "3.10.13"
  }
 },
 "nbformat": 4,
 "nbformat_minor": 4
}
