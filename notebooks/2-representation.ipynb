{
 "cells": [
  {
   "cell_type": "markdown",
   "metadata": {},
   "source": [
    "# 2-Representation"
   ]
  },
  {
   "cell_type": "markdown",
   "metadata": {},
   "source": [
    "## Import"
   ]
  },
  {
   "cell_type": "code",
   "execution_count": 1,
   "metadata": {},
   "outputs": [],
   "source": [
    "import pandas as pd\n",
    "import pickle\n",
    "\n",
    "from text_to_tokens import load, to_words_text, remove_stop_words_text,\\\n",
    "    stem_text"
   ]
  },
  {
   "cell_type": "markdown",
   "metadata": {},
   "source": [
    "## Tokenization"
   ]
  },
  {
   "cell_type": "code",
   "execution_count": 2,
   "metadata": {},
   "outputs": [],
   "source": [
    "# I'm working with the IMDB movie reviews dataset\n",
    "ds_name = 'imdb'\n",
    "docs_all = load(ds_name)\n",
    "\n",
    "# strings needed to specify input/output filenames\n",
    "dir = '../data'\n",
    "tag = 'tokenized'\n",
    "suffix = 'pkl'"
   ]
  },
  {
   "cell_type": "code",
   "execution_count": null,
   "metadata": {},
   "outputs": [],
   "source": [
    "df_tokenized = {}\n",
    "for (key, docs) in docs_all.items():\n",
    "    new_dict = docs\n",
    "    new_dict = to_words_text(new_dict)\n",
    "    new_dict = remove_stop_words_text(new_dict)\n",
    "    new_dict = stem_text(new_dict)        \n",
    "    df_tokenized[key] = new_dict\n",
    "        \n",
    "    filename = f'{dir}/{ds_name}-{key}-{tag}.{suffix}'\n",
    "    with open(filename, 'wb') as f:\n",
    "        pickle.dump(df_tokenized[key], f)\n"
   ]
  },
  {
   "cell_type": "markdown",
   "metadata": {},
   "source": [
    "## Test"
   ]
  },
  {
   "cell_type": "markdown",
   "metadata": {},
   "source": [
    "As a test of the above code, I'll read in both pickled files and give them a cursory inspection."
   ]
  },
  {
   "cell_type": "code",
   "execution_count": null,
   "metadata": {},
   "outputs": [],
   "source": [
    "with open(f'{dir}/{ds_name}-train-{tag}.{suffix}', 'rb') as f:\n",
    "    train = pickle.load(f)\n",
    "\n",
    "with open(f'{dir}/{ds_name}-test-{tag}.{suffix}', 'rb') as f:\n",
    "    test = pickle.load(f)\n",
    "\n",
    "print(f'Shape of train: ({len(train[\"text\"])}, {len(train.keys())})')\n",
    "print(f'Shape of test: ({len(test[\"text\"])}, {len(test.keys())})')\n"
   ]
  },
  {
   "cell_type": "markdown",
   "metadata": {},
   "source": [
    "I'll print out the first 10 tokens (words) of an arbitrary text sample from each of train and test."
   ]
  },
  {
   "cell_type": "code",
   "execution_count": null,
   "metadata": {},
   "outputs": [],
   "source": [
    "train['text'][1000][:11]"
   ]
  },
  {
   "cell_type": "code",
   "execution_count": null,
   "metadata": {},
   "outputs": [],
   "source": [
    "test['text'][1000][:11]"
   ]
  },
  {
   "cell_type": "markdown",
   "metadata": {},
   "source": [
    "## Vectorize"
   ]
  },
  {
   "cell_type": "markdown",
   "metadata": {},
   "source": [
    "I'll use TF-IDF to vectorize the collection of text tokens to get ready for a classification analysis using `RandomForestClassifier`."
   ]
  },
  {
   "cell_type": "code",
   "execution_count": null,
   "metadata": {},
   "outputs": [],
   "source": []
  }
 ],
 "metadata": {
  "kernelspec": {
   "display_name": "huggingface",
   "language": "python",
   "name": "huggingface"
  },
  "language_info": {
   "codemirror_mode": {
    "name": "ipython",
    "version": 3
   },
   "file_extension": ".py",
   "mimetype": "text/x-python",
   "name": "python",
   "nbconvert_exporter": "python",
   "pygments_lexer": "ipython3",
   "version": "3.10.13"
  }
 },
 "nbformat": 4,
 "nbformat_minor": 4
}
