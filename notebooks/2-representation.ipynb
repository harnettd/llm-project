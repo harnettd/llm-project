{
 "cells": [
  {
   "cell_type": "markdown",
   "metadata": {},
   "source": [
    "# 2-Representation"
   ]
  },
  {
   "cell_type": "markdown",
   "metadata": {},
   "source": [
    "## Import"
   ]
  },
  {
   "cell_type": "code",
   "execution_count": 14,
   "metadata": {},
   "outputs": [],
   "source": [
    "from numpy.random import shuffle\n",
    "import pandas as pd\n",
    "import pickle\n",
    "from sklearn.feature_extraction.text import TfidfVectorizer\n",
    "\n",
    "from text_to_tokens import load, to_words_text, remove_stop_words_text,\\\n",
    "    stem_text"
   ]
  },
  {
   "cell_type": "markdown",
   "metadata": {},
   "source": [
    "## Tokenization"
   ]
  },
  {
   "cell_type": "markdown",
   "metadata": {},
   "source": [
    "I'll tokenize each document by paritioning it on whitespace. In addition, I'll remove English stop words and stem all the words that remain."
   ]
  },
  {
   "cell_type": "code",
   "execution_count": null,
   "metadata": {},
   "outputs": [],
   "source": [
    "# I'm working with the IMDB movie reviews dataset\n",
    "ds_name = 'imdb'\n",
    "docs_all = load(ds_name)\n",
    "\n",
    "# strings needed to specify input/output filenames\n",
    "dir = '../data'\n",
    "tag = 'tokenized'\n",
    "suffix = 'pkl'\n",
    "\n",
    "df_tokenized = {}\n",
    "for (key, docs) in docs_all.items():\n",
    "    new_dict = docs\n",
    "    new_dict = to_words_text(new_dict)\n",
    "    new_dict = remove_stop_words_text(new_dict)\n",
    "    new_dict = stem_text(new_dict)        \n",
    "    df_tokenized[key] = new_dict\n",
    "        \n",
    "    filename = f'{dir}/{ds_name}-{key}-{tag}.{suffix}'\n",
    "    with open(filename, 'wb') as f:\n",
    "        pickle.dump(df_tokenized[key], f)\n"
   ]
  },
  {
   "cell_type": "markdown",
   "metadata": {},
   "source": [
    "## Test"
   ]
  },
  {
   "cell_type": "markdown",
   "metadata": {},
   "source": [
    "As a test of the above code, I'll read in both pickled files and give them a cursory inspection."
   ]
  },
  {
   "cell_type": "code",
   "execution_count": 4,
   "metadata": {},
   "outputs": [
    {
     "name": "stdout",
     "output_type": "stream",
     "text": [
      "Shape of train: (25000, 2)\n",
      "Shape of test: (25000, 2)\n"
     ]
    }
   ],
   "source": [
    "with open(f'{dir}/{ds_name}-train-{tag}.{suffix}', 'rb') as f:\n",
    "    train = pickle.load(f)\n",
    "\n",
    "with open(f'{dir}/{ds_name}-test-{tag}.{suffix}', 'rb') as f:\n",
    "    test = pickle.load(f)\n",
    "\n",
    "print(f'Shape of train: ({len(train[\"text\"])}, {len(train.keys())})')\n",
    "print(f'Shape of test: ({len(test[\"text\"])}, {len(test.keys())})')\n"
   ]
  },
  {
   "cell_type": "markdown",
   "metadata": {},
   "source": [
    "I'll print out the first 10 tokens (words) of an arbitrary text sample from each of train and test."
   ]
  },
  {
   "cell_type": "code",
   "execution_count": 5,
   "metadata": {},
   "outputs": [
    {
     "data": {
      "text/plain": [
       "['admit',\n",
       " 'laugh',\n",
       " 'watch',\n",
       " 'movi',\n",
       " 'few',\n",
       " 'comedi',\n",
       " 'sawbr',\n",
       " 'br',\n",
       " 'budget',\n",
       " 'have',\n",
       " 'consist']"
      ]
     },
     "execution_count": 5,
     "metadata": {},
     "output_type": "execute_result"
    }
   ],
   "source": [
    "train['text'][1000][:11]"
   ]
  },
  {
   "cell_type": "code",
   "execution_count": 6,
   "metadata": {},
   "outputs": [
    {
     "data": {
      "text/plain": [
       "['film',\n",
       " 'about',\n",
       " 'struggl',\n",
       " 'actor',\n",
       " 'tri',\n",
       " 'satisfact',\n",
       " 'life',\n",
       " 'especi',\n",
       " 'love',\n",
       " 'he',\n",
       " 'tast']"
      ]
     },
     "execution_count": 6,
     "metadata": {},
     "output_type": "execute_result"
    }
   ],
   "source": [
    "test['text'][1000][:11]"
   ]
  },
  {
   "cell_type": "markdown",
   "metadata": {},
   "source": [
    "## Vectorize"
   ]
  },
  {
   "cell_type": "markdown",
   "metadata": {},
   "source": [
    "I'll use TF-IDF to vectorize the collection of text tokens to get ready for a classification analysis using `RandomForestClassifier`."
   ]
  },
  {
   "cell_type": "code",
   "execution_count": 17,
   "metadata": {},
   "outputs": [],
   "source": [
    "train_corpus = [' '.join(tokens) for tokens in train['text']]\n",
    "test_corpus = [' '.join(tokens) for tokens in test['text']]\n",
    "\n",
    "shuffle(train_corpus)\n",
    "shuffle(test_corpus)\n",
    "\n",
    "n_samples = 10\n",
    "small_train_corpus = train_corpus[:n_samples]\n",
    "small_test_corpus = test_corpus[:n_samples]\n"
   ]
  },
  {
   "cell_type": "code",
   "execution_count": 20,
   "metadata": {},
   "outputs": [],
   "source": [
    "vectorizer = TfidfVectorizer(\n",
    "    max_df=0.95,\n",
    "    min_df=2,\n",
    "    max_features=100\n",
    ")\n",
    "\n",
    "X_train = vectorizer.fit_transform(small_train_corpus)\n",
    "X_test = vectorizer.transform(small_test_corpus)\n"
   ]
  },
  {
   "cell_type": "markdown",
   "metadata": {},
   "source": [
    "## Train a Random Forest"
   ]
  }
 ],
 "metadata": {
  "kernelspec": {
   "display_name": "huggingface",
   "language": "python",
   "name": "huggingface"
  },
  "language_info": {
   "codemirror_mode": {
    "name": "ipython",
    "version": 3
   },
   "file_extension": ".py",
   "mimetype": "text/x-python",
   "name": "python",
   "nbconvert_exporter": "python",
   "pygments_lexer": "ipython3",
   "version": "3.10.13"
  }
 },
 "nbformat": 4,
 "nbformat_minor": 4
}
