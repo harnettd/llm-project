{
 "cells": [
  {
   "cell_type": "markdown",
   "metadata": {},
   "source": [
    "# 2-Representation"
   ]
  },
  {
   "cell_type": "markdown",
   "metadata": {},
   "source": [
    "## Import"
   ]
  },
  {
   "cell_type": "code",
   "execution_count": 1,
   "metadata": {},
   "outputs": [],
   "source": [
    "import pandas as pd\n",
    "\n",
    "from text_to_tokens import load"
   ]
  },
  {
   "cell_type": "markdown",
   "metadata": {},
   "source": [
    "## Tokenization"
   ]
  },
  {
   "cell_type": "code",
   "execution_count": 2,
   "metadata": {},
   "outputs": [],
   "source": [
    "# I'm working with the IMDB movie reviews dataset\n",
    "ds_name = 'imdb'\n",
    "docs_all = load(ds_name)\n",
    "\n",
    "# strings needed to specify input/output filenames\n",
    "dir = '../data'\n",
    "tag = 'tokenized'\n",
    "suffix = 'pkl'"
   ]
  },
  {
   "cell_type": "code",
   "execution_count": null,
   "metadata": {},
   "outputs": [],
   "source": [
    "df_tokenized = {}\n",
    "for (key, docs) in docs_all.items():\n",
    "    new_dict = docs\n",
    "    # new_dict = to_words_text(new_dict)\n",
    "    # new_dict = remove_stop_words_text(new_dict)\n",
    "    # new_dict = stem_text(new_dict)        \n",
    "    df_tokenized[key] = new_dict\n",
    "        \n",
    "    filename = f'{dir}/{ds_name}-{key}-{tag}.{suffix}'\n",
    "    with open(filename, 'wb') as f:\n",
    "        pickle.dump(df_tokenized[key], f)\n"
   ]
  }
 ],
 "metadata": {
  "kernelspec": {
   "display_name": "huggingface",
   "language": "python",
   "name": "huggingface"
  },
  "language_info": {
   "codemirror_mode": {
    "name": "ipython",
    "version": 3
   },
   "file_extension": ".py",
   "mimetype": "text/x-python",
   "name": "python",
   "nbconvert_exporter": "python",
   "pygments_lexer": "ipython3",
   "version": "3.10.13"
  }
 },
 "nbformat": 4,
 "nbformat_minor": 4
}
