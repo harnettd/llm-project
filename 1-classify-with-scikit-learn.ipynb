{
 "cells": [
  {
   "cell_type": "markdown",
   "metadata": {
    "id": "0KIIomXgAl3t"
   },
   "source": [
    "# Sentiment Analysis of Movie Reviews using TfidfVectorizer and Classifiers from scikit-learn"
   ]
  },
  {
   "cell_type": "markdown",
   "metadata": {
    "id": "67ZjtS_aAl3w"
   },
   "source": [
    "In this notebook, I perform sentiment analysis of movie reviews using classes available in scikit-learn.\n",
    "\n",
    "The dataset consists of 50k highly polarized (*clearly* favourable or unfavourable) movie reviews from IMBD. The set is partitioned into a labelled train set of 25k reviews and a labelled test set of 25k reviews. The reviews are preprocessed by lower-casing, removing HTML tags, and removing punctutation. The reviews are then tokenized, removing English stop words, and stemmed. Corpus vectorization is implemented using TfidfVectorizer. Multiple classification models from scikit-learn are trained and tested on the results. The best performing model is pickled for later deployment."
   ]
  },
  {
   "cell_type": "markdown",
   "metadata": {
    "id": "dkrHBlbYAl3x"
   },
   "source": [
    "## Imports"
   ]
  },
  {
   "cell_type": "code",
   "execution_count": 1,
   "metadata": {
    "id": "kqlKD6gqAl3x"
   },
   "outputs": [],
   "source": [
    "import matplotlib.pyplot as plt\n",
    "import pandas as pd\n",
    "import pickle\n",
    "\n",
    "from datasets import load_dataset\n",
    "from scipy.stats import loguniform, uniform\n",
    "from nltk import PorterStemmer\n",
    "\n",
    "from sklearn.feature_extraction.text import ENGLISH_STOP_WORDS, TfidfVectorizer\n",
    "from sklearn.linear_model import LogisticRegression\n",
    "from sklearn.ensemble import RandomForestClassifier\n",
    "from sklearn.svm import LinearSVC\n",
    "from sklearn.pipeline import Pipeline\n",
    "from sklearn.model_selection import RandomizedSearchCV\n",
    "\n",
    "from app.cleaner.preprocessor import Preprocessor\n",
    "from app.cleaner.tokenizer import Tokenizer"
   ]
  },
  {
   "cell_type": "markdown",
   "metadata": {
    "id": "GtGIM-fHAl3z"
   },
   "source": [
    "## Load the IMDB Dataset"
   ]
  },
  {
   "cell_type": "code",
   "execution_count": 2,
   "metadata": {
    "id": "cFKINTFAAl3z"
   },
   "outputs": [],
   "source": [
    "ds = load_dataset('imdb')\n",
    "train, test = pd.DataFrame(ds['train']), pd.DataFrame(ds['test'])"
   ]
  },
  {
   "cell_type": "markdown",
   "metadata": {
    "id": "mZC1PiMoAl30"
   },
   "source": [
    "In the following DataFrame samples, a label of 0 corresponds to a negative review (*i.e.,* thumbs-down) whereas a label of 1 corresponds to a positive review (*i.e.,* thumbs-up)."
   ]
  },
  {
   "cell_type": "code",
   "execution_count": 3,
   "metadata": {
    "id": "RyHpQb8PAl30"
   },
   "outputs": [
    {
     "data": {
      "text/html": [
       "<div>\n",
       "<style scoped>\n",
       "    .dataframe tbody tr th:only-of-type {\n",
       "        vertical-align: middle;\n",
       "    }\n",
       "\n",
       "    .dataframe tbody tr th {\n",
       "        vertical-align: top;\n",
       "    }\n",
       "\n",
       "    .dataframe thead th {\n",
       "        text-align: right;\n",
       "    }\n",
       "</style>\n",
       "<table border=\"1\" class=\"dataframe\">\n",
       "  <thead>\n",
       "    <tr style=\"text-align: right;\">\n",
       "      <th></th>\n",
       "      <th>text</th>\n",
       "      <th>label</th>\n",
       "    </tr>\n",
       "  </thead>\n",
       "  <tbody>\n",
       "    <tr>\n",
       "      <th>12390</th>\n",
       "      <td>This may or may not be the worst movie that St...</td>\n",
       "      <td>0</td>\n",
       "    </tr>\n",
       "    <tr>\n",
       "      <th>18590</th>\n",
       "      <td>.......Playing Kaddiddlehopper, Col San Fernan...</td>\n",
       "      <td>1</td>\n",
       "    </tr>\n",
       "    <tr>\n",
       "      <th>7219</th>\n",
       "      <td>I wish I had my rental money back from this pi...</td>\n",
       "      <td>0</td>\n",
       "    </tr>\n",
       "    <tr>\n",
       "      <th>23584</th>\n",
       "      <td>The influence of Hal Hartley in Adrienne Shell...</td>\n",
       "      <td>1</td>\n",
       "    </tr>\n",
       "    <tr>\n",
       "      <th>10811</th>\n",
       "      <td>What was Franco Zeffirelli thinking? Was Holly...</td>\n",
       "      <td>0</td>\n",
       "    </tr>\n",
       "  </tbody>\n",
       "</table>\n",
       "</div>"
      ],
      "text/plain": [
       "                                                    text  label\n",
       "12390  This may or may not be the worst movie that St...      0\n",
       "18590  .......Playing Kaddiddlehopper, Col San Fernan...      1\n",
       "7219   I wish I had my rental money back from this pi...      0\n",
       "23584  The influence of Hal Hartley in Adrienne Shell...      1\n",
       "10811  What was Franco Zeffirelli thinking? Was Holly...      0"
      ]
     },
     "execution_count": 3,
     "metadata": {},
     "output_type": "execute_result"
    }
   ],
   "source": [
    "train.sample(5)"
   ]
  },
  {
   "cell_type": "code",
   "execution_count": 4,
   "metadata": {
    "id": "1CAvFD9NAl32"
   },
   "outputs": [
    {
     "data": {
      "text/html": [
       "<div>\n",
       "<style scoped>\n",
       "    .dataframe tbody tr th:only-of-type {\n",
       "        vertical-align: middle;\n",
       "    }\n",
       "\n",
       "    .dataframe tbody tr th {\n",
       "        vertical-align: top;\n",
       "    }\n",
       "\n",
       "    .dataframe thead th {\n",
       "        text-align: right;\n",
       "    }\n",
       "</style>\n",
       "<table border=\"1\" class=\"dataframe\">\n",
       "  <thead>\n",
       "    <tr style=\"text-align: right;\">\n",
       "      <th></th>\n",
       "      <th>text</th>\n",
       "      <th>label</th>\n",
       "    </tr>\n",
       "  </thead>\n",
       "  <tbody>\n",
       "    <tr>\n",
       "      <th>7297</th>\n",
       "      <td>(r#64)&lt;br /&gt;&lt;br /&gt;Unredeemable, merit-less, an...</td>\n",
       "      <td>0</td>\n",
       "    </tr>\n",
       "    <tr>\n",
       "      <th>14419</th>\n",
       "      <td>The Merchant of Four Seasons isn't what I woul...</td>\n",
       "      <td>1</td>\n",
       "    </tr>\n",
       "    <tr>\n",
       "      <th>12189</th>\n",
       "      <td>This appears to be two movies spliced into one...</td>\n",
       "      <td>0</td>\n",
       "    </tr>\n",
       "    <tr>\n",
       "      <th>17591</th>\n",
       "      <td>This movie is an all-time favorite of mine. I'...</td>\n",
       "      <td>1</td>\n",
       "    </tr>\n",
       "    <tr>\n",
       "      <th>11632</th>\n",
       "      <td>I absolutely hated this movie. Even though the...</td>\n",
       "      <td>0</td>\n",
       "    </tr>\n",
       "  </tbody>\n",
       "</table>\n",
       "</div>"
      ],
      "text/plain": [
       "                                                    text  label\n",
       "7297   (r#64)<br /><br />Unredeemable, merit-less, an...      0\n",
       "14419  The Merchant of Four Seasons isn't what I woul...      1\n",
       "12189  This appears to be two movies spliced into one...      0\n",
       "17591  This movie is an all-time favorite of mine. I'...      1\n",
       "11632  I absolutely hated this movie. Even though the...      0"
      ]
     },
     "execution_count": 4,
     "metadata": {},
     "output_type": "execute_result"
    }
   ],
   "source": [
    "test.sample(5)"
   ]
  },
  {
   "cell_type": "markdown",
   "metadata": {
    "id": "HRIZs_4BAl33"
   },
   "source": [
    "## Exploratory Data Analysis"
   ]
  },
  {
   "cell_type": "code",
   "execution_count": 5,
   "metadata": {
    "id": "IpY10rt5Al33"
   },
   "outputs": [
    {
     "name": "stdout",
     "output_type": "stream",
     "text": [
      "<class 'pandas.core.frame.DataFrame'>\n",
      "RangeIndex: 25000 entries, 0 to 24999\n",
      "Data columns (total 2 columns):\n",
      " #   Column  Non-Null Count  Dtype \n",
      "---  ------  --------------  ----- \n",
      " 0   text    25000 non-null  object\n",
      " 1   label   25000 non-null  int64 \n",
      "dtypes: int64(1), object(1)\n",
      "memory usage: 390.8+ KB\n"
     ]
    }
   ],
   "source": [
    "train.info()"
   ]
  },
  {
   "cell_type": "markdown",
   "metadata": {
    "id": "Xiru_f-c7EUu"
   },
   "source": [
    "I plot the distribution of movie review labels in the train set."
   ]
  },
  {
   "cell_type": "code",
   "execution_count": 6,
   "metadata": {
    "id": "rWJ-GVkxAl33"
   },
   "outputs": [
    {
     "data": {
      "image/png": "[encoded data removed]",
      "text/plain": [
       "<Figure size 640x480 with 1 Axes>"
      ]
     },
     "metadata": {},
     "output_type": "display_data"
    }
   ],
   "source": [
    "fig, ax = plt.subplots()\n",
    "train.groupby('label').count().plot(kind='bar', alpha=0.75, ax=ax)\n",
    "ax.set_ylabel('count')\n",
    "ax.set_title('Distribution of movie review labels')\n",
    "ax.legend().set_visible(False)\n",
    "plt.show()"
   ]
  },
  {
   "cell_type": "markdown",
   "metadata": {
    "id": "28Xd_9kzAl33"
   },
   "source": [
    "From the above bar graph, the train set appears to be balanced. To confirm:"
   ]
  },
  {
   "cell_type": "code",
   "execution_count": 7,
   "metadata": {
    "id": "owpeKomDAl34"
   },
   "outputs": [
    {
     "data": {
      "text/plain": [
       "label\n",
       "0    12500\n",
       "1    12500\n",
       "Name: count, dtype: int64"
      ]
     },
     "execution_count": 7,
     "metadata": {},
     "output_type": "execute_result"
    }
   ],
   "source": [
    "train['label'].value_counts()"
   ]
  },
  {
   "cell_type": "markdown",
   "metadata": {
    "id": "rGY5KMnTAl34"
   },
   "source": [
    "It is instructive to read a handful of reviews to better understand what is meant by \"highly polarized.\""
   ]
  },
  {
   "cell_type": "code",
   "execution_count": 8,
   "metadata": {
    "id": "KxSsAw5RAl34"
   },
   "outputs": [],
   "source": [
    "thumbs_ups = train[train['label'] == 1]\n",
    "thumbs_downs = train[train['label'] == 0]"
   ]
  },
  {
   "cell_type": "code",
   "execution_count": 9,
   "metadata": {
    "id": "oo1V8uqFAl34"
   },
   "outputs": [
    {
     "name": "stdout",
     "output_type": "stream",
     "text": [
      "\"Wisecracker,\" the biography of actor William Haines, offers a gratifying anecdote about the former star when he was past 70 and long retired from making movies. The old gent was not sentimental and rarely watched his own films, but in 1972 he was persuaded to attend a Los Angeles museum screening of SHOW PEOPLE, the late silent feature in which he co-starred with Marion Davies. Beforehand, Haines was worried that this comedy would provoke the wrong kind of laughter, but he was pleasantly surprised (and no doubt relieved) at how well it held up and how much the young audience enjoyed it. Watch the film today and you can see why: SHOW PEOPLE is a delightful Hollywood satire that retains its charm because it lampoons its targets with wit and flair, yet without malice. It's still funny and its satirical points still resonate. Needless to say, the technology of movie-making has changed vastly since the silent days, but the pretensions and follies of the filmmakers themselves haven't changed all that much.<br /><br />SHOW PEOPLE also stands as the best surviving work of Marion Davies, a first-rate comic performer who deserves a prominent place in the pantheon of great comediennes. Where her career was concerned Davies was both blessed and cursed by the patronage of her paramour, the newspaper magnate William Randolph Hearst. It's well known that Hearst exerted enormous influence over Davies' choice of roles, and well known too that, despite her gift for comedy, he preferred to see her play dignified heroines in period costume dramas. By the late '20s, for whatever reason, Marion was permitted to strut her stuff in several exuberant light comedies (including THE RED MILL and THE PATSY), but SHOW PEOPLE, directed by the great King Vidor, stands as her most enjoyable showcase. William Haines gives an engaging, likable performance as her boyfriend and co-star Billy Boone, but this is the leading lady's show all the way.<br /><br />Marion plays Southern belle Peggy Pepper, an aspiring actress who storms Hollywood accompanied by her father, determined to become a movie star. (Her dad Colonel Pepper is played by actor/director Dell Henderson, a veteran of Griffith's Biograph dramas whocoincidentally?resembled Hearst!) One of Marion's funniest bits, often excerpted elsewhere, is her audition at the Comet Studio casting office. While Dad helpfully suggests emotions to portray (\"Sorrow! . . . Joy!\") and drops a handkerchief across her face, Peggy assumes the appropriate expression and posture. She's hired, only to discover that Comet makes low-brow comedies, the kind of comedies where people squirt each other with seltzer and inept cops tumble over each other racing to the rescue. Of course, Comet is intended as a take-off of Mack Sennett's Keystone, but the true nature of the satire becomes clear as the story unfolds. As Peggy Pepper rises in the movie star hierarchy she leaves Comet for the more prestigious High Art Studio, assuming the name \"Patricia Peppoire\" as more befitting her new station in life as a serious actress. At some point it may occur to us (as it surely did to viewers in 1928) that Davies' rival Gloria Swanson started out in Keystone comedies before rising to prominence in serious dramas for Cecil B. DeMille. And as Miss Peppoire takes herself more and more seriously, giving the high-hat treatment to former colleagues such as lowly comic Billy Boone, Davies' performance takes on an element of wicked parody seemingly aimed squarely at Swanson herself. This is especially notable during an interview sequence, when Miss Peppoire's spokesman spouts pretentious nonsense while the star delivers a spot-on impersonation of Swanson. I suppose this was intended as a friendly spoof, but I have to wonder how friendly relations were between Gloria and Marion after this movie was released.<br /><br />In any event, SHOW PEOPLE is a delicious treat for buffs, who will relish the parade of star cameos throughout. Charlie Chaplin contributes a nice bit, sans makeup and looking quite distinguished, eagerly seeking Patricia Peppoire's autograph! (And in a show of good sportsmanship Marion Davies herself puts in a self-mocking cameo appearance, evening the score for poking fun at Swanson by poking fun at herself.) This is a silent film that viewers not especially attuned to silents might appreciate, at least those viewers with a taste for movies about the movie business. SHOW PEOPLE surely belongs in the company of such classics as SUNSET BOULEVARD and SINGIN' IN THE RAIN, among Hollywood's most expertly produced, enjoyable exercises in amused self-examination.\n",
      "\n",
      "Yes, the cameras were in the right place at the right time. It's so interesting to see how a world leader (like Chavez) who supports the poor people in his country, can be held in such low esteem in the US. His worst \"sin\", in my opinion, is caring about those who are at the bottom of the barrel. What can be so bad about that? I have always been fascinated by the US government+media reaction to Fidel Castro. At first, Castro was a good guy (around 1959) when he supplanted Batista. Soon, however, Castro started turning the corporations in Cuba toward the needs of the poor instead of the fat cats. We're a decent country, but why does our media and government have such a problem with sharing with the poor? If these guys are \"dictators,\" then we could use more \"dictatorships\" especially where the poorest of the poor live in the world.\n",
      "\n",
      "I watched the presentation of this on PBS in the U.S. when it originally aired in 1988 (?). Assuming the miniseries was available on DVD I purchased first editions of all three books last year. Since then I have been searching for the series on internet movie sites. Today I found this web site. I will give up the search.<br /><br />I too would like to buy this complete - 26 episodes - miniseries. After buying the DVDs I would read each book, then watch the episodes for that book. That is what I did with John LeCarre's Karla trilogy and Larry McMurty's Texas ranger trilogy.<br /><br />Does anyone have any suggestions for great books or book series that became very good TV miniseries - or movie series - that are now available on DVD?\n"
     ]
    }
   ],
   "source": [
    "thumbs_up_samples = thumbs_ups['text'].sample(3).to_list()\n",
    "print('\\n\\n'.join(thumbs_up_samples))"
   ]
  },
  {
   "cell_type": "code",
   "execution_count": 10,
   "metadata": {
    "id": "ivqXrzAJAl34"
   },
   "outputs": [
    {
     "name": "stdout",
     "output_type": "stream",
     "text": [
      "Oh my god, what a horrible film. The film has all the right people involved, unfortunately it is not worth watching. I saw it for free at my local library. If I had paid to watch this I would be even more upset. This film is unwatchable. How could Tarintino be involved with such a slow paced, unexciting film. No wonder it didn't get much distribution, every one involved must have been ashamed. I can make a better film with a Dated Camcorder and my Big toe. Its beyond boring, I really hated it. Tarintino just lost some standing in my eyes. This must be some kind of sick joke. Don't Bother with this film. If some one even hints you should watch it, kill them.\n",
      "\n",
      "I first saw this movie on MST3K. And although I laughed my posterior off at the jokes, I don't particularly think this movie was all that bad. Sure it was a little hard to understand it is quite obviously low budget, But it had a very Hitchcock-like plot and I can honestly say that when I viewed the non-MST3K version, I was genuinely entertained. This movie is crying out for a Hollywood remake.\n",
      "\n",
      "<br /><br />I saw this on the Sci-Fi channel. It came on right after the first one. For some reason this movie kept me interested. I don't know why, stop asking.<br /><br />---SPOILERS--- Okay... It was cheesy how this guy got involved with the making of the movie. In the first movie, he had a \"reason\" to kill people, but in this sequal, half of the killings/attempted killings were basicly for no reason. Stanley killed the director due to creative differences, he captured the co-writer due to creative differences, but what was the deal with trying to kill off the cast? No cast, no movie. He wanted it to \"look real when they died\"? If this was supposed to be such a high budget movie, use the special effects, MAN. Of course like the first one, the captured girl gets away, and Stanley ends up getting messed up, and dissapears. Woooooow (sarcasm). This movie HAD potential. And the saddest thing of all... the really sad part... I would watch a \"Cabin by the Lake 3\". Only because I like Judd Nelson, and he's the only good part about this sequal.\n"
     ]
    }
   ],
   "source": [
    "thumbs_down_samples = thumbs_downs['text'].sample(3).to_list()\n",
    "print('\\n\\n'.join(thumbs_down_samples))"
   ]
  },
  {
   "cell_type": "markdown",
   "metadata": {
    "id": "nq5P_Iu1QmaY"
   },
   "source": [
    "Generally, it is pretty clear from reading a particular review whether it is a thumbs-up or thumbs-down."
   ]
  },
  {
   "cell_type": "markdown",
   "metadata": {
    "id": "8eG6a3t6Al35"
   },
   "source": [
    "## Preprocessor"
   ]
  },
  {
   "cell_type": "markdown",
   "metadata": {
    "id": "-bk2TBv9Al35"
   },
   "source": [
    "The preprocessor transforms movie reviews by lower-casing, removing HTML tags, and removing punctuation."
   ]
  },
  {
   "cell_type": "code",
   "execution_count": 11,
   "metadata": {
    "id": "6fpUHAnuQhhu"
   },
   "outputs": [],
   "source": [
    "preprocessor = Preprocessor()"
   ]
  },
  {
   "cell_type": "markdown",
   "metadata": {
    "id": "J6OwlrxwAl36"
   },
   "source": [
    "To see the preprocessor in action, pick a random movie review:"
   ]
  },
  {
   "cell_type": "code",
   "execution_count": 12,
   "metadata": {
    "id": "FKlkpY7qAl36"
   },
   "outputs": [
    {
     "name": "stdout",
     "output_type": "stream",
     "text": [
      "Weak,stale, tired, cliched; wants to be Basic Instinct, but misses opportunity after opportunity for fresh perspectives, new insights. Insipid, trite, grotesque, and without the possibly-redeeming value of brevity; oh, wait...it was only 90 minutes long...it must have just *seemed* a lot longer! I'd rather clean bus station toilets with my toothbrush than have to sit through this again. I'm expressing an opinion here: I guess this means I didn't like it.\n",
      "\n",
      "weakstale tired cliched wants to be basic instinct but misses opportunity after opportunity for fresh perspectives new insights insipid trite grotesque and without the possiblyredeeming value of brevity oh waitit was only 90 minutes longit must have just seemed a lot longer id rather clean bus station toilets with my toothbrush than have to sit through this again im expressing an opinion here i guess this means i didnt like it\n"
     ]
    }
   ],
   "source": [
    "doc = train['text'].sample()\n",
    "doc_preprocessed = preprocessor.transform(doc)\n",
    "\n",
    "print(doc.to_list()[0])\n",
    "print()\n",
    "print(doc_preprocessed[0])"
   ]
  },
  {
   "cell_type": "markdown",
   "metadata": {
    "id": "I8ImtNQfAl36"
   },
   "source": [
    "## Tokenizer"
   ]
  },
  {
   "cell_type": "markdown",
   "metadata": {
    "id": "iWYN34CRAl36"
   },
   "source": [
    "The tokenizer removes English stop words and stems the corpus."
   ]
  },
  {
   "cell_type": "code",
   "execution_count": 13,
   "metadata": {
    "id": "fhCrqrDSB1JD"
   },
   "outputs": [],
   "source": [
    "tokenizer = Tokenizer(PorterStemmer(), ENGLISH_STOP_WORDS)"
   ]
  },
  {
   "cell_type": "markdown",
   "metadata": {
    "id": "-vcEsH_eAl37"
   },
   "source": [
    "To see the tokenizer in action, transform the previously preprocessed movie review."
   ]
  },
  {
   "cell_type": "code",
   "execution_count": 14,
   "metadata": {
    "id": "dCbxTmNTAl37"
   },
   "outputs": [
    {
     "name": "stdout",
     "output_type": "stream",
     "text": [
      "weakstale tired cliched wants to be basic instinct but misses opportunity after opportunity for fresh perspectives new insights insipid trite grotesque and without the possiblyredeeming value of brevity oh waitit was only 90 minutes longit must have just seemed a lot longer id rather clean bus station toilets with my toothbrush than have to sit through this again im expressing an opinion here i guess this means i didnt like it\n",
      "\n",
      "weakstal tire clich want basic instinct miss opportun opportun fresh perspect new insight insipid trite grotesqu possiblyredeem valu breviti oh waitit 90 minut longit just lot longer id clean bu station toilet toothbrush sit im express opinion guess mean didnt like\n"
     ]
    }
   ],
   "source": [
    "doc_tokenized = tokenizer.transform(doc_preprocessed)\n",
    "\n",
    "print(doc_preprocessed[0])\n",
    "print()\n",
    "print(doc_tokenized[0])"
   ]
  },
  {
   "cell_type": "markdown",
   "metadata": {
    "id": "UYeNXdMWCQtc"
   },
   "source": [
    "## Vectorizer"
   ]
  },
  {
   "cell_type": "markdown",
   "metadata": {
    "id": "kJyVHilfCXk9"
   },
   "source": [
    "I use the `TfidfVectorizer` to map documents to vectors."
   ]
  },
  {
   "cell_type": "code",
   "execution_count": 15,
   "metadata": {
    "id": "KKSbw_iiRoRn"
   },
   "outputs": [],
   "source": [
    "vectorizer = TfidfVectorizer(\n",
    "    max_df = 0.95,\n",
    "    min_df = 2,\n",
    "    max_features = 10_000,\n",
    "    strip_accents='unicode'\n",
    ")\n",
    "\n",
    "cleaner = Pipeline([\n",
    "    ('preprocessor', preprocessor),\n",
    "    ('tokenizer', tokenizer),\n",
    "    ('vectorizer', vectorizer)\n",
    "])"
   ]
  },
  {
   "cell_type": "markdown",
   "metadata": {
    "id": "2YAgpYi-Al37"
   },
   "source": [
    "## Classifers"
   ]
  },
  {
   "cell_type": "markdown",
   "metadata": {
    "id": "kTpL6bQ28FgG"
   },
   "source": [
    "I train and test logistic regression, random forest, and support vector machine classifiers on the IMDB movie reviews. I score the models using F1-score because the train set is balanced and the consequences of misclassifying a positive review are the same as misclassifying a negative review."
   ]
  },
  {
   "cell_type": "code",
   "execution_count": 16,
   "metadata": {
    "id": "FQEm6eAbAl37"
   },
   "outputs": [],
   "source": [
    "X_train, X_test, y_train, y_test =\\\n",
    "    train['text'], test['text'], train['label'], test['label']"
   ]
  },
  {
   "cell_type": "markdown",
   "metadata": {
    "id": "9uGBmXsNAl37"
   },
   "source": [
    "### Logistic Regression"
   ]
  },
  {
   "cell_type": "code",
   "execution_count": 17,
   "metadata": {
    "id": "jWfWV2_sAl37"
   },
   "outputs": [],
   "source": [
    "lr = LogisticRegression(\n",
    "    penalty='l2',\n",
    "    max_iter=1000\n",
    ")\n",
    "\n",
    "pipe = Pipeline([\n",
    "    ('cleaner', cleaner),\n",
    "    ('classifier', lr)\n",
    "])\n",
    "\n",
    "param_distributions = {\n",
    "    'classifier__C': loguniform(1e-2, 1e2),\n",
    "    'classifier__solver': ['liblinear', 'newton-cholesky', 'saga']\n",
    "}\n",
    "\n",
    "search_lr = RandomizedSearchCV(\n",
    "    estimator=pipe,\n",
    "    param_distributions=param_distributions,\n",
    "    n_iter=10,\n",
    "    scoring='f1',\n",
    "    n_jobs=1,\n",
    "    refit=True,\n",
    "    cv=5,\n",
    "    verbose=2\n",
    ")"
   ]
  },
  {
   "cell_type": "code",
   "execution_count": 18,
   "metadata": {
    "id": "lOa1gKCmAl38"
   },
   "outputs": [
    {
     "name": "stdout",
     "output_type": "stream",
     "text": [
      "Fitting 5 folds for each of 10 candidates, totalling 50 fits\n",
      "[CV] END classifier__C=0.020391805632689018, classifier__solver=saga; total time=  38.5s\n",
      "[CV] END classifier__C=0.020391805632689018, classifier__solver=saga; total time=  39.0s\n",
      "[CV] END classifier__C=0.020391805632689018, classifier__solver=saga; total time=  38.8s\n",
      "[CV] END classifier__C=0.020391805632689018, classifier__solver=saga; total time=  38.7s\n",
      "[CV] END classifier__C=0.020391805632689018, classifier__solver=saga; total time=  38.5s\n",
      "[CV] END classifier__C=65.0985828273276, classifier__solver=newton-cholesky; total time= 2.0min\n",
      "[CV] END classifier__C=65.0985828273276, classifier__solver=newton-cholesky; total time= 2.1min\n",
      "[CV] END classifier__C=65.0985828273276, classifier__solver=newton-cholesky; total time= 2.0min\n",
      "[CV] END classifier__C=65.0985828273276, classifier__solver=newton-cholesky; total time= 2.0min\n",
      "[CV] END classifier__C=65.0985828273276, classifier__solver=newton-cholesky; total time= 2.0min\n",
      "[CV] END classifier__C=0.18780511103955047, classifier__solver=saga; total time=  38.1s\n",
      "[CV] END classifier__C=0.18780511103955047, classifier__solver=saga; total time=  38.6s\n",
      "[CV] END classifier__C=0.18780511103955047, classifier__solver=saga; total time=  39.0s\n",
      "[CV] END classifier__C=0.18780511103955047, classifier__solver=saga; total time=  38.4s\n",
      "[CV] END classifier__C=0.18780511103955047, classifier__solver=saga; total time=  38.2s\n",
      "[CV] END classifier__C=10.05931440866513, classifier__solver=saga; total time=  38.8s\n",
      "[CV] END classifier__C=10.05931440866513, classifier__solver=saga; total time=  38.6s\n",
      "[CV] END classifier__C=10.05931440866513, classifier__solver=saga; total time=  39.0s\n",
      "[CV] END classifier__C=10.05931440866513, classifier__solver=saga; total time=  39.7s\n",
      "[CV] END classifier__C=10.05931440866513, classifier__solver=saga; total time=  39.4s\n",
      "[CV] END classifier__C=0.032848813648239036, classifier__solver=liblinear; total time=  37.8s\n",
      "[CV] END classifier__C=0.032848813648239036, classifier__solver=liblinear; total time=  37.8s\n",
      "[CV] END classifier__C=0.032848813648239036, classifier__solver=liblinear; total time=  37.7s\n",
      "[CV] END classifier__C=0.032848813648239036, classifier__solver=liblinear; total time=  37.8s\n",
      "[CV] END classifier__C=0.032848813648239036, classifier__solver=liblinear; total time=  37.7s\n",
      "[CV] END classifier__C=47.34649708249161, classifier__solver=saga; total time=  41.1s\n",
      "[CV] END classifier__C=47.34649708249161, classifier__solver=saga; total time=  40.8s\n",
      "[CV] END classifier__C=47.34649708249161, classifier__solver=saga; total time=  41.5s\n",
      "[CV] END classifier__C=47.34649708249161, classifier__solver=saga; total time=  41.0s\n",
      "[CV] END classifier__C=47.34649708249161, classifier__solver=saga; total time=  41.6s\n",
      "[CV] END classifier__C=7.45870524892641, classifier__solver=saga; total time=  39.6s\n",
      "[CV] END classifier__C=7.45870524892641, classifier__solver=saga; total time=  39.5s\n",
      "[CV] END classifier__C=7.45870524892641, classifier__solver=saga; total time=  38.5s\n",
      "[CV] END classifier__C=7.45870524892641, classifier__solver=saga; total time=  38.8s\n",
      "[CV] END classifier__C=7.45870524892641, classifier__solver=saga; total time=  39.5s\n",
      "[CV] END classifier__C=0.0650728163096455, classifier__solver=saga; total time=  38.3s\n",
      "[CV] END classifier__C=0.0650728163096455, classifier__solver=saga; total time=  38.6s\n",
      "[CV] END classifier__C=0.0650728163096455, classifier__solver=saga; total time=  39.3s\n",
      "[CV] END classifier__C=0.0650728163096455, classifier__solver=saga; total time=  38.4s\n",
      "[CV] END classifier__C=0.0650728163096455, classifier__solver=saga; total time=  38.9s\n",
      "[CV] END classifier__C=2.5388232137397138, classifier__solver=newton-cholesky; total time= 1.6min\n",
      "[CV] END classifier__C=2.5388232137397138, classifier__solver=newton-cholesky; total time= 1.6min\n",
      "[CV] END classifier__C=2.5388232137397138, classifier__solver=newton-cholesky; total time= 1.6min\n",
      "[CV] END classifier__C=2.5388232137397138, classifier__solver=newton-cholesky; total time= 1.7min\n",
      "[CV] END classifier__C=2.5388232137397138, classifier__solver=newton-cholesky; total time= 1.7min\n",
      "[CV] END classifier__C=0.5067215996874087, classifier__solver=newton-cholesky; total time= 1.4min\n",
      "[CV] END classifier__C=0.5067215996874087, classifier__solver=newton-cholesky; total time= 1.4min\n",
      "[CV] END classifier__C=0.5067215996874087, classifier__solver=newton-cholesky; total time= 1.4min\n",
      "[CV] END classifier__C=0.5067215996874087, classifier__solver=newton-cholesky; total time= 1.4min\n",
      "[CV] END classifier__C=0.5067215996874087, classifier__solver=newton-cholesky; total time= 1.4min\n"
     ]
    }
   ],
   "source": [
    "search_lr.fit(X_train, y_train);"
   ]
  },
  {
   "cell_type": "code",
   "execution_count": 19,
   "metadata": {
    "id": "s2vSpT-GYX6E"
   },
   "outputs": [
    {
     "name": "stdout",
     "output_type": "stream",
     "text": [
      "Best parameters: {'classifier__C': 0.5067215996874087, 'classifier__solver': 'newton-cholesky'}\n",
      "Test F1-score: 0.8731812037846863\n"
     ]
    }
   ],
   "source": [
    "test_score_lr = search_lr.score(X_test, y_test)\n",
    "\n",
    "print(f'Best parameters: {search_lr.best_params_}')\n",
    "print(f'Test F1-score: {test_score_lr}')"
   ]
  },
  {
   "cell_type": "code",
   "execution_count": 20,
   "metadata": {
    "id": "-deFy3WYMqAu"
   },
   "outputs": [],
   "source": [
    "best_model = search_lr.best_estimator_\n",
    "best_score = test_score_lr"
   ]
  },
  {
   "cell_type": "markdown",
   "metadata": {
    "id": "lKqLIcDJNnyK"
   },
   "source": [
    "### Random Forest"
   ]
  },
  {
   "cell_type": "code",
   "execution_count": 21,
   "metadata": {
    "id": "PRP4PVpwAl38"
   },
   "outputs": [],
   "source": [
    "rfc = RandomForestClassifier()\n",
    "\n",
    "pipe = Pipeline([\n",
    "    ('cleaner', cleaner),\n",
    "    ('classifier', rfc)\n",
    "])\n",
    "\n",
    "param_distributions = {\n",
    "    'classifier__n_estimators': [10, 30, 100, 300, 1000],\n",
    "    'classifier__max_depth': list(range(10, 101)),\n",
    "    'classifier__min_samples_split': list(range(2, 11)),\n",
    "    'classifier__min_samples_leaf': list(range(1, 11))\n",
    "}\n",
    "\n",
    "search_rfc = RandomizedSearchCV(\n",
    "    estimator=pipe,\n",
    "    param_distributions=param_distributions,\n",
    "    n_iter=10,\n",
    "    scoring='f1',\n",
    "    n_jobs=1,\n",
    "    refit=True,\n",
    "    cv=5,\n",
    "    verbose=2\n",
    ")"
   ]
  },
  {
   "cell_type": "code",
   "execution_count": 22,
   "metadata": {
    "id": "VpVfqqUrOVKk"
   },
   "outputs": [
    {
     "name": "stdout",
     "output_type": "stream",
     "text": [
      "Fitting 5 folds for each of 10 candidates, totalling 50 fits\n",
      "[CV] END classifier__max_depth=25, classifier__min_samples_leaf=1, classifier__min_samples_split=4, classifier__n_estimators=1000; total time= 2.0min\n",
      "[CV] END classifier__max_depth=25, classifier__min_samples_leaf=1, classifier__min_samples_split=4, classifier__n_estimators=1000; total time= 2.0min\n",
      "[CV] END classifier__max_depth=25, classifier__min_samples_leaf=1, classifier__min_samples_split=4, classifier__n_estimators=1000; total time= 2.0min\n",
      "[CV] END classifier__max_depth=25, classifier__min_samples_leaf=1, classifier__min_samples_split=4, classifier__n_estimators=1000; total time= 2.0min\n",
      "[CV] END classifier__max_depth=25, classifier__min_samples_leaf=1, classifier__min_samples_split=4, classifier__n_estimators=1000; total time= 2.0min\n",
      "[CV] END classifier__max_depth=84, classifier__min_samples_leaf=6, classifier__min_samples_split=2, classifier__n_estimators=100; total time=  50.3s\n",
      "[CV] END classifier__max_depth=84, classifier__min_samples_leaf=6, classifier__min_samples_split=2, classifier__n_estimators=100; total time=  51.2s\n",
      "[CV] END classifier__max_depth=84, classifier__min_samples_leaf=6, classifier__min_samples_split=2, classifier__n_estimators=100; total time=  49.8s\n",
      "[CV] END classifier__max_depth=84, classifier__min_samples_leaf=6, classifier__min_samples_split=2, classifier__n_estimators=100; total time=  50.3s\n",
      "[CV] END classifier__max_depth=84, classifier__min_samples_leaf=6, classifier__min_samples_split=2, classifier__n_estimators=100; total time=  49.7s\n",
      "[CV] END classifier__max_depth=78, classifier__min_samples_leaf=9, classifier__min_samples_split=6, classifier__n_estimators=1000; total time= 2.1min\n",
      "[CV] END classifier__max_depth=78, classifier__min_samples_leaf=9, classifier__min_samples_split=6, classifier__n_estimators=1000; total time= 2.1min\n",
      "[CV] END classifier__max_depth=78, classifier__min_samples_leaf=9, classifier__min_samples_split=6, classifier__n_estimators=1000; total time= 2.1min\n",
      "[CV] END classifier__max_depth=78, classifier__min_samples_leaf=9, classifier__min_samples_split=6, classifier__n_estimators=1000; total time= 2.1min\n",
      "[CV] END classifier__max_depth=78, classifier__min_samples_leaf=9, classifier__min_samples_split=6, classifier__n_estimators=1000; total time= 2.1min\n",
      "[CV] END classifier__max_depth=37, classifier__min_samples_leaf=10, classifier__min_samples_split=4, classifier__n_estimators=10; total time=  39.3s\n",
      "[CV] END classifier__max_depth=37, classifier__min_samples_leaf=10, classifier__min_samples_split=4, classifier__n_estimators=10; total time=  39.5s\n",
      "[CV] END classifier__max_depth=37, classifier__min_samples_leaf=10, classifier__min_samples_split=4, classifier__n_estimators=10; total time=  39.7s\n",
      "[CV] END classifier__max_depth=37, classifier__min_samples_leaf=10, classifier__min_samples_split=4, classifier__n_estimators=10; total time=  38.1s\n",
      "[CV] END classifier__max_depth=37, classifier__min_samples_leaf=10, classifier__min_samples_split=4, classifier__n_estimators=10; total time=  38.4s\n",
      "[CV] END classifier__max_depth=18, classifier__min_samples_leaf=8, classifier__min_samples_split=10, classifier__n_estimators=100; total time=  41.5s\n",
      "[CV] END classifier__max_depth=18, classifier__min_samples_leaf=8, classifier__min_samples_split=10, classifier__n_estimators=100; total time=  42.0s\n",
      "[CV] END classifier__max_depth=18, classifier__min_samples_leaf=8, classifier__min_samples_split=10, classifier__n_estimators=100; total time=  41.6s\n",
      "[CV] END classifier__max_depth=18, classifier__min_samples_leaf=8, classifier__min_samples_split=10, classifier__n_estimators=100; total time=  42.3s\n",
      "[CV] END classifier__max_depth=18, classifier__min_samples_leaf=8, classifier__min_samples_split=10, classifier__n_estimators=100; total time=  42.0s\n",
      "[CV] END classifier__max_depth=27, classifier__min_samples_leaf=8, classifier__min_samples_split=2, classifier__n_estimators=100; total time=  44.0s\n",
      "[CV] END classifier__max_depth=27, classifier__min_samples_leaf=8, classifier__min_samples_split=2, classifier__n_estimators=100; total time=  43.9s\n",
      "[CV] END classifier__max_depth=27, classifier__min_samples_leaf=8, classifier__min_samples_split=2, classifier__n_estimators=100; total time=  43.0s\n",
      "[CV] END classifier__max_depth=27, classifier__min_samples_leaf=8, classifier__min_samples_split=2, classifier__n_estimators=100; total time=  43.6s\n",
      "[CV] END classifier__max_depth=27, classifier__min_samples_leaf=8, classifier__min_samples_split=2, classifier__n_estimators=100; total time=  43.5s\n",
      "[CV] END classifier__max_depth=85, classifier__min_samples_leaf=7, classifier__min_samples_split=9, classifier__n_estimators=100; total time=  48.1s\n",
      "[CV] END classifier__max_depth=85, classifier__min_samples_leaf=7, classifier__min_samples_split=9, classifier__n_estimators=100; total time=  48.2s\n",
      "[CV] END classifier__max_depth=85, classifier__min_samples_leaf=7, classifier__min_samples_split=9, classifier__n_estimators=100; total time=  47.8s\n",
      "[CV] END classifier__max_depth=85, classifier__min_samples_leaf=7, classifier__min_samples_split=9, classifier__n_estimators=100; total time=  48.1s\n",
      "[CV] END classifier__max_depth=85, classifier__min_samples_leaf=7, classifier__min_samples_split=9, classifier__n_estimators=100; total time=  48.2s\n",
      "[CV] END classifier__max_depth=48, classifier__min_samples_leaf=3, classifier__min_samples_split=4, classifier__n_estimators=10; total time=  39.2s\n",
      "[CV] END classifier__max_depth=48, classifier__min_samples_leaf=3, classifier__min_samples_split=4, classifier__n_estimators=10; total time=  39.4s\n",
      "[CV] END classifier__max_depth=48, classifier__min_samples_leaf=3, classifier__min_samples_split=4, classifier__n_estimators=10; total time=  39.2s\n",
      "[CV] END classifier__max_depth=48, classifier__min_samples_leaf=3, classifier__min_samples_split=4, classifier__n_estimators=10; total time=  39.0s\n",
      "[CV] END classifier__max_depth=48, classifier__min_samples_leaf=3, classifier__min_samples_split=4, classifier__n_estimators=10; total time=  40.1s\n",
      "[CV] END classifier__max_depth=55, classifier__min_samples_leaf=2, classifier__min_samples_split=8, classifier__n_estimators=1000; total time= 3.5min\n",
      "[CV] END classifier__max_depth=55, classifier__min_samples_leaf=2, classifier__min_samples_split=8, classifier__n_estimators=1000; total time= 3.5min\n",
      "[CV] END classifier__max_depth=55, classifier__min_samples_leaf=2, classifier__min_samples_split=8, classifier__n_estimators=1000; total time= 3.5min\n",
      "[CV] END classifier__max_depth=55, classifier__min_samples_leaf=2, classifier__min_samples_split=8, classifier__n_estimators=1000; total time= 3.5min\n",
      "[CV] END classifier__max_depth=55, classifier__min_samples_leaf=2, classifier__min_samples_split=8, classifier__n_estimators=1000; total time= 3.5min\n",
      "[CV] END classifier__max_depth=54, classifier__min_samples_leaf=8, classifier__min_samples_split=7, classifier__n_estimators=300; total time= 1.1min\n",
      "[CV] END classifier__max_depth=54, classifier__min_samples_leaf=8, classifier__min_samples_split=7, classifier__n_estimators=300; total time= 1.1min\n",
      "[CV] END classifier__max_depth=54, classifier__min_samples_leaf=8, classifier__min_samples_split=7, classifier__n_estimators=300; total time= 1.1min\n",
      "[CV] END classifier__max_depth=54, classifier__min_samples_leaf=8, classifier__min_samples_split=7, classifier__n_estimators=300; total time= 1.1min\n",
      "[CV] END classifier__max_depth=54, classifier__min_samples_leaf=8, classifier__min_samples_split=7, classifier__n_estimators=300; total time= 1.1min\n"
     ]
    }
   ],
   "source": [
    "search_rfc.fit(X_train, y_train);"
   ]
  },
  {
   "cell_type": "code",
   "execution_count": 23,
   "metadata": {
    "id": "vtZIsatbZBi1"
   },
   "outputs": [
    {
     "name": "stdout",
     "output_type": "stream",
     "text": [
      "Best parameters: {'classifier__n_estimators': 1000, 'classifier__min_samples_split': 8, 'classifier__min_samples_leaf': 2, 'classifier__max_depth': 55}\n",
      "Test F1-score: 0.8507670850767085\n"
     ]
    }
   ],
   "source": [
    "test_score_rfc = search_rfc.score(X_test, y_test)\n",
    "\n",
    "print(f'Best parameters: {search_rfc.best_params_}')\n",
    "print(f'Test F1-score: {test_score_rfc}')"
   ]
  },
  {
   "cell_type": "code",
   "execution_count": 24,
   "metadata": {
    "id": "_PI7XehrNS_0"
   },
   "outputs": [],
   "source": [
    "if test_score_rfc > best_score:\n",
    "    best_model = search_rfc.best_estimator_\n",
    "    best_score = test_score_rfc"
   ]
  },
  {
   "cell_type": "markdown",
   "metadata": {
    "id": "_4dTJFlzdR5J"
   },
   "source": [
    "### Support Vector Machine"
   ]
  },
  {
   "cell_type": "code",
   "execution_count": 25,
   "metadata": {
    "id": "OzZlXEXIdXPD"
   },
   "outputs": [],
   "source": [
    "svc = LinearSVC(penalty='l2', dual='auto', max_iter=2500)\n",
    "\n",
    "pipe = Pipeline([\n",
    "    ('cleaner', cleaner),\n",
    "    ('classifier', svc)\n",
    "])\n",
    "\n",
    "param_distributions = {\n",
    "    'classifier__C': loguniform(1e-2, 1e2),\n",
    "    'classifier__loss': ['hinge', 'squared_hinge']\n",
    "}\n",
    "\n",
    "search_svc = RandomizedSearchCV(\n",
    "    estimator=pipe,\n",
    "    param_distributions=param_distributions,\n",
    "    n_iter=10,\n",
    "    scoring='f1',\n",
    "    n_jobs=1,\n",
    "    refit=True,\n",
    "    cv=5,\n",
    "    verbose=2\n",
    ")"
   ]
  },
  {
   "cell_type": "code",
   "execution_count": 26,
   "metadata": {
    "id": "-ol8BGeDeQ6A"
   },
   "outputs": [
    {
     "name": "stdout",
     "output_type": "stream",
     "text": [
      "Fitting 5 folds for each of 10 candidates, totalling 50 fits\n",
      "[CV] END classifier__C=0.010107530530896932, classifier__loss=squared_hinge; total time=  37.9s\n",
      "[CV] END classifier__C=0.010107530530896932, classifier__loss=squared_hinge; total time=  37.7s\n",
      "[CV] END classifier__C=0.010107530530896932, classifier__loss=squared_hinge; total time=  38.8s\n",
      "[CV] END classifier__C=0.010107530530896932, classifier__loss=squared_hinge; total time=  38.3s\n",
      "[CV] END classifier__C=0.010107530530896932, classifier__loss=squared_hinge; total time=  37.8s\n",
      "[CV] END classifier__C=1.209783018256273, classifier__loss=hinge; total time=  38.0s\n",
      "[CV] END classifier__C=1.209783018256273, classifier__loss=hinge; total time=  38.1s\n",
      "[CV] END classifier__C=1.209783018256273, classifier__loss=hinge; total time=  37.8s\n",
      "[CV] END classifier__C=1.209783018256273, classifier__loss=hinge; total time=  38.1s\n",
      "[CV] END classifier__C=1.209783018256273, classifier__loss=hinge; total time=  38.3s\n",
      "[CV] END classifier__C=74.73119595076454, classifier__loss=squared_hinge; total time=  42.8s\n",
      "[CV] END classifier__C=74.73119595076454, classifier__loss=squared_hinge; total time=  41.6s\n",
      "[CV] END classifier__C=74.73119595076454, classifier__loss=squared_hinge; total time=  42.3s\n",
      "[CV] END classifier__C=74.73119595076454, classifier__loss=squared_hinge; total time=  41.4s\n",
      "[CV] END classifier__C=74.73119595076454, classifier__loss=squared_hinge; total time=  40.9s\n",
      "[CV] END classifier__C=4.492670576706894, classifier__loss=squared_hinge; total time=  38.5s\n",
      "[CV] END classifier__C=4.492670576706894, classifier__loss=squared_hinge; total time=  38.2s\n",
      "[CV] END classifier__C=4.492670576706894, classifier__loss=squared_hinge; total time=  38.6s\n",
      "[CV] END classifier__C=4.492670576706894, classifier__loss=squared_hinge; total time=  44.1s\n",
      "[CV] END classifier__C=4.492670576706894, classifier__loss=squared_hinge; total time=  52.5s\n",
      "[CV] END classifier__C=19.039907821142616, classifier__loss=squared_hinge; total time=  47.2s\n",
      "[CV] END classifier__C=19.039907821142616, classifier__loss=squared_hinge; total time=  39.0s\n",
      "[CV] END classifier__C=19.039907821142616, classifier__loss=squared_hinge; total time=  44.4s\n",
      "[CV] END classifier__C=19.039907821142616, classifier__loss=squared_hinge; total time=  42.8s\n",
      "[CV] END classifier__C=19.039907821142616, classifier__loss=squared_hinge; total time=  42.6s\n",
      "[CV] END classifier__C=9.276875199443884, classifier__loss=squared_hinge; total time=  42.6s\n",
      "[CV] END classifier__C=9.276875199443884, classifier__loss=squared_hinge; total time=  43.6s\n",
      "[CV] END classifier__C=9.276875199443884, classifier__loss=squared_hinge; total time=  43.9s\n",
      "[CV] END classifier__C=9.276875199443884, classifier__loss=squared_hinge; total time=  46.5s\n",
      "[CV] END classifier__C=9.276875199443884, classifier__loss=squared_hinge; total time=  46.7s\n",
      "[CV] END classifier__C=0.23056874616917333, classifier__loss=hinge; total time=  42.9s\n",
      "[CV] END classifier__C=0.23056874616917333, classifier__loss=hinge; total time=  41.8s\n",
      "[CV] END classifier__C=0.23056874616917333, classifier__loss=hinge; total time=  41.6s\n",
      "[CV] END classifier__C=0.23056874616917333, classifier__loss=hinge; total time=  41.9s\n",
      "[CV] END classifier__C=0.23056874616917333, classifier__loss=hinge; total time=  43.5s\n",
      "[CV] END classifier__C=1.5331327647194175, classifier__loss=squared_hinge; total time=  42.2s\n",
      "[CV] END classifier__C=1.5331327647194175, classifier__loss=squared_hinge; total time=  44.5s\n",
      "[CV] END classifier__C=1.5331327647194175, classifier__loss=squared_hinge; total time=  42.3s\n",
      "[CV] END classifier__C=1.5331327647194175, classifier__loss=squared_hinge; total time=  44.6s\n",
      "[CV] END classifier__C=1.5331327647194175, classifier__loss=squared_hinge; total time=  42.9s\n",
      "[CV] END classifier__C=4.8589309306296435, classifier__loss=hinge; total time=  45.2s\n",
      "[CV] END classifier__C=4.8589309306296435, classifier__loss=hinge; total time=  43.4s\n",
      "[CV] END classifier__C=4.8589309306296435, classifier__loss=hinge; total time=  42.6s\n",
      "[CV] END classifier__C=4.8589309306296435, classifier__loss=hinge; total time=  45.6s\n",
      "[CV] END classifier__C=4.8589309306296435, classifier__loss=hinge; total time=  43.7s\n",
      "[CV] END classifier__C=1.3535944820120678, classifier__loss=squared_hinge; total time=  42.5s\n",
      "[CV] END classifier__C=1.3535944820120678, classifier__loss=squared_hinge; total time=  42.4s\n",
      "[CV] END classifier__C=1.3535944820120678, classifier__loss=squared_hinge; total time=  43.3s\n",
      "[CV] END classifier__C=1.3535944820120678, classifier__loss=squared_hinge; total time=  43.1s\n",
      "[CV] END classifier__C=1.3535944820120678, classifier__loss=squared_hinge; total time=  42.5s\n"
     ]
    }
   ],
   "source": [
    "search_svc.fit(X_train, y_train);"
   ]
  },
  {
   "cell_type": "code",
   "execution_count": 27,
   "metadata": {
    "id": "DKeHEuvyeYFv"
   },
   "outputs": [
    {
     "name": "stdout",
     "output_type": "stream",
     "text": [
      "Best model: {'classifier__C': 0.23056874616917333, 'classifier__loss': 'hinge'}\n",
      "Test F1-score: 0.8755906762498511\n"
     ]
    }
   ],
   "source": [
    "test_score_svc = search_svc.score(X_test, y_test)\n",
    "\n",
    "print(f'Best model: {search_svc.best_params_}')\n",
    "print(f'Test F1-score: {test_score_svc}')"
   ]
  },
  {
   "cell_type": "code",
   "execution_count": 28,
   "metadata": {
    "id": "I7XR2vcANmlO"
   },
   "outputs": [],
   "source": [
    "if test_score_svc > best_score:\n",
    "    best_model = search_svc.best_estimator_\n",
    "    best_score = test_score_svc"
   ]
  },
  {
   "cell_type": "markdown",
   "metadata": {
    "id": "E4nMSB0TUPEH"
   },
   "source": [
    "## Conclusion"
   ]
  },
  {
   "cell_type": "code",
   "execution_count": 29,
   "metadata": {
    "id": "OIYkP5g2UTM4"
   },
   "outputs": [
    {
     "name": "stdout",
     "output_type": "stream",
     "text": [
      "Test F1-scores:\n",
      "    Logistic regression: 0.8731812037846863\n",
      "    Random forest: 0.8507670850767085\n",
      "    Support vector machine: 0.8755906762498511\n"
     ]
    }
   ],
   "source": [
    "print(f'Test F1-scores:')\n",
    "print(f'    Logistic regression: {test_score_lr}')\n",
    "print(f'    Random forest: {test_score_rfc}')\n",
    "print(f'    Support vector machine: {test_score_svc}')"
   ]
  },
  {
   "cell_type": "markdown",
   "metadata": {
    "id": "w0xrCOYo9eJK"
   },
   "source": [
    "I pickle the best-performing model so that it can be deployed later."
   ]
  },
  {
   "cell_type": "code",
   "execution_count": 30,
   "metadata": {
    "id": "oZT0s9JA6DZB"
   },
   "outputs": [],
   "source": [
    "model_dir = 'app/model'\n",
    "with open(f'{model_dir}/best_model.pkl', 'wb') as file:\n",
    "    pickle.dump(best_model, file)"
   ]
  }
 ],
 "metadata": {
  "colab": {
   "include_colab_link": true,
   "provenance": []
  },
  "kernelspec": {
   "display_name": "nlp",
   "language": "python",
   "name": "nlp"
  },
  "language_info": {
   "codemirror_mode": {
    "name": "ipython",
    "version": 3
   },
   "file_extension": ".py",
   "mimetype": "text/x-python",
   "name": "python",
   "nbconvert_exporter": "python",
   "pygments_lexer": "ipython3",
   "version": "3.12.4"
  }
 },
 "nbformat": 4,
 "nbformat_minor": 4
}
