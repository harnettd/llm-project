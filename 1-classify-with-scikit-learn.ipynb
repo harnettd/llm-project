{
 "cells": [
  {
   "cell_type": "markdown",
   "metadata": {
    "id": "0KIIomXgAl3t"
   },
   "source": [
    "# Sentiment Analysis of Movie Reviews using TfidfVectorizer and Classifiers from scikit-learn"
   ]
  },
  {
   "cell_type": "markdown",
   "metadata": {
    "id": "67ZjtS_aAl3w"
   },
   "source": [
    "In this notebook, I perform sentiment analysis of movie reviews using classes available in scikit-learn.\n",
    "\n",
    "The dataset consists of 50k highly polarized (*clearly* favourable or unfavourable) movie reviews from IMBD. The set is partitioned into a labelled train set of 25k reviews and a labelled test set of 25k reviews. The reviews are preprocessed by lower-casing, removing HTML tags, and removing punctutation. The reviews are then tokenized, removing English stop words, and stemmed. Corpus vectorization is implemented using TfidfVectorizer. Multiple classification models from scikit-learn are trained and tested on the results. The best performing model is pickled for later deployment."
   ]
  },
  {
   "cell_type": "markdown",
   "metadata": {
    "id": "dkrHBlbYAl3x"
   },
   "source": [
    "## Imports"
   ]
  },
  {
   "cell_type": "code",
   "execution_count": 1,
   "metadata": {
    "id": "kqlKD6gqAl3x"
   },
   "outputs": [],
   "source": [
    "import matplotlib.pyplot as plt\n",
    "import pandas as pd\n",
    "import pickle\n",
    "\n",
    "from datasets import load_dataset\n",
    "from scipy.stats import loguniform, uniform\n",
    "from nltk import PorterStemmer\n",
    "\n",
    "from sklearn.feature_extraction.text import ENGLISH_STOP_WORDS, TfidfVectorizer\n",
    "from sklearn.linear_model import LogisticRegression\n",
    "from sklearn.ensemble import RandomForestClassifier\n",
    "from sklearn.svm import LinearSVC\n",
    "from sklearn.pipeline import Pipeline\n",
    "from sklearn.model_selection import RandomizedSearchCV\n",
    "\n",
    "from app.cleaner.preprocessor import Preprocessor\n",
    "from app.cleaner.tokenizer import Tokenizer"
   ]
  },
  {
   "cell_type": "markdown",
   "metadata": {
    "id": "GtGIM-fHAl3z"
   },
   "source": [
    "## Load the IMDB Dataset"
   ]
  },
  {
   "cell_type": "code",
   "execution_count": 2,
   "metadata": {
    "id": "cFKINTFAAl3z"
   },
   "outputs": [],
   "source": [
    "ds = load_dataset('imdb')\n",
    "train, test = pd.DataFrame(ds['train']), pd.DataFrame(ds['test'])"
   ]
  },
  {
   "cell_type": "markdown",
   "metadata": {
    "id": "mZC1PiMoAl30"
   },
   "source": [
    "In the following DataFrame samples, a label of 0 corresponds to a negative review (*i.e.,* thumbs-down) whereas a label of 1 corresponds to a positive review (*i.e.,* thumbs-up)."
   ]
  },
  {
   "cell_type": "code",
   "execution_count": 3,
   "metadata": {
    "id": "RyHpQb8PAl30"
   },
   "outputs": [
    {
     "data": {
      "text/html": [
       "<div>\n",
       "<style scoped>\n",
       "    .dataframe tbody tr th:only-of-type {\n",
       "        vertical-align: middle;\n",
       "    }\n",
       "\n",
       "    .dataframe tbody tr th {\n",
       "        vertical-align: top;\n",
       "    }\n",
       "\n",
       "    .dataframe thead th {\n",
       "        text-align: right;\n",
       "    }\n",
       "</style>\n",
       "<table border=\"1\" class=\"dataframe\">\n",
       "  <thead>\n",
       "    <tr style=\"text-align: right;\">\n",
       "      <th></th>\n",
       "      <th>text</th>\n",
       "      <th>label</th>\n",
       "    </tr>\n",
       "  </thead>\n",
       "  <tbody>\n",
       "    <tr>\n",
       "      <th>21944</th>\n",
       "      <td>One thing I always liked about Robert Ludlum t...</td>\n",
       "      <td>1</td>\n",
       "    </tr>\n",
       "    <tr>\n",
       "      <th>6801</th>\n",
       "      <td>It's sad when you can see what a movie was att...</td>\n",
       "      <td>0</td>\n",
       "    </tr>\n",
       "    <tr>\n",
       "      <th>10049</th>\n",
       "      <td>I wasn't terribly impressed with Dante's 1st s...</td>\n",
       "      <td>0</td>\n",
       "    </tr>\n",
       "    <tr>\n",
       "      <th>9538</th>\n",
       "      <td>A text prologue warns us that we should not al...</td>\n",
       "      <td>0</td>\n",
       "    </tr>\n",
       "    <tr>\n",
       "      <th>11472</th>\n",
       "      <td>It was obvious that this movie is designed to ...</td>\n",
       "      <td>0</td>\n",
       "    </tr>\n",
       "  </tbody>\n",
       "</table>\n",
       "</div>"
      ],
      "text/plain": [
       "                                                    text  label\n",
       "21944  One thing I always liked about Robert Ludlum t...      1\n",
       "6801   It's sad when you can see what a movie was att...      0\n",
       "10049  I wasn't terribly impressed with Dante's 1st s...      0\n",
       "9538   A text prologue warns us that we should not al...      0\n",
       "11472  It was obvious that this movie is designed to ...      0"
      ]
     },
     "execution_count": 3,
     "metadata": {},
     "output_type": "execute_result"
    }
   ],
   "source": [
    "train.sample(5)"
   ]
  },
  {
   "cell_type": "code",
   "execution_count": 4,
   "metadata": {
    "id": "1CAvFD9NAl32"
   },
   "outputs": [
    {
     "data": {
      "text/html": [
       "<div>\n",
       "<style scoped>\n",
       "    .dataframe tbody tr th:only-of-type {\n",
       "        vertical-align: middle;\n",
       "    }\n",
       "\n",
       "    .dataframe tbody tr th {\n",
       "        vertical-align: top;\n",
       "    }\n",
       "\n",
       "    .dataframe thead th {\n",
       "        text-align: right;\n",
       "    }\n",
       "</style>\n",
       "<table border=\"1\" class=\"dataframe\">\n",
       "  <thead>\n",
       "    <tr style=\"text-align: right;\">\n",
       "      <th></th>\n",
       "      <th>text</th>\n",
       "      <th>label</th>\n",
       "    </tr>\n",
       "  </thead>\n",
       "  <tbody>\n",
       "    <tr>\n",
       "      <th>13744</th>\n",
       "      <td>conventional and superficial ,Claude´s portray...</td>\n",
       "      <td>1</td>\n",
       "    </tr>\n",
       "    <tr>\n",
       "      <th>13427</th>\n",
       "      <td>This is primarily about love in WWII, yet we m...</td>\n",
       "      <td>1</td>\n",
       "    </tr>\n",
       "    <tr>\n",
       "      <th>8739</th>\n",
       "      <td>A single mom,her son and daughter and their hi...</td>\n",
       "      <td>0</td>\n",
       "    </tr>\n",
       "    <tr>\n",
       "      <th>10540</th>\n",
       "      <td>Scary Movie 1-4, Epic Movie, Date Movie, Meet ...</td>\n",
       "      <td>0</td>\n",
       "    </tr>\n",
       "    <tr>\n",
       "      <th>3775</th>\n",
       "      <td>Reading the other two comments, I had to wonde...</td>\n",
       "      <td>0</td>\n",
       "    </tr>\n",
       "  </tbody>\n",
       "</table>\n",
       "</div>"
      ],
      "text/plain": [
       "                                                    text  label\n",
       "13744  conventional and superficial ,Claude´s portray...      1\n",
       "13427  This is primarily about love in WWII, yet we m...      1\n",
       "8739   A single mom,her son and daughter and their hi...      0\n",
       "10540  Scary Movie 1-4, Epic Movie, Date Movie, Meet ...      0\n",
       "3775   Reading the other two comments, I had to wonde...      0"
      ]
     },
     "execution_count": 4,
     "metadata": {},
     "output_type": "execute_result"
    }
   ],
   "source": [
    "test.sample(5)"
   ]
  },
  {
   "cell_type": "markdown",
   "metadata": {
    "id": "HRIZs_4BAl33"
   },
   "source": [
    "## Exploratory Data Analysis"
   ]
  },
  {
   "cell_type": "code",
   "execution_count": 5,
   "metadata": {
    "id": "IpY10rt5Al33"
   },
   "outputs": [
    {
     "name": "stdout",
     "output_type": "stream",
     "text": [
      "<class 'pandas.core.frame.DataFrame'>\n",
      "RangeIndex: 25000 entries, 0 to 24999\n",
      "Data columns (total 2 columns):\n",
      " #   Column  Non-Null Count  Dtype \n",
      "---  ------  --------------  ----- \n",
      " 0   text    25000 non-null  object\n",
      " 1   label   25000 non-null  int64 \n",
      "dtypes: int64(1), object(1)\n",
      "memory usage: 390.8+ KB\n"
     ]
    }
   ],
   "source": [
    "train.info()"
   ]
  },
  {
   "cell_type": "markdown",
   "metadata": {
    "id": "Xiru_f-c7EUu"
   },
   "source": [
    "I plot the distribution of movie review labels in the train set."
   ]
  },
  {
   "cell_type": "code",
   "execution_count": 6,
   "metadata": {
    "id": "rWJ-GVkxAl33"
   },
   "outputs": [
    {
     "data": {
      "image/png": "[encoded data removed]",
      "text/plain": [
       "<Figure size 640x480 with 1 Axes>"
      ]
     },
     "metadata": {},
     "output_type": "display_data"
    }
   ],
   "source": [
    "fig, ax = plt.subplots()\n",
    "train.groupby('label').count().plot(kind='bar', alpha=0.75, ax=ax)\n",
    "ax.set_ylabel('count')\n",
    "ax.set_title('Distribution of movie review labels')\n",
    "ax.legend().set_visible(False)\n",
    "plt.show()"
   ]
  },
  {
   "cell_type": "markdown",
   "metadata": {
    "id": "28Xd_9kzAl33"
   },
   "source": [
    "From the above bar graph, the train set appears to be balanced. To confirm:"
   ]
  },
  {
   "cell_type": "code",
   "execution_count": 7,
   "metadata": {
    "id": "owpeKomDAl34"
   },
   "outputs": [
    {
     "data": {
      "text/plain": [
       "label\n",
       "0    12500\n",
       "1    12500\n",
       "Name: count, dtype: int64"
      ]
     },
     "execution_count": 7,
     "metadata": {},
     "output_type": "execute_result"
    }
   ],
   "source": [
    "train['label'].value_counts()"
   ]
  },
  {
   "cell_type": "markdown",
   "metadata": {
    "id": "rGY5KMnTAl34"
   },
   "source": [
    "It is instructive to read a handful of reviews to better understand what is meant by \"highly polarized.\""
   ]
  },
  {
   "cell_type": "code",
   "execution_count": 8,
   "metadata": {
    "id": "KxSsAw5RAl34"
   },
   "outputs": [],
   "source": [
    "thumbs_ups = train[train['label'] == 1]\n",
    "thumbs_downs = train[train['label'] == 0]"
   ]
  },
  {
   "cell_type": "code",
   "execution_count": 9,
   "metadata": {
    "id": "oo1V8uqFAl34"
   },
   "outputs": [
    {
     "name": "stdout",
     "output_type": "stream",
     "text": [
      "This wonderful 1983 BBC television production (not a movie, as others have written here) of the classic love story \"Jane Eyre\", starring Timothy Dalton as Rochester, and Zelah Clarke as Jane, is the finest version that has been made to date, since it is the most faithful to the novel by Charlotte Bronte in both concept and dialogue. <br /><br />A classic becomes a classic for very specific reasons; when film producers start to meddle with a classic's very lifeblood then that classic is destroyed. Thankfully the producers of THIS \"Jane Eyre\" approached the story with respect and faithfulness towards the original, which results in a spectacularly addictive concoction that is worth viewing multiple times, to enjoy its multi-layers of sweetness and delight and suspense. The performances are delightful, the music is just right, even the Gothic design of the house and outdoor shots are beautiful, and set the right tone for the production. <br /><br />My only criticism, though slight, is that this version, like every other version ever made of Jane Eyre, ignores the Christian influences that built Jane's character and influenced her moral choices. In today's modern world a woman in Jane's situation wouldn't think twice but to stay with Rochester after finding out he had an insane wife and was still married to her. \"Oh, just get a divorce\", she would say to her man, or she would live in sin with him. But Jane Eyre knew she couldn't settle for this course in life and respect herself. Why? This decision was based on the foundations of the Christian faith she had been taught since childhood, not from the brutal Calvinist Lowood Institution, but from the Christian example of a true friend, Helen Burns, who was martyred rather than not turn the other cheek. Someday I would like to see some version depict these influences a little more fully in an adaptation. A classic novel that ends with the heroine writing \"Even so, come Lord Jesus!\" should not have the foundations of that faith stripped out of it.\n",
      "\n",
      "I watched this movie 11 years ago in company with my best female friend. I got my judgment teeth pulled out so I didn't feel very good.<br /><br />I ended up liking it big time. It's a hard watch if you take in account that it deals with friendship, unwanted betrayal, power, money, drug traffic, and the extreme hard situation that deals with living in a foreign jail.<br /><br />The acting is on it's prime level. Two of the women that I lust the most star and that's a good thing. Claire Danes is as cute and charming as always while Kate Beckinsale is extremely hot and delivers a fine performance. Bill Pullman is also great and demonstrates his histrionic qualities.<br /><br />There are many plot twists to dig from and make it an interesting visual experience. Plus it shows the difficult times at Thailand.<br /><br />This is an underrated movie. Not many films like this one have come up in recent history. It should make you reflex about many things...\n",
      "\n",
      "My choice for greatest movie ever used to be Laughton's \"Night of the Hunter\" which remains superb in my canon. But, it may have been supplanted by \"Shower\" which is the most artistically Daoist movie I have seen. The way that caring for others is represented by the flowing of water, and the way that water can be made inspiration, and comfort, and cleansing, and etc. is the essence of the Dao. It is possible to argue that the the NOFTH and Shower themes are similar, and that Lillian Gish in the former represents the purest form of Christianity as the operators of the bathhouse represent the purest form of Daoism. I would not in any way argue against such an interpretation. Both movies are visual joys in their integration of idea and image. Yet, Shower presents such an unstylized view of the sacredness of everyday life that I give it the nod. I revere both.\n"
     ]
    }
   ],
   "source": [
    "thumbs_up_samples = thumbs_ups['text'].sample(3).to_list()\n",
    "print('\\n\\n'.join(thumbs_up_samples))"
   ]
  },
  {
   "cell_type": "code",
   "execution_count": 10,
   "metadata": {
    "id": "ivqXrzAJAl34"
   },
   "outputs": [
    {
     "name": "stdout",
     "output_type": "stream",
     "text": [
      "Incredibly muddled, off-putting and ultimately ludicrous (\"the horses, oh my God, the horses!\") thriller. It's creepy at times, but it has one of the worst scripts ever written for a horror film. Watch how in the final 10 minutes everybody \"magically\" does exactly what the plot needs for the \"resolution\" to occur. Bland performances by the leads, a typically eccentric one by Richard Lynch. The video transfer is a real hack job, cutting scenes in half and making the movie even more difficult to understand. 0 out of 4 stars.\n",
      "\n",
      "Just saw the movie this past weekend, I am upset, and disappointed with it. Basically, the movie tells you that immigrants, the ones from former Soviet Union especially, come to this country, bring everyone they can with them from the old country, and invade and take over what Americans have been working for. Which is a very wrong way of looking at immigration, and a much worse way of telling people about it. That's the main thing. Another thing, the overall writing, directing and filming is on the level of village amateurs. The actors did pretty well, but it wasn't up to them save this bunch of crap. A few jokes were funny, but most were bad and cheesy. Couldn't wait to get out of the theater, want my money back.\n",
      "\n",
      "This is a strange sex comedy because there`s very little comedy but a whole lot of sex , most of which takes place in the back of a car and is so graphic it makes BASIC INSTINCT look like an edition of TELETUBBIES . I kid you not , the sex in this film is so in your face it might just choke you , especially if you`re watching with your grandparents .<br /><br />As for the rest of RITA , SUE AND BOB TOO there`s not much else worth mentioning except the language where every single sentence seems to contain the F word . This a rather bleak hyper-realist British film made at a time when Channel 4 was the main investor in British movies which explains its made for television low budget feel\n"
     ]
    }
   ],
   "source": [
    "thumbs_down_samples = thumbs_downs['text'].sample(3).to_list()\n",
    "print('\\n\\n'.join(thumbs_down_samples))"
   ]
  },
  {
   "cell_type": "markdown",
   "metadata": {
    "id": "nq5P_Iu1QmaY"
   },
   "source": [
    "Generally, it is pretty clear from reading a particular review whether it is a thumbs-up or thumbs-down."
   ]
  },
  {
   "cell_type": "markdown",
   "metadata": {
    "id": "8eG6a3t6Al35"
   },
   "source": [
    "## Preprocessor"
   ]
  },
  {
   "cell_type": "markdown",
   "metadata": {
    "id": "-bk2TBv9Al35"
   },
   "source": [
    "The preprocessor transforms movie reviews by lower-casing, removing HTML tags, and removing punctuation."
   ]
  },
  {
   "cell_type": "code",
   "execution_count": 11,
   "metadata": {
    "id": "6fpUHAnuQhhu"
   },
   "outputs": [],
   "source": [
    "preprocessor = Preprocessor()"
   ]
  },
  {
   "cell_type": "markdown",
   "metadata": {
    "id": "J6OwlrxwAl36"
   },
   "source": [
    "To see the preprocessor in action, pick a random movie review:"
   ]
  },
  {
   "cell_type": "code",
   "execution_count": 12,
   "metadata": {
    "id": "FKlkpY7qAl36"
   },
   "outputs": [
    {
     "name": "stdout",
     "output_type": "stream",
     "text": [
      "Jafar Panahi's comedy-drama \"Offside\" portrays some women trying to enter a Tehran sports arena from which women are banned. The official reason: lots of foul language, and the soccer players have their legs showing. But of course, it's really a case of sexism. So, most of the movie consists of mild comic relief as the women try to ask the men serious questions about why women are banned from the stadium, and one woman even comes up with her own scheme to defy the men.<br /><br />As I understand, all of Jafar Panahi's movies (this one included) are banned in Iran. The real tragedy is that the CIA's 1953 overthrow of the prime minister and subsequent backing of the brutal shah gave Ayatollah Khomeini an excuse to use his narrow interpretation of the Koran to establish a chauvinistic society, and that George W. Bush's current policy towards Iran gives Mahmoud Ahmadinejad an excuse to act the cowboy and tighten censorship.<br /><br />Above all, this is a neat look at people coming up with ways to challenge the system. Not a great movie, but worth seeing. Considering that all Jafar Panahi's movies are banned, I wonder how he's able to even make them.\n",
      "\n",
      "jafar panahis comedydrama offside portrays some women trying to enter a tehran sports arena from which women are banned the official reason lots of foul language and the soccer players have their legs showing but of course its really a case of sexism so most of the movie consists of mild comic relief as the women try to ask the men serious questions about why women are banned from the stadium and one woman even comes up with her own scheme to defy the men  as i understand all of jafar panahis movies this one included are banned in iran the real tragedy is that the cias 1953 overthrow of the prime minister and subsequent backing of the brutal shah gave ayatollah khomeini an excuse to use his narrow interpretation of the koran to establish a chauvinistic society and that george w bushs current policy towards iran gives mahmoud ahmadinejad an excuse to act the cowboy and tighten censorship  above all this is a neat look at people coming up with ways to challenge the system not a great movie but worth seeing considering that all jafar panahis movies are banned i wonder how hes able to even make them\n"
     ]
    }
   ],
   "source": [
    "doc = train['text'].sample()\n",
    "doc_preprocessed = preprocessor.transform(doc)\n",
    "\n",
    "print(doc.to_list()[0])\n",
    "print()\n",
    "print(doc_preprocessed[0])"
   ]
  },
  {
   "cell_type": "markdown",
   "metadata": {
    "id": "I8ImtNQfAl36"
   },
   "source": [
    "## Tokenizer"
   ]
  },
  {
   "cell_type": "markdown",
   "metadata": {
    "id": "iWYN34CRAl36"
   },
   "source": [
    "The tokenizer removes English stop words and stems the corpus."
   ]
  },
  {
   "cell_type": "code",
   "execution_count": 13,
   "metadata": {
    "id": "fhCrqrDSB1JD"
   },
   "outputs": [],
   "source": [
    "tokenizer = Tokenizer(PorterStemmer(), ENGLISH_STOP_WORDS)"
   ]
  },
  {
   "cell_type": "markdown",
   "metadata": {
    "id": "-vcEsH_eAl37"
   },
   "source": [
    "To see the tokenizer in action, transform the previously preprocessed movie review."
   ]
  },
  {
   "cell_type": "code",
   "execution_count": 14,
   "metadata": {
    "id": "dCbxTmNTAl37"
   },
   "outputs": [
    {
     "name": "stdout",
     "output_type": "stream",
     "text": [
      "jafar panahis comedydrama offside portrays some women trying to enter a tehran sports arena from which women are banned the official reason lots of foul language and the soccer players have their legs showing but of course its really a case of sexism so most of the movie consists of mild comic relief as the women try to ask the men serious questions about why women are banned from the stadium and one woman even comes up with her own scheme to defy the men  as i understand all of jafar panahis movies this one included are banned in iran the real tragedy is that the cias 1953 overthrow of the prime minister and subsequent backing of the brutal shah gave ayatollah khomeini an excuse to use his narrow interpretation of the koran to establish a chauvinistic society and that george w bushs current policy towards iran gives mahmoud ahmadinejad an excuse to act the cowboy and tighten censorship  above all this is a neat look at people coming up with ways to challenge the system not a great movie but worth seeing considering that all jafar panahis movies are banned i wonder how hes able to even make them\n",
      "\n",
      "jafar panahi comedydrama offsid portray women tri enter tehran sport arena women ban offici reason lot foul languag soccer player leg show cours realli case sexism movi consist mild comic relief women tri ask men question women ban stadium woman come scheme defi men understand jafar panahi movi includ ban iran real tragedi cia 1953 overthrow prime minist subsequ back brutal shah gave ayatollah khomeini excus use narrow interpret koran establish chauvinist societi georg w bush current polici iran give mahmoud ahmadinejad excus act cowboy tighten censorship neat look peopl come way challeng great movi worth see consid jafar panahi movi ban wonder he abl make\n"
     ]
    }
   ],
   "source": [
    "doc_tokenized = tokenizer.transform(doc_preprocessed)\n",
    "\n",
    "print(doc_preprocessed[0])\n",
    "print()\n",
    "print(doc_tokenized[0])"
   ]
  },
  {
   "cell_type": "markdown",
   "metadata": {
    "id": "UYeNXdMWCQtc"
   },
   "source": [
    "## Vectorizer"
   ]
  },
  {
   "cell_type": "markdown",
   "metadata": {
    "id": "kJyVHilfCXk9"
   },
   "source": [
    "I use the `TfidfVectorizer` to map documents to vectors."
   ]
  },
  {
   "cell_type": "code",
   "execution_count": 15,
   "metadata": {
    "id": "KKSbw_iiRoRn"
   },
   "outputs": [],
   "source": [
    "vectorizer = TfidfVectorizer(\n",
    "    max_df = 0.95,\n",
    "    min_df = 2,\n",
    "    max_features = 10_000,\n",
    "    strip_accents='unicode'\n",
    ")\n",
    "\n",
    "cleaner = Pipeline([\n",
    "    ('preprocessor', preprocessor),\n",
    "    ('tokenizer', tokenizer),\n",
    "    ('vectorizer', vectorizer)\n",
    "])"
   ]
  },
  {
   "cell_type": "markdown",
   "metadata": {
    "id": "2YAgpYi-Al37"
   },
   "source": [
    "## Classifers"
   ]
  },
  {
   "cell_type": "markdown",
   "metadata": {
    "id": "kTpL6bQ28FgG"
   },
   "source": [
    "I train and test logistic regression, random forest, and support vector machine classifiers on the IMDB movie reviews. I score the models using F1-score because the train set is balanced and the consequences of misclassifying a positive review are the same as misclassifying a negative review."
   ]
  },
  {
   "cell_type": "code",
   "execution_count": 16,
   "metadata": {
    "id": "FQEm6eAbAl37"
   },
   "outputs": [],
   "source": [
    "X_train, X_test, y_train, y_test =\\\n",
    "    train['text'], test['text'], train['label'], test['label']"
   ]
  },
  {
   "cell_type": "markdown",
   "metadata": {
    "id": "9uGBmXsNAl37"
   },
   "source": [
    "### Logistic Regression"
   ]
  },
  {
   "cell_type": "code",
   "execution_count": 17,
   "metadata": {
    "id": "jWfWV2_sAl37"
   },
   "outputs": [],
   "source": [
    "lr = LogisticRegression(\n",
    "    penalty='l2',\n",
    "    max_iter=1000\n",
    ")\n",
    "\n",
    "pipe = Pipeline([\n",
    "    ('cleaner', cleaner),\n",
    "    ('classifier', lr)\n",
    "])\n",
    "\n",
    "param_distributions = {\n",
    "    'classifier__C': loguniform(1e-2, 1e2),\n",
    "    'classifier__solver': ['liblinear', 'newton-cholesky', 'saga']\n",
    "}\n",
    "\n",
    "search_lr = RandomizedSearchCV(\n",
    "    estimator=pipe,\n",
    "    param_distributions=param_distributions,\n",
    "    n_iter=15,\n",
    "    scoring='f1',\n",
    "    n_jobs=1,\n",
    "    refit=True,\n",
    "    cv=5,\n",
    "    verbose=2\n",
    ")"
   ]
  },
  {
   "cell_type": "code",
   "execution_count": 18,
   "metadata": {
    "id": "lOa1gKCmAl38"
   },
   "outputs": [
    {
     "name": "stdout",
     "output_type": "stream",
     "text": [
      "Fitting 5 folds for each of 15 candidates, totalling 75 fits\n",
      "[CV] END classifier__C=2.052745531276983, classifier__solver=saga; total time=  41.9s\n",
      "[CV] END classifier__C=2.052745531276983, classifier__solver=saga; total time=  40.6s\n",
      "[CV] END classifier__C=2.052745531276983, classifier__solver=saga; total time=  41.8s\n",
      "[CV] END classifier__C=2.052745531276983, classifier__solver=saga; total time=  41.7s\n",
      "[CV] END classifier__C=2.052745531276983, classifier__solver=saga; total time=  42.7s\n",
      "[CV] END classifier__C=0.015118728475747849, classifier__solver=newton-cholesky; total time= 1.3min\n",
      "[CV] END classifier__C=0.015118728475747849, classifier__solver=newton-cholesky; total time= 1.1min\n",
      "[CV] END classifier__C=0.015118728475747849, classifier__solver=newton-cholesky; total time= 1.1min\n",
      "[CV] END classifier__C=0.015118728475747849, classifier__solver=newton-cholesky; total time= 1.1min\n",
      "[CV] END classifier__C=0.015118728475747849, classifier__solver=newton-cholesky; total time= 1.1min\n",
      "[CV] END classifier__C=0.011527720030015946, classifier__solver=liblinear; total time=  40.9s\n",
      "[CV] END classifier__C=0.011527720030015946, classifier__solver=liblinear; total time=  40.6s\n",
      "[CV] END classifier__C=0.011527720030015946, classifier__solver=liblinear; total time=  41.8s\n",
      "[CV] END classifier__C=0.011527720030015946, classifier__solver=liblinear; total time=  41.0s\n",
      "[CV] END classifier__C=0.011527720030015946, classifier__solver=liblinear; total time=  40.8s\n",
      "[CV] END classifier__C=1.179728794342189, classifier__solver=liblinear; total time=  41.7s\n",
      "[CV] END classifier__C=1.179728794342189, classifier__solver=liblinear; total time=  41.2s\n",
      "[CV] END classifier__C=1.179728794342189, classifier__solver=liblinear; total time=  41.2s\n",
      "[CV] END classifier__C=1.179728794342189, classifier__solver=liblinear; total time=  41.8s\n",
      "[CV] END classifier__C=1.179728794342189, classifier__solver=liblinear; total time=  37.3s\n",
      "[CV] END classifier__C=36.328356466075505, classifier__solver=newton-cholesky; total time= 1.8min\n",
      "[CV] END classifier__C=36.328356466075505, classifier__solver=newton-cholesky; total time= 1.8min\n",
      "[CV] END classifier__C=36.328356466075505, classifier__solver=newton-cholesky; total time= 1.8min\n",
      "[CV] END classifier__C=36.328356466075505, classifier__solver=newton-cholesky; total time= 1.8min\n",
      "[CV] END classifier__C=36.328356466075505, classifier__solver=newton-cholesky; total time= 1.8min\n",
      "[CV] END classifier__C=0.43120504139679305, classifier__solver=newton-cholesky; total time= 1.4min\n",
      "[CV] END classifier__C=0.43120504139679305, classifier__solver=newton-cholesky; total time= 1.4min\n",
      "[CV] END classifier__C=0.43120504139679305, classifier__solver=newton-cholesky; total time= 1.5min\n",
      "[CV] END classifier__C=0.43120504139679305, classifier__solver=newton-cholesky; total time= 1.7min\n",
      "[CV] END classifier__C=0.43120504139679305, classifier__solver=newton-cholesky; total time= 1.7min\n",
      "[CV] END classifier__C=0.05149424532322597, classifier__solver=saga; total time=  39.2s\n",
      "[CV] END classifier__C=0.05149424532322597, classifier__solver=saga; total time=  41.9s\n",
      "[CV] END classifier__C=0.05149424532322597, classifier__solver=saga; total time=  39.7s\n",
      "[CV] END classifier__C=0.05149424532322597, classifier__solver=saga; total time=  40.0s\n",
      "[CV] END classifier__C=0.05149424532322597, classifier__solver=saga; total time=  40.3s\n",
      "[CV] END classifier__C=0.9047182522681312, classifier__solver=liblinear; total time=  42.5s\n",
      "[CV] END classifier__C=0.9047182522681312, classifier__solver=liblinear; total time=  42.6s\n",
      "[CV] END classifier__C=0.9047182522681312, classifier__solver=liblinear; total time=  42.8s\n",
      "[CV] END classifier__C=0.9047182522681312, classifier__solver=liblinear; total time=  45.2s\n",
      "[CV] END classifier__C=0.9047182522681312, classifier__solver=liblinear; total time=  42.0s\n",
      "[CV] END classifier__C=65.71103655048165, classifier__solver=saga; total time=  42.6s\n",
      "[CV] END classifier__C=65.71103655048165, classifier__solver=saga; total time=  40.8s\n",
      "[CV] END classifier__C=65.71103655048165, classifier__solver=saga; total time=  42.1s\n",
      "[CV] END classifier__C=65.71103655048165, classifier__solver=saga; total time=  41.1s\n",
      "[CV] END classifier__C=65.71103655048165, classifier__solver=saga; total time=  41.3s\n",
      "[CV] END classifier__C=5.776612983785277, classifier__solver=newton-cholesky; total time= 1.6min\n",
      "[CV] END classifier__C=5.776612983785277, classifier__solver=newton-cholesky; total time= 1.6min\n",
      "[CV] END classifier__C=5.776612983785277, classifier__solver=newton-cholesky; total time= 1.6min\n",
      "[CV] END classifier__C=5.776612983785277, classifier__solver=newton-cholesky; total time= 1.6min\n",
      "[CV] END classifier__C=5.776612983785277, classifier__solver=newton-cholesky; total time= 1.6min\n",
      "[CV] END classifier__C=21.40356192025271, classifier__solver=saga; total time=  39.8s\n",
      "[CV] END classifier__C=21.40356192025271, classifier__solver=saga; total time=  39.5s\n",
      "[CV] END classifier__C=21.40356192025271, classifier__solver=saga; total time=  38.8s\n",
      "[CV] END classifier__C=21.40356192025271, classifier__solver=saga; total time=  39.0s\n",
      "[CV] END classifier__C=21.40356192025271, classifier__solver=saga; total time=  39.1s\n",
      "[CV] END classifier__C=0.08593856804631146, classifier__solver=liblinear; total time=  38.1s\n",
      "[CV] END classifier__C=0.08593856804631146, classifier__solver=liblinear; total time=  37.6s\n",
      "[CV] END classifier__C=0.08593856804631146, classifier__solver=liblinear; total time=  38.2s\n",
      "[CV] END classifier__C=0.08593856804631146, classifier__solver=liblinear; total time=  36.9s\n",
      "[CV] END classifier__C=0.08593856804631146, classifier__solver=liblinear; total time=  37.1s\n",
      "[CV] END classifier__C=0.11360343710539189, classifier__solver=newton-cholesky; total time= 1.2min\n",
      "[CV] END classifier__C=0.11360343710539189, classifier__solver=newton-cholesky; total time= 1.3min\n",
      "[CV] END classifier__C=0.11360343710539189, classifier__solver=newton-cholesky; total time= 1.2min\n",
      "[CV] END classifier__C=0.11360343710539189, classifier__solver=newton-cholesky; total time= 1.2min\n",
      "[CV] END classifier__C=0.11360343710539189, classifier__solver=newton-cholesky; total time= 1.2min\n",
      "[CV] END classifier__C=0.06129675467868892, classifier__solver=saga; total time=  37.1s\n",
      "[CV] END classifier__C=0.06129675467868892, classifier__solver=saga; total time=  38.3s\n",
      "[CV] END classifier__C=0.06129675467868892, classifier__solver=saga; total time=  37.2s\n",
      "[CV] END classifier__C=0.06129675467868892, classifier__solver=saga; total time=  37.1s\n",
      "[CV] END classifier__C=0.06129675467868892, classifier__solver=saga; total time=  37.3s\n",
      "[CV] END classifier__C=0.019579043294956196, classifier__solver=newton-cholesky; total time= 1.0min\n",
      "[CV] END classifier__C=0.019579043294956196, classifier__solver=newton-cholesky; total time=  60.0s\n",
      "[CV] END classifier__C=0.019579043294956196, classifier__solver=newton-cholesky; total time= 1.0min\n",
      "[CV] END classifier__C=0.019579043294956196, classifier__solver=newton-cholesky; total time=  59.4s\n",
      "[CV] END classifier__C=0.019579043294956196, classifier__solver=newton-cholesky; total time= 1.0min\n"
     ]
    }
   ],
   "source": [
    "search_lr.fit(X_train, y_train);"
   ]
  },
  {
   "cell_type": "code",
   "execution_count": 19,
   "metadata": {
    "id": "s2vSpT-GYX6E"
   },
   "outputs": [
    {
     "name": "stdout",
     "output_type": "stream",
     "text": [
      "Best parameters: {'classifier__C': 0.9047182522681312, 'classifier__solver': 'liblinear'}\n",
      "Test F1-score: 0.8745307882756969\n"
     ]
    }
   ],
   "source": [
    "test_score_lr = search_lr.score(X_test, y_test)\n",
    "\n",
    "print(f'Best parameters: {search_lr.best_params_}')\n",
    "print(f'Test F1-score: {test_score_lr}')"
   ]
  },
  {
   "cell_type": "code",
   "execution_count": 20,
   "metadata": {
    "id": "-deFy3WYMqAu"
   },
   "outputs": [],
   "source": [
    "best_model = search_lr.best_estimator_\n",
    "best_score = test_score_lr"
   ]
  },
  {
   "cell_type": "markdown",
   "metadata": {
    "id": "lKqLIcDJNnyK"
   },
   "source": [
    "### Random Forest"
   ]
  },
  {
   "cell_type": "code",
   "execution_count": 21,
   "metadata": {
    "id": "PRP4PVpwAl38"
   },
   "outputs": [],
   "source": [
    "rfc = RandomForestClassifier()\n",
    "\n",
    "pipe = Pipeline([\n",
    "    ('cleaner', cleaner),\n",
    "    ('classifier', rfc)\n",
    "])\n",
    "\n",
    "param_distributions = {\n",
    "    'classifier__n_estimators': [10, 30, 100, 300, 1000],\n",
    "    'classifier__max_depth': list(range(10, 101)),\n",
    "    'classifier__min_samples_split': list(range(2, 11)),\n",
    "    'classifier__min_samples_leaf': list(range(1, 11))\n",
    "}\n",
    "\n",
    "search_rfc = RandomizedSearchCV(\n",
    "    estimator=pipe,\n",
    "    param_distributions=param_distributions,\n",
    "    n_iter=20,\n",
    "    scoring='f1',\n",
    "    n_jobs=1,\n",
    "    refit=True,\n",
    "    cv=5,\n",
    "    verbose=2\n",
    ")"
   ]
  },
  {
   "cell_type": "code",
   "execution_count": 22,
   "metadata": {
    "id": "VpVfqqUrOVKk"
   },
   "outputs": [
    {
     "name": "stdout",
     "output_type": "stream",
     "text": [
      "Fitting 5 folds for each of 20 candidates, totalling 100 fits\n",
      "[CV] END classifier__max_depth=38, classifier__min_samples_leaf=3, classifier__min_samples_split=4, classifier__n_estimators=30; total time=  41.1s\n",
      "[CV] END classifier__max_depth=38, classifier__min_samples_leaf=3, classifier__min_samples_split=4, classifier__n_estimators=30; total time=  40.7s\n",
      "[CV] END classifier__max_depth=38, classifier__min_samples_leaf=3, classifier__min_samples_split=4, classifier__n_estimators=30; total time=  39.9s\n",
      "[CV] END classifier__max_depth=38, classifier__min_samples_leaf=3, classifier__min_samples_split=4, classifier__n_estimators=30; total time=  39.9s\n",
      "[CV] END classifier__max_depth=38, classifier__min_samples_leaf=3, classifier__min_samples_split=4, classifier__n_estimators=30; total time=  40.1s\n",
      "[CV] END classifier__max_depth=66, classifier__min_samples_leaf=10, classifier__min_samples_split=6, classifier__n_estimators=300; total time= 1.0min\n",
      "[CV] END classifier__max_depth=66, classifier__min_samples_leaf=10, classifier__min_samples_split=6, classifier__n_estimators=300; total time= 1.0min\n",
      "[CV] END classifier__max_depth=66, classifier__min_samples_leaf=10, classifier__min_samples_split=6, classifier__n_estimators=300; total time=  59.9s\n",
      "[CV] END classifier__max_depth=66, classifier__min_samples_leaf=10, classifier__min_samples_split=6, classifier__n_estimators=300; total time=  59.8s\n",
      "[CV] END classifier__max_depth=66, classifier__min_samples_leaf=10, classifier__min_samples_split=6, classifier__n_estimators=300; total time=  59.7s\n",
      "[CV] END classifier__max_depth=29, classifier__min_samples_leaf=7, classifier__min_samples_split=4, classifier__n_estimators=10; total time=  37.2s\n",
      "[CV] END classifier__max_depth=29, classifier__min_samples_leaf=7, classifier__min_samples_split=4, classifier__n_estimators=10; total time=  37.1s\n",
      "[CV] END classifier__max_depth=29, classifier__min_samples_leaf=7, classifier__min_samples_split=4, classifier__n_estimators=10; total time=  37.1s\n",
      "[CV] END classifier__max_depth=29, classifier__min_samples_leaf=7, classifier__min_samples_split=4, classifier__n_estimators=10; total time=  37.0s\n",
      "[CV] END classifier__max_depth=29, classifier__min_samples_leaf=7, classifier__min_samples_split=4, classifier__n_estimators=10; total time=  37.3s\n",
      "[CV] END classifier__max_depth=41, classifier__min_samples_leaf=6, classifier__min_samples_split=8, classifier__n_estimators=100; total time=  45.6s\n",
      "[CV] END classifier__max_depth=41, classifier__min_samples_leaf=6, classifier__min_samples_split=8, classifier__n_estimators=100; total time=  45.5s\n",
      "[CV] END classifier__max_depth=41, classifier__min_samples_leaf=6, classifier__min_samples_split=8, classifier__n_estimators=100; total time=  45.4s\n",
      "[CV] END classifier__max_depth=41, classifier__min_samples_leaf=6, classifier__min_samples_split=8, classifier__n_estimators=100; total time=  45.4s\n",
      "[CV] END classifier__max_depth=41, classifier__min_samples_leaf=6, classifier__min_samples_split=8, classifier__n_estimators=100; total time=  45.5s\n",
      "[CV] END classifier__max_depth=44, classifier__min_samples_leaf=1, classifier__min_samples_split=4, classifier__n_estimators=100; total time=  53.3s\n",
      "[CV] END classifier__max_depth=44, classifier__min_samples_leaf=1, classifier__min_samples_split=4, classifier__n_estimators=100; total time=  53.2s\n",
      "[CV] END classifier__max_depth=44, classifier__min_samples_leaf=1, classifier__min_samples_split=4, classifier__n_estimators=100; total time=  53.5s\n",
      "[CV] END classifier__max_depth=44, classifier__min_samples_leaf=1, classifier__min_samples_split=4, classifier__n_estimators=100; total time=  53.5s\n",
      "[CV] END classifier__max_depth=44, classifier__min_samples_leaf=1, classifier__min_samples_split=4, classifier__n_estimators=100; total time=  53.5s\n",
      "[CV] END classifier__max_depth=60, classifier__min_samples_leaf=1, classifier__min_samples_split=6, classifier__n_estimators=1000; total time= 4.1min\n",
      "[CV] END classifier__max_depth=60, classifier__min_samples_leaf=1, classifier__min_samples_split=6, classifier__n_estimators=1000; total time= 4.1min\n",
      "[CV] END classifier__max_depth=60, classifier__min_samples_leaf=1, classifier__min_samples_split=6, classifier__n_estimators=1000; total time= 4.1min\n",
      "[CV] END classifier__max_depth=60, classifier__min_samples_leaf=1, classifier__min_samples_split=6, classifier__n_estimators=1000; total time= 4.1min\n",
      "[CV] END classifier__max_depth=60, classifier__min_samples_leaf=1, classifier__min_samples_split=6, classifier__n_estimators=1000; total time= 4.1min\n",
      "[CV] END classifier__max_depth=65, classifier__min_samples_leaf=1, classifier__min_samples_split=2, classifier__n_estimators=1000; total time= 4.6min\n",
      "[CV] END classifier__max_depth=65, classifier__min_samples_leaf=1, classifier__min_samples_split=2, classifier__n_estimators=1000; total time= 4.7min\n",
      "[CV] END classifier__max_depth=65, classifier__min_samples_leaf=1, classifier__min_samples_split=2, classifier__n_estimators=1000; total time= 4.6min\n",
      "[CV] END classifier__max_depth=65, classifier__min_samples_leaf=1, classifier__min_samples_split=2, classifier__n_estimators=1000; total time= 4.6min\n",
      "[CV] END classifier__max_depth=65, classifier__min_samples_leaf=1, classifier__min_samples_split=2, classifier__n_estimators=1000; total time= 4.6min\n",
      "[CV] END classifier__max_depth=34, classifier__min_samples_leaf=5, classifier__min_samples_split=8, classifier__n_estimators=30; total time=  39.4s\n",
      "[CV] END classifier__max_depth=34, classifier__min_samples_leaf=5, classifier__min_samples_split=8, classifier__n_estimators=30; total time=  39.2s\n",
      "[CV] END classifier__max_depth=34, classifier__min_samples_leaf=5, classifier__min_samples_split=8, classifier__n_estimators=30; total time=  39.5s\n",
      "[CV] END classifier__max_depth=34, classifier__min_samples_leaf=5, classifier__min_samples_split=8, classifier__n_estimators=30; total time=  39.8s\n",
      "[CV] END classifier__max_depth=34, classifier__min_samples_leaf=5, classifier__min_samples_split=8, classifier__n_estimators=30; total time=  40.0s\n",
      "[CV] END classifier__max_depth=39, classifier__min_samples_leaf=9, classifier__min_samples_split=7, classifier__n_estimators=10; total time=  38.2s\n",
      "[CV] END classifier__max_depth=39, classifier__min_samples_leaf=9, classifier__min_samples_split=7, classifier__n_estimators=10; total time=  38.3s\n",
      "[CV] END classifier__max_depth=39, classifier__min_samples_leaf=9, classifier__min_samples_split=7, classifier__n_estimators=10; total time=  38.2s\n",
      "[CV] END classifier__max_depth=39, classifier__min_samples_leaf=9, classifier__min_samples_split=7, classifier__n_estimators=10; total time=  38.6s\n",
      "[CV] END classifier__max_depth=39, classifier__min_samples_leaf=9, classifier__min_samples_split=7, classifier__n_estimators=10; total time=  38.7s\n",
      "[CV] END classifier__max_depth=78, classifier__min_samples_leaf=3, classifier__min_samples_split=10, classifier__n_estimators=1000; total time= 3.4min\n",
      "[CV] END classifier__max_depth=78, classifier__min_samples_leaf=3, classifier__min_samples_split=10, classifier__n_estimators=1000; total time= 3.4min\n",
      "[CV] END classifier__max_depth=78, classifier__min_samples_leaf=3, classifier__min_samples_split=10, classifier__n_estimators=1000; total time= 3.4min\n",
      "[CV] END classifier__max_depth=78, classifier__min_samples_leaf=3, classifier__min_samples_split=10, classifier__n_estimators=1000; total time= 3.4min\n",
      "[CV] END classifier__max_depth=78, classifier__min_samples_leaf=3, classifier__min_samples_split=10, classifier__n_estimators=1000; total time= 3.4min\n",
      "[CV] END classifier__max_depth=28, classifier__min_samples_leaf=7, classifier__min_samples_split=9, classifier__n_estimators=100; total time=  43.3s\n",
      "[CV] END classifier__max_depth=28, classifier__min_samples_leaf=7, classifier__min_samples_split=9, classifier__n_estimators=100; total time=  42.9s\n",
      "[CV] END classifier__max_depth=28, classifier__min_samples_leaf=7, classifier__min_samples_split=9, classifier__n_estimators=100; total time=  42.9s\n",
      "[CV] END classifier__max_depth=28, classifier__min_samples_leaf=7, classifier__min_samples_split=9, classifier__n_estimators=100; total time=  43.8s\n",
      "[CV] END classifier__max_depth=28, classifier__min_samples_leaf=7, classifier__min_samples_split=9, classifier__n_estimators=100; total time=  43.1s\n",
      "[CV] END classifier__max_depth=17, classifier__min_samples_leaf=4, classifier__min_samples_split=6, classifier__n_estimators=30; total time=  38.3s\n",
      "[CV] END classifier__max_depth=17, classifier__min_samples_leaf=4, classifier__min_samples_split=6, classifier__n_estimators=30; total time=  38.4s\n",
      "[CV] END classifier__max_depth=17, classifier__min_samples_leaf=4, classifier__min_samples_split=6, classifier__n_estimators=30; total time=  37.9s\n",
      "[CV] END classifier__max_depth=17, classifier__min_samples_leaf=4, classifier__min_samples_split=6, classifier__n_estimators=30; total time=  38.7s\n",
      "[CV] END classifier__max_depth=17, classifier__min_samples_leaf=4, classifier__min_samples_split=6, classifier__n_estimators=30; total time=  39.4s\n",
      "[CV] END classifier__max_depth=52, classifier__min_samples_leaf=9, classifier__min_samples_split=5, classifier__n_estimators=100; total time=  45.3s\n",
      "[CV] END classifier__max_depth=52, classifier__min_samples_leaf=9, classifier__min_samples_split=5, classifier__n_estimators=100; total time=  46.0s\n",
      "[CV] END classifier__max_depth=52, classifier__min_samples_leaf=9, classifier__min_samples_split=5, classifier__n_estimators=100; total time=  45.4s\n",
      "[CV] END classifier__max_depth=52, classifier__min_samples_leaf=9, classifier__min_samples_split=5, classifier__n_estimators=100; total time=  45.3s\n",
      "[CV] END classifier__max_depth=52, classifier__min_samples_leaf=9, classifier__min_samples_split=5, classifier__n_estimators=100; total time=  45.4s\n",
      "[CV] END classifier__max_depth=84, classifier__min_samples_leaf=10, classifier__min_samples_split=5, classifier__n_estimators=300; total time= 1.0min\n",
      "[CV] END classifier__max_depth=84, classifier__min_samples_leaf=10, classifier__min_samples_split=5, classifier__n_estimators=300; total time= 1.0min\n",
      "[CV] END classifier__max_depth=84, classifier__min_samples_leaf=10, classifier__min_samples_split=5, classifier__n_estimators=300; total time= 1.0min\n",
      "[CV] END classifier__max_depth=84, classifier__min_samples_leaf=10, classifier__min_samples_split=5, classifier__n_estimators=300; total time= 1.0min\n",
      "[CV] END classifier__max_depth=84, classifier__min_samples_leaf=10, classifier__min_samples_split=5, classifier__n_estimators=300; total time= 1.0min\n",
      "[CV] END classifier__max_depth=74, classifier__min_samples_leaf=1, classifier__min_samples_split=5, classifier__n_estimators=100; total time= 1.0min\n",
      "[CV] END classifier__max_depth=74, classifier__min_samples_leaf=1, classifier__min_samples_split=5, classifier__n_estimators=100; total time= 1.0min\n",
      "[CV] END classifier__max_depth=74, classifier__min_samples_leaf=1, classifier__min_samples_split=5, classifier__n_estimators=100; total time= 1.0min\n",
      "[CV] END classifier__max_depth=74, classifier__min_samples_leaf=1, classifier__min_samples_split=5, classifier__n_estimators=100; total time= 1.0min\n",
      "[CV] END classifier__max_depth=74, classifier__min_samples_leaf=1, classifier__min_samples_split=5, classifier__n_estimators=100; total time= 1.0min\n",
      "[CV] END classifier__max_depth=30, classifier__min_samples_leaf=9, classifier__min_samples_split=8, classifier__n_estimators=100; total time=  43.4s\n",
      "[CV] END classifier__max_depth=30, classifier__min_samples_leaf=9, classifier__min_samples_split=8, classifier__n_estimators=100; total time=  43.4s\n",
      "[CV] END classifier__max_depth=30, classifier__min_samples_leaf=9, classifier__min_samples_split=8, classifier__n_estimators=100; total time=  43.3s\n",
      "[CV] END classifier__max_depth=30, classifier__min_samples_leaf=9, classifier__min_samples_split=8, classifier__n_estimators=100; total time=  43.0s\n",
      "[CV] END classifier__max_depth=30, classifier__min_samples_leaf=9, classifier__min_samples_split=8, classifier__n_estimators=100; total time=  43.0s\n",
      "[CV] END classifier__max_depth=19, classifier__min_samples_leaf=4, classifier__min_samples_split=10, classifier__n_estimators=1000; total time= 1.4min\n",
      "[CV] END classifier__max_depth=19, classifier__min_samples_leaf=4, classifier__min_samples_split=10, classifier__n_estimators=1000; total time= 1.4min\n",
      "[CV] END classifier__max_depth=19, classifier__min_samples_leaf=4, classifier__min_samples_split=10, classifier__n_estimators=1000; total time= 1.4min\n",
      "[CV] END classifier__max_depth=19, classifier__min_samples_leaf=4, classifier__min_samples_split=10, classifier__n_estimators=1000; total time= 1.4min\n",
      "[CV] END classifier__max_depth=19, classifier__min_samples_leaf=4, classifier__min_samples_split=10, classifier__n_estimators=1000; total time= 1.4min\n",
      "[CV] END classifier__max_depth=37, classifier__min_samples_leaf=1, classifier__min_samples_split=3, classifier__n_estimators=300; total time= 1.3min\n",
      "[CV] END classifier__max_depth=37, classifier__min_samples_leaf=1, classifier__min_samples_split=3, classifier__n_estimators=300; total time= 1.3min\n",
      "[CV] END classifier__max_depth=37, classifier__min_samples_leaf=1, classifier__min_samples_split=3, classifier__n_estimators=300; total time= 1.3min\n",
      "[CV] END classifier__max_depth=37, classifier__min_samples_leaf=1, classifier__min_samples_split=3, classifier__n_estimators=300; total time= 1.3min\n",
      "[CV] END classifier__max_depth=37, classifier__min_samples_leaf=1, classifier__min_samples_split=3, classifier__n_estimators=300; total time= 1.3min\n",
      "[CV] END classifier__max_depth=87, classifier__min_samples_leaf=8, classifier__min_samples_split=8, classifier__n_estimators=100; total time=  47.0s\n",
      "[CV] END classifier__max_depth=87, classifier__min_samples_leaf=8, classifier__min_samples_split=8, classifier__n_estimators=100; total time=  46.8s\n",
      "[CV] END classifier__max_depth=87, classifier__min_samples_leaf=8, classifier__min_samples_split=8, classifier__n_estimators=100; total time=  46.8s\n",
      "[CV] END classifier__max_depth=87, classifier__min_samples_leaf=8, classifier__min_samples_split=8, classifier__n_estimators=100; total time=  46.4s\n",
      "[CV] END classifier__max_depth=87, classifier__min_samples_leaf=8, classifier__min_samples_split=8, classifier__n_estimators=100; total time=  46.4s\n",
      "[CV] END classifier__max_depth=10, classifier__min_samples_leaf=9, classifier__min_samples_split=6, classifier__n_estimators=300; total time=  42.9s\n",
      "[CV] END classifier__max_depth=10, classifier__min_samples_leaf=9, classifier__min_samples_split=6, classifier__n_estimators=300; total time=  42.7s\n",
      "[CV] END classifier__max_depth=10, classifier__min_samples_leaf=9, classifier__min_samples_split=6, classifier__n_estimators=300; total time=  43.0s\n",
      "[CV] END classifier__max_depth=10, classifier__min_samples_leaf=9, classifier__min_samples_split=6, classifier__n_estimators=300; total time=  43.7s\n",
      "[CV] END classifier__max_depth=10, classifier__min_samples_leaf=9, classifier__min_samples_split=6, classifier__n_estimators=300; total time=  43.1s\n"
     ]
    }
   ],
   "source": [
    "search_rfc.fit(X_train, y_train);"
   ]
  },
  {
   "cell_type": "code",
   "execution_count": 23,
   "metadata": {
    "id": "vtZIsatbZBi1"
   },
   "outputs": [
    {
     "name": "stdout",
     "output_type": "stream",
     "text": [
      "Best parameters: {'classifier__n_estimators': 1000, 'classifier__min_samples_split': 2, 'classifier__min_samples_leaf': 1, 'classifier__max_depth': 65}\n",
      "Test F1-score: 0.8527169114696204\n"
     ]
    }
   ],
   "source": [
    "test_score_rfc = search_rfc.score(X_test, y_test)\n",
    "\n",
    "print(f'Best parameters: {search_rfc.best_params_}')\n",
    "print(f'Test F1-score: {test_score_rfc}')"
   ]
  },
  {
   "cell_type": "code",
   "execution_count": 24,
   "metadata": {
    "id": "_PI7XehrNS_0"
   },
   "outputs": [],
   "source": [
    "if test_score_rfc > best_score:\n",
    "    best_model = search_rfc.best_estimator_\n",
    "    best_score = test_score_rfc"
   ]
  },
  {
   "cell_type": "markdown",
   "metadata": {
    "id": "_4dTJFlzdR5J"
   },
   "source": [
    "### Support Vector Machine"
   ]
  },
  {
   "cell_type": "code",
   "execution_count": 25,
   "metadata": {
    "id": "OzZlXEXIdXPD"
   },
   "outputs": [],
   "source": [
    "svc = LinearSVC(penalty='l2', dual='auto', max_iter=2500)\n",
    "\n",
    "pipe = Pipeline([\n",
    "    ('cleaner', cleaner),\n",
    "    ('classifier', svc)\n",
    "])\n",
    "\n",
    "param_distributions = {\n",
    "    'classifier__C': loguniform(1e-2, 1e2),\n",
    "    'classifier__loss': ['hinge', 'squared_hinge']\n",
    "}\n",
    "\n",
    "search_svc = RandomizedSearchCV(\n",
    "    estimator=pipe,\n",
    "    param_distributions=param_distributions,\n",
    "    n_iter=10,\n",
    "    scoring='f1',\n",
    "    n_jobs=1,\n",
    "    refit=True,\n",
    "    cv=5,\n",
    "    verbose=2\n",
    ")"
   ]
  },
  {
   "cell_type": "code",
   "execution_count": 26,
   "metadata": {
    "id": "-ol8BGeDeQ6A"
   },
   "outputs": [
    {
     "name": "stdout",
     "output_type": "stream",
     "text": [
      "Fitting 5 folds for each of 10 candidates, totalling 50 fits\n",
      "[CV] END classifier__C=0.045334189165323176, classifier__loss=hinge; total time=  37.7s\n",
      "[CV] END classifier__C=0.045334189165323176, classifier__loss=hinge; total time=  37.6s\n",
      "[CV] END classifier__C=0.045334189165323176, classifier__loss=hinge; total time=  37.6s\n",
      "[CV] END classifier__C=0.045334189165323176, classifier__loss=hinge; total time=  37.8s\n",
      "[CV] END classifier__C=0.045334189165323176, classifier__loss=hinge; total time=  37.9s\n",
      "[CV] END classifier__C=0.08001146197978674, classifier__loss=hinge; total time=  37.0s\n",
      "[CV] END classifier__C=0.08001146197978674, classifier__loss=hinge; total time=  36.8s\n",
      "[CV] END classifier__C=0.08001146197978674, classifier__loss=hinge; total time=  37.0s\n",
      "[CV] END classifier__C=0.08001146197978674, classifier__loss=hinge; total time=  37.3s\n",
      "[CV] END classifier__C=0.08001146197978674, classifier__loss=hinge; total time=  37.2s\n",
      "[CV] END classifier__C=7.879184428589597, classifier__loss=hinge; total time=  37.9s\n",
      "[CV] END classifier__C=7.879184428589597, classifier__loss=hinge; total time=  39.5s\n",
      "[CV] END classifier__C=7.879184428589597, classifier__loss=hinge; total time=  40.1s\n",
      "[CV] END classifier__C=7.879184428589597, classifier__loss=hinge; total time=  39.9s\n",
      "[CV] END classifier__C=7.879184428589597, classifier__loss=hinge; total time=  39.4s\n",
      "[CV] END classifier__C=3.363305501445595, classifier__loss=squared_hinge; total time=  39.2s\n",
      "[CV] END classifier__C=3.363305501445595, classifier__loss=squared_hinge; total time=  38.2s\n",
      "[CV] END classifier__C=3.363305501445595, classifier__loss=squared_hinge; total time=  38.3s\n",
      "[CV] END classifier__C=3.363305501445595, classifier__loss=squared_hinge; total time=  38.6s\n",
      "[CV] END classifier__C=3.363305501445595, classifier__loss=squared_hinge; total time=  38.8s\n",
      "[CV] END classifier__C=24.611616493465835, classifier__loss=hinge; total time=  39.4s\n",
      "[CV] END classifier__C=24.611616493465835, classifier__loss=hinge; total time=  39.3s\n",
      "[CV] END classifier__C=24.611616493465835, classifier__loss=hinge; total time=  39.2s\n",
      "[CV] END classifier__C=24.611616493465835, classifier__loss=hinge; total time=  40.0s\n",
      "[CV] END classifier__C=24.611616493465835, classifier__loss=hinge; total time=  40.0s\n",
      "[CV] END classifier__C=95.7619565424712, classifier__loss=squared_hinge; total time=  43.3s\n",
      "[CV] END classifier__C=95.7619565424712, classifier__loss=squared_hinge; total time=  42.4s\n",
      "[CV] END classifier__C=95.7619565424712, classifier__loss=squared_hinge; total time=  42.3s\n",
      "[CV] END classifier__C=95.7619565424712, classifier__loss=squared_hinge; total time=  42.3s\n",
      "[CV] END classifier__C=95.7619565424712, classifier__loss=squared_hinge; total time=  41.8s\n",
      "[CV] END classifier__C=0.25921923662849167, classifier__loss=hinge; total time=  37.2s\n",
      "[CV] END classifier__C=0.25921923662849167, classifier__loss=hinge; total time=  37.0s\n",
      "[CV] END classifier__C=0.25921923662849167, classifier__loss=hinge; total time=  37.0s\n",
      "[CV] END classifier__C=0.25921923662849167, classifier__loss=hinge; total time=  37.4s\n",
      "[CV] END classifier__C=0.25921923662849167, classifier__loss=hinge; total time=  38.0s\n",
      "[CV] END classifier__C=1.3336631531855019, classifier__loss=squared_hinge; total time=  38.5s\n",
      "[CV] END classifier__C=1.3336631531855019, classifier__loss=squared_hinge; total time=  38.8s\n",
      "[CV] END classifier__C=1.3336631531855019, classifier__loss=squared_hinge; total time=  37.5s\n",
      "[CV] END classifier__C=1.3336631531855019, classifier__loss=squared_hinge; total time=  37.5s\n",
      "[CV] END classifier__C=1.3336631531855019, classifier__loss=squared_hinge; total time=  37.4s\n",
      "[CV] END classifier__C=0.43921959140724887, classifier__loss=hinge; total time=  37.2s\n",
      "[CV] END classifier__C=0.43921959140724887, classifier__loss=hinge; total time=  37.3s\n",
      "[CV] END classifier__C=0.43921959140724887, classifier__loss=hinge; total time=  37.5s\n",
      "[CV] END classifier__C=0.43921959140724887, classifier__loss=hinge; total time=  38.4s\n",
      "[CV] END classifier__C=0.43921959140724887, classifier__loss=hinge; total time=  37.9s\n",
      "[CV] END classifier__C=1.5119953398572747, classifier__loss=hinge; total time=  38.4s\n",
      "[CV] END classifier__C=1.5119953398572747, classifier__loss=hinge; total time=  41.0s\n",
      "[CV] END classifier__C=1.5119953398572747, classifier__loss=hinge; total time=  37.9s\n",
      "[CV] END classifier__C=1.5119953398572747, classifier__loss=hinge; total time=  37.5s\n",
      "[CV] END classifier__C=1.5119953398572747, classifier__loss=hinge; total time=  37.8s\n"
     ]
    }
   ],
   "source": [
    "search_svc.fit(X_train, y_train);"
   ]
  },
  {
   "cell_type": "code",
   "execution_count": 27,
   "metadata": {
    "id": "DKeHEuvyeYFv"
   },
   "outputs": [
    {
     "name": "stdout",
     "output_type": "stream",
     "text": [
      "Best model: {'classifier__C': 0.25921923662849167, 'classifier__loss': 'hinge'}\n",
      "Test F1-score: 0.8752683043167183\n"
     ]
    }
   ],
   "source": [
    "test_score_svc = search_svc.score(X_test, y_test)\n",
    "\n",
    "print(f'Best model: {search_svc.best_params_}')\n",
    "print(f'Test F1-score: {test_score_svc}')"
   ]
  },
  {
   "cell_type": "code",
   "execution_count": 28,
   "metadata": {
    "id": "I7XR2vcANmlO"
   },
   "outputs": [],
   "source": [
    "if test_score_svc > best_score:\n",
    "    best_model = search_svc.best_estimator_\n",
    "    best_score = test_score_svc"
   ]
  },
  {
   "cell_type": "markdown",
   "metadata": {
    "id": "E4nMSB0TUPEH"
   },
   "source": [
    "## Conclusion"
   ]
  },
  {
   "cell_type": "code",
   "execution_count": 29,
   "metadata": {
    "id": "OIYkP5g2UTM4"
   },
   "outputs": [
    {
     "name": "stdout",
     "output_type": "stream",
     "text": [
      "Test F1-scores:\n",
      "    Logistic regression: 0.8745307882756969\n",
      "    Random forest: 0.8527169114696204\n",
      "    Support vector machine: 0.8752683043167183\n"
     ]
    }
   ],
   "source": [
    "print(f'Test F1-scores:')\n",
    "print(f'    Logistic regression: {test_score_lr}')\n",
    "print(f'    Random forest: {test_score_rfc}')\n",
    "print(f'    Support vector machine: {test_score_svc}')"
   ]
  },
  {
   "cell_type": "markdown",
   "metadata": {
    "id": "w0xrCOYo9eJK"
   },
   "source": [
    "I pickle the best-performing model so that it can be deployed later."
   ]
  },
  {
   "cell_type": "code",
   "execution_count": 30,
   "metadata": {
    "id": "oZT0s9JA6DZB"
   },
   "outputs": [],
   "source": [
    "model_dir = 'app/model'\n",
    "with open(f'{model_dir}/best_model.pkl', 'wb') as file:\n",
    "    pickle.dump(best_model, file)"
   ]
  }
 ],
 "metadata": {
  "colab": {
   "include_colab_link": true,
   "provenance": []
  },
  "kernelspec": {
   "display_name": "nlp",
   "language": "python",
   "name": "nlp"
  },
  "language_info": {
   "codemirror_mode": {
    "name": "ipython",
    "version": 3
   },
   "file_extension": ".py",
   "mimetype": "text/x-python",
   "name": "python",
   "nbconvert_exporter": "python",
   "pygments_lexer": "ipython3",
   "version": "3.12.4"
  }
 },
 "nbformat": 4,
 "nbformat_minor": 4
}
