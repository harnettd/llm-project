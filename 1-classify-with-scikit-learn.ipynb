{
 "cells": [
  {
   "cell_type": "markdown",
   "metadata": {
    "id": "0KIIomXgAl3t"
   },
   "source": [
    "# Sentiment Analysis of Movie Reviews using TfidfVectorizer and Classifiers from scikit-learn"
   ]
  },
  {
   "cell_type": "markdown",
   "metadata": {
    "id": "67ZjtS_aAl3w"
   },
   "source": [
    "In this notebook, I perform sentiment analysis of movie reviews using classes available in scikit-learn.\n",
    "\n",
    "The dataset consists of 50k highly polarized (*clearly* favourable or unfavourable) movie reviews from IMBD. The set is partitioned into a labelled train set of 25k reviews and a labelled test set of 25k reviews. (There is also an unlabelled, unsupervised set of 25k reviews.) The reviews are preprocessed by lower-casing, removing HTML tags, and removing punctutation. The reviews are then tokenized, removing English stop words, and stemmed. Corpus vectorization is implemented using TfidfVectorizer. Multiple classification models from scikit-learn are trained and tested on the results. The best performing model is pickled for later deployment."
   ]
  },
  {
   "cell_type": "markdown",
   "metadata": {
    "id": "dkrHBlbYAl3x"
   },
   "source": [
    "## Imports"
   ]
  },
  {
   "cell_type": "code",
   "execution_count": 1,
   "metadata": {
    "id": "kqlKD6gqAl3x"
   },
   "outputs": [],
   "source": [
    "import matplotlib.pyplot as plt\n",
    "import pandas as pd\n",
    "import pickle\n",
    "\n",
    "from datasets import load_dataset\n",
    "from scipy.stats import loguniform, uniform\n",
    "from nltk import PorterStemmer\n",
    "\n",
    "from sklearn.feature_extraction.text import ENGLISH_STOP_WORDS, TfidfVectorizer\n",
    "from sklearn.linear_model import LogisticRegression\n",
    "from sklearn.ensemble import RandomForestClassifier\n",
    "from sklearn.svm import LinearSVC\n",
    "from sklearn.pipeline import Pipeline\n",
    "from sklearn.model_selection import RandomizedSearchCV\n",
    "\n",
    "from app.cleaner.preprocessor import Preprocessor\n",
    "from app.cleaner.tokenizer import Tokenizer"
   ]
  },
  {
   "cell_type": "markdown",
   "metadata": {
    "id": "GtGIM-fHAl3z"
   },
   "source": [
    "## Load the IMDB Dataset"
   ]
  },
  {
   "cell_type": "code",
   "execution_count": 2,
   "metadata": {
    "id": "cFKINTFAAl3z"
   },
   "outputs": [],
   "source": [
    "ds = load_dataset('imdb')\n",
    "train, test = pd.DataFrame(ds['train']), pd.DataFrame(ds['test'])"
   ]
  },
  {
   "cell_type": "markdown",
   "metadata": {
    "id": "mZC1PiMoAl30"
   },
   "source": [
    "In the following DataFrame samples, a label of 0 corresponds to a negative review (*i.e.,* thumbs-down) whereas a label of 1 corresponds to a positive review (*i.e.,* thumbs-up)."
   ]
  },
  {
   "cell_type": "code",
   "execution_count": 3,
   "metadata": {
    "id": "RyHpQb8PAl30"
   },
   "outputs": [
    {
     "data": {
      "text/html": [
       "<div>\n",
       "<style scoped>\n",
       "    .dataframe tbody tr th:only-of-type {\n",
       "        vertical-align: middle;\n",
       "    }\n",
       "\n",
       "    .dataframe tbody tr th {\n",
       "        vertical-align: top;\n",
       "    }\n",
       "\n",
       "    .dataframe thead th {\n",
       "        text-align: right;\n",
       "    }\n",
       "</style>\n",
       "<table border=\"1\" class=\"dataframe\">\n",
       "  <thead>\n",
       "    <tr style=\"text-align: right;\">\n",
       "      <th></th>\n",
       "      <th>text</th>\n",
       "      <th>label</th>\n",
       "    </tr>\n",
       "  </thead>\n",
       "  <tbody>\n",
       "    <tr>\n",
       "      <th>8981</th>\n",
       "      <td>This centers on unironic notions of coming to ...</td>\n",
       "      <td>0</td>\n",
       "    </tr>\n",
       "    <tr>\n",
       "      <th>22005</th>\n",
       "      <td>Ultra-grim crime drama from Pou-Soi Cheang, th...</td>\n",
       "      <td>1</td>\n",
       "    </tr>\n",
       "    <tr>\n",
       "      <th>6530</th>\n",
       "      <td>I just saw this movie, and I have to say that ...</td>\n",
       "      <td>0</td>\n",
       "    </tr>\n",
       "    <tr>\n",
       "      <th>10919</th>\n",
       "      <td>*** THIS CONTAINS MANY, MANY SPOILERS, NOT THA...</td>\n",
       "      <td>0</td>\n",
       "    </tr>\n",
       "    <tr>\n",
       "      <th>3280</th>\n",
       "      <td>I was seriously looking forward to seeing this...</td>\n",
       "      <td>0</td>\n",
       "    </tr>\n",
       "  </tbody>\n",
       "</table>\n",
       "</div>"
      ],
      "text/plain": [
       "                                                    text  label\n",
       "8981   This centers on unironic notions of coming to ...      0\n",
       "22005  Ultra-grim crime drama from Pou-Soi Cheang, th...      1\n",
       "6530   I just saw this movie, and I have to say that ...      0\n",
       "10919  *** THIS CONTAINS MANY, MANY SPOILERS, NOT THA...      0\n",
       "3280   I was seriously looking forward to seeing this...      0"
      ]
     },
     "execution_count": 3,
     "metadata": {},
     "output_type": "execute_result"
    }
   ],
   "source": [
    "train.sample(5)"
   ]
  },
  {
   "cell_type": "code",
   "execution_count": 4,
   "metadata": {
    "id": "1CAvFD9NAl32"
   },
   "outputs": [
    {
     "data": {
      "text/html": [
       "<div>\n",
       "<style scoped>\n",
       "    .dataframe tbody tr th:only-of-type {\n",
       "        vertical-align: middle;\n",
       "    }\n",
       "\n",
       "    .dataframe tbody tr th {\n",
       "        vertical-align: top;\n",
       "    }\n",
       "\n",
       "    .dataframe thead th {\n",
       "        text-align: right;\n",
       "    }\n",
       "</style>\n",
       "<table border=\"1\" class=\"dataframe\">\n",
       "  <thead>\n",
       "    <tr style=\"text-align: right;\">\n",
       "      <th></th>\n",
       "      <th>text</th>\n",
       "      <th>label</th>\n",
       "    </tr>\n",
       "  </thead>\n",
       "  <tbody>\n",
       "    <tr>\n",
       "      <th>2557</th>\n",
       "      <td>I think this was a HORRIBLE mistake on Disney'...</td>\n",
       "      <td>0</td>\n",
       "    </tr>\n",
       "    <tr>\n",
       "      <th>17035</th>\n",
       "      <td>Well, on the day that Rob Schneider plunges hi...</td>\n",
       "      <td>1</td>\n",
       "    </tr>\n",
       "    <tr>\n",
       "      <th>16912</th>\n",
       "      <td>Loved today's show!!! It was a variety and not...</td>\n",
       "      <td>1</td>\n",
       "    </tr>\n",
       "    <tr>\n",
       "      <th>13468</th>\n",
       "      <td>if u haven't seen Vijay in \"Ghillli\", \"Gilly\" ...</td>\n",
       "      <td>1</td>\n",
       "    </tr>\n",
       "    <tr>\n",
       "      <th>1248</th>\n",
       "      <td>***May contain spoilers***&lt;br /&gt;&lt;br /&gt;I had ve...</td>\n",
       "      <td>0</td>\n",
       "    </tr>\n",
       "  </tbody>\n",
       "</table>\n",
       "</div>"
      ],
      "text/plain": [
       "                                                    text  label\n",
       "2557   I think this was a HORRIBLE mistake on Disney'...      0\n",
       "17035  Well, on the day that Rob Schneider plunges hi...      1\n",
       "16912  Loved today's show!!! It was a variety and not...      1\n",
       "13468  if u haven't seen Vijay in \"Ghillli\", \"Gilly\" ...      1\n",
       "1248   ***May contain spoilers***<br /><br />I had ve...      0"
      ]
     },
     "execution_count": 4,
     "metadata": {},
     "output_type": "execute_result"
    }
   ],
   "source": [
    "test.sample(5)"
   ]
  },
  {
   "cell_type": "markdown",
   "metadata": {
    "id": "HRIZs_4BAl33"
   },
   "source": [
    "## Exploratory Data Analysis"
   ]
  },
  {
   "cell_type": "code",
   "execution_count": 5,
   "metadata": {
    "id": "IpY10rt5Al33"
   },
   "outputs": [
    {
     "name": "stdout",
     "output_type": "stream",
     "text": [
      "<class 'pandas.core.frame.DataFrame'>\n",
      "RangeIndex: 25000 entries, 0 to 24999\n",
      "Data columns (total 2 columns):\n",
      " #   Column  Non-Null Count  Dtype \n",
      "---  ------  --------------  ----- \n",
      " 0   text    25000 non-null  object\n",
      " 1   label   25000 non-null  int64 \n",
      "dtypes: int64(1), object(1)\n",
      "memory usage: 390.8+ KB\n"
     ]
    }
   ],
   "source": [
    "train.info()"
   ]
  },
  {
   "cell_type": "markdown",
   "metadata": {
    "id": "Xiru_f-c7EUu"
   },
   "source": [
    "I plot the distribution of movie review labels in the train set."
   ]
  },
  {
   "cell_type": "code",
   "execution_count": 6,
   "metadata": {
    "id": "rWJ-GVkxAl33"
   },
   "outputs": [
    {
     "data": {
      "image/png": "[encoded data removed]",
      "text/plain": [
       "<Figure size 640x480 with 1 Axes>"
      ]
     },
     "metadata": {},
     "output_type": "display_data"
    }
   ],
   "source": [
    "fig, ax = plt.subplots()\n",
    "train.groupby('label').count().plot(kind='bar', alpha=0.75, ax=ax)\n",
    "ax.set_ylabel('count')\n",
    "ax.set_title('Distribution of movie review labels')\n",
    "ax.legend().set_visible(False)\n",
    "plt.show()"
   ]
  },
  {
   "cell_type": "markdown",
   "metadata": {
    "id": "28Xd_9kzAl33"
   },
   "source": [
    "From the above bar graph, the train set appears to be balanced. To confirm:"
   ]
  },
  {
   "cell_type": "code",
   "execution_count": 7,
   "metadata": {
    "id": "owpeKomDAl34"
   },
   "outputs": [
    {
     "data": {
      "text/plain": [
       "label\n",
       "0    12500\n",
       "1    12500\n",
       "Name: count, dtype: int64"
      ]
     },
     "execution_count": 7,
     "metadata": {},
     "output_type": "execute_result"
    }
   ],
   "source": [
    "train['label'].value_counts()"
   ]
  },
  {
   "cell_type": "markdown",
   "metadata": {
    "id": "rGY5KMnTAl34"
   },
   "source": [
    "It is instructive to read a handful of reviews to better understand what is meant by \"highly polarized.\""
   ]
  },
  {
   "cell_type": "code",
   "execution_count": 8,
   "metadata": {
    "id": "KxSsAw5RAl34"
   },
   "outputs": [],
   "source": [
    "thumbs_ups = train[train['label'] == 1]\n",
    "thumbs_downs = train[train['label'] == 0]"
   ]
  },
  {
   "cell_type": "code",
   "execution_count": 9,
   "metadata": {
    "id": "oo1V8uqFAl34"
   },
   "outputs": [
    {
     "name": "stdout",
     "output_type": "stream",
     "text": [
      "This is a decent little flick made in Michigan, about a guy that is haunted by his past, with his abusive stepfather (Gunnar Hansen) and has grown up not-so-well-adjusted. In fact, he's absolutely bonkers, but tries not to be too obvious. He's got an entourage too, his own little demon & angel that follow him around. The demon never says a word but really, doesn't have to, and he's Max Schreck-creepy. Let's just say that the angel pretty much spins his wheels in this, as Eric is busy doing things that make him feel better, like \"freeing\" people that he decides need it, mostly beautiful young women. This is a decent portrayal of madness, and you're kind of on your own at some point to figure out some of what's going on, but overall, I watched this from start to finish very focused on the film because it definitely held my interest. It's a little lacking in some areas but nothing I can really lay my finger on. A decent effort and worth seeing IF you like serial killer flicks.\n",
      "\n",
      "Noni Hazlehurst's tour-de-force performance (which won her an AFI award) is at least on par with her effort in FRAN three years later. Colin Friels is also good, and, for those who are interested, Alice Garner appears as Noni's child, and Michael Caton (best known for THE CASTLE) is a bearded painter. (Also interestingly, Hazlehurst is currently the host of lifestyle program BETTER HOMES AND GARDENS, and Caton is the host of property-type programs including HOT PROPERTY, HOT AUCTION, etc...) This film reaffirms the popularly-held belief that Noni was arguably Australia's top female actor during the early-to-mid 1980s. Rating: 79/100.\n",
      "\n",
      "At least for a half hour a week. I haven't been interested in anything on the big 3 networks (ABC/CBS/NBC) in years. All of the lions are interesting, although Larry can get annoying at times. I really like the Middle earth action figures they bring in with Hunter. Most of the other characters are interesting as well. The sideshow of Siegfried and Roy is entertaining at times, too. The animation is top notch, and definitely the best CG that has been done on a weekly TV show. Usually when they hire big names to star in a show, they're trying to hide a poor script or characters. Not entirely true in this show though, There's a couple characters that were weak and improved by the voice acting, but overall the characters stand on their own.<br /><br />This is definitely for 16 and up. There's nothing here that most kids haven't already heard before though, and most of the jokes would probably just fly right over their heads. It's definitely not as crude and edgy as South Park, but does bring some of the same \"Bash everyone\" feel to it. One example is that it makes fun of both Dick Cheney and Barbara Streisand at the same time in one episode. <br /><br />Father of the Pride and other Dreamworks productions like Shrek also feel like the spiritual successors of Animaniacs, Pinky and the Brain, and Freakazoid. It's the same type of humor grown up. It may not be as witty as Spielberg's classic TV series, but it's still good.<br /><br />I hope that it finishes this season off well, and is renewed for future seasons. Otherwise I may never find a reason to watch the big 3 again.\n"
     ]
    }
   ],
   "source": [
    "thumbs_up_samples = thumbs_ups['text'].sample(3).to_list()\n",
    "print('\\n\\n'.join(thumbs_up_samples))"
   ]
  },
  {
   "cell_type": "code",
   "execution_count": 10,
   "metadata": {
    "id": "ivqXrzAJAl34"
   },
   "outputs": [
    {
     "name": "stdout",
     "output_type": "stream",
     "text": [
      "After a quasi-Gothic, all-fruity music video, the movie starts with Cassidy the lead singer killing herself. In a perfect world that would be that and the end credits would roll. We don't live n that world. The insipid band members decide to go to some clown to contact her dead essence. When I say clown, I mean actual clown. He tell them they're all going to die via Cassidy's ghost (the spirit possesses Dora, one of the band-mates) We couldn't care less as the characters are all boring, vapid, and extremely horribly acted. Written by Adam Hackbarth (an incredibly apropos surname if there ever was one), and directed by Corbin Timbrook (who after The attendant, and Tower of blood, HAS to know that he keeps making crap for a living), this movie s a constant battle between the film's incompetence and the viewer's need to stay awake. Not enough blood to appease gore-hounds, nor enough nudity to satisfy pervs. This movie in fact has absolutely nothing to recommend to absolutely anyone.<br /><br />My Grade: F <br /><br />Eye Candy: Amanda Carraway gets topless <br /><br />Where i saw it: Starz on Demand\n",
      "\n",
      "I used to have a fascination with the cartoon back in college when it was being made. It had much the charm of \"Get Smart\". While it admittedly had its faults, it was rather enjoyable.<br /><br />Naturally I was very interested in seeing the film version. That was before I saw it. Afterwords I wished it had never been made.<br /><br />Besides being miscast all around (who on Earth though Broderick was even close to the role?) it just didn't make the grade.<br /><br />The effects were reasonable and perhaps the ONLY thing I liked about the movie; seeing a live-action version of the gadgets in action! What was missing was a story and treatment which made it funny or charming or interesting.<br /><br />The original was a wacky cartoon with a very lighthearted attitude. It was FUN. The motion picture became murky and took itself FAR too seriously. If it had seriously had a great plot or went crazy enough to make it seem like a \"cartoon on film\" it might have been enjoyable.<br /><br />As it exists it doesn't deserve to be considered part of the \"Gadget Legacy\".\n",
      "\n",
      "It really impresses me that it got made. The director/writer/actor must be really charismatic in reality. I can think of no other way itd pass script stage. What I want you to consider is this...while watching the films I was feeling sorry for the actors. It felt like being in a stand up comedy club where the guy is dying on his feet and your sitting there, not enjoying it, just feeling really bad for him coz hes of trying. Id really like to know what the budget is, guess it must have been low as the film quality is really poor. I want to write 'the jokes didn't appeal to me'. but the reality is for them to appeal to you, you'd have to be the man who wrote them. or a retard. So imagine that in script form...and this guy got THAT green lit. Thats impressive isn't it?\n"
     ]
    }
   ],
   "source": [
    "thumbs_down_samples = thumbs_downs['text'].sample(3).to_list()\n",
    "print('\\n\\n'.join(thumbs_down_samples))"
   ]
  },
  {
   "cell_type": "markdown",
   "metadata": {
    "id": "nq5P_Iu1QmaY"
   },
   "source": [
    "Generally, it is pretty clear from reading a particular review whether it is a thumbs-up or thumbs-down."
   ]
  },
  {
   "cell_type": "markdown",
   "metadata": {
    "id": "8eG6a3t6Al35"
   },
   "source": [
    "## Preprocessor"
   ]
  },
  {
   "cell_type": "markdown",
   "metadata": {
    "id": "-bk2TBv9Al35"
   },
   "source": [
    "The preprocessor transforms movie reviews by lower-casing, removing HTML tags, and removing punctuation."
   ]
  },
  {
   "cell_type": "code",
   "execution_count": 11,
   "metadata": {
    "id": "6fpUHAnuQhhu"
   },
   "outputs": [],
   "source": [
    "preprocessor = Preprocessor()"
   ]
  },
  {
   "cell_type": "markdown",
   "metadata": {
    "id": "J6OwlrxwAl36"
   },
   "source": [
    "To see the preprocessor in action, pick a random movie review:"
   ]
  },
  {
   "cell_type": "code",
   "execution_count": 12,
   "metadata": {
    "id": "FKlkpY7qAl36"
   },
   "outputs": [
    {
     "name": "stdout",
     "output_type": "stream",
     "text": [
      "Yes, Marie Dresler drinks prune juice that she thinks is poison and she exits running.<br /><br />Dresler is good. Never my cup of tea but she is a solid performer who surely holds the screen.<br /><br />I watched this for Polly Moran, whom I've seen elsewhere. Here, Moran is OK -- just OK -- as Dressler's shrewish friend/foe. Too bad she has sunk into nearly total oblivion.<br /><br />The plot is good hearted. Bad guys try to rob the townspeople. Dressler triumphs and all ends well.<br /><br />I do wonder about the central plot mechanism: bonds. This came out during the Depression so maybe everyone was familiar with bonds and what they can do if used well and if used wrongly. I, however, not of that era, am vaguely familiar with them. They're like stocks only different, right? It seems odd to build a story about The Little Man around a somewhat sophisticated monetary entity.\n",
      "\n",
      "yes marie dresler drinks prune juice that she thinks is poison and she exits running  dresler is good never my cup of tea but she is a solid performer who surely holds the screen  i watched this for polly moran whom ive seen elsewhere here moran is ok  just ok  as dresslers shrewish friend foe too bad she has sunk into nearly total oblivion  the plot is good hearted bad guys try to rob the townspeople dressler triumphs and all ends well  i do wonder about the central plot mechanism bonds this came out during the depression so maybe everyone was familiar with bonds and what they can do if used well and if used wrongly i however not of that era am vaguely familiar with them theyre like stocks only different right it seems odd to build a story about the little man around a somewhat sophisticated monetary entity\n"
     ]
    }
   ],
   "source": [
    "doc = train['text'].sample()\n",
    "doc_preprocessed = preprocessor.transform(doc)\n",
    "\n",
    "print(doc.to_list()[0])\n",
    "print()\n",
    "print(doc_preprocessed[0])"
   ]
  },
  {
   "cell_type": "markdown",
   "metadata": {
    "id": "I8ImtNQfAl36"
   },
   "source": [
    "## Tokenizer"
   ]
  },
  {
   "cell_type": "markdown",
   "metadata": {
    "id": "iWYN34CRAl36"
   },
   "source": [
    "The tokenizer removes English stop words and stems the corpus."
   ]
  },
  {
   "cell_type": "code",
   "execution_count": 13,
   "metadata": {
    "id": "fhCrqrDSB1JD"
   },
   "outputs": [],
   "source": [
    "tokenizer = Tokenizer(PorterStemmer(), ENGLISH_STOP_WORDS)"
   ]
  },
  {
   "cell_type": "markdown",
   "metadata": {
    "id": "-vcEsH_eAl37"
   },
   "source": [
    "To see the tokenizer in action, transform the previously preprocessed movie review."
   ]
  },
  {
   "cell_type": "code",
   "execution_count": 14,
   "metadata": {
    "id": "dCbxTmNTAl37"
   },
   "outputs": [
    {
     "name": "stdout",
     "output_type": "stream",
     "text": [
      "yes marie dresler drinks prune juice that she thinks is poison and she exits running  dresler is good never my cup of tea but she is a solid performer who surely holds the screen  i watched this for polly moran whom ive seen elsewhere here moran is ok  just ok  as dresslers shrewish friend foe too bad she has sunk into nearly total oblivion  the plot is good hearted bad guys try to rob the townspeople dressler triumphs and all ends well  i do wonder about the central plot mechanism bonds this came out during the depression so maybe everyone was familiar with bonds and what they can do if used well and if used wrongly i however not of that era am vaguely familiar with them theyre like stocks only different right it seems odd to build a story about the little man around a somewhat sophisticated monetary entity\n",
      "\n",
      "ye mari dresler drink prune juic think poison exit run dresler good cup tea solid perform sure hold screen watch polli moran ive seen moran ok just ok dressler shrewish friend foe bad sunk nearli total oblivion plot good heart bad guy tri rob townspeopl dressler triumph end wonder central plot mechan bond came depress mayb familiar bond use use wrongli era vagu familiar theyr like stock differ right odd build stori littl man somewhat sophist monetari entiti\n"
     ]
    }
   ],
   "source": [
    "doc_tokenized = tokenizer.transform(doc_preprocessed)\n",
    "\n",
    "print(doc_preprocessed[0])\n",
    "print()\n",
    "print(doc_tokenized[0])"
   ]
  },
  {
   "cell_type": "markdown",
   "metadata": {
    "id": "UYeNXdMWCQtc"
   },
   "source": [
    "## Vectorizer"
   ]
  },
  {
   "cell_type": "markdown",
   "metadata": {
    "id": "kJyVHilfCXk9"
   },
   "source": [
    "I use `TfidfVectorizer` to map documents to vectors."
   ]
  },
  {
   "cell_type": "code",
   "execution_count": 15,
   "metadata": {
    "id": "KKSbw_iiRoRn"
   },
   "outputs": [],
   "source": [
    "vectorizer = TfidfVectorizer(\n",
    "    max_df = 0.95,\n",
    "    min_df = 2,\n",
    "    max_features = 10_000,\n",
    "    strip_accents='unicode'\n",
    ")\n",
    "\n",
    "cleaner = Pipeline([\n",
    "    ('preprocessor', preprocessor),\n",
    "    ('tokenizer', tokenizer),\n",
    "    ('vectorizer', vectorizer)\n",
    "])"
   ]
  },
  {
   "cell_type": "markdown",
   "metadata": {
    "id": "2YAgpYi-Al37"
   },
   "source": [
    "## Classifers"
   ]
  },
  {
   "cell_type": "markdown",
   "metadata": {
    "id": "kTpL6bQ28FgG"
   },
   "source": [
    "I train and test logistic regression, random forest, and support vector machine classifiers on the IMDB movie reviews. I score the models using F1-score because the train set is balanced and the consequences of misclassifying a positive review are the same as misclassifying a negative review."
   ]
  },
  {
   "cell_type": "code",
   "execution_count": 16,
   "metadata": {
    "id": "FQEm6eAbAl37"
   },
   "outputs": [],
   "source": [
    "X_train, X_test, y_train, y_test =\\\n",
    "    train['text'], test['text'], train['label'], test['label']"
   ]
  },
  {
   "cell_type": "markdown",
   "metadata": {
    "id": "9uGBmXsNAl37"
   },
   "source": [
    "### Logistic Regression"
   ]
  },
  {
   "cell_type": "code",
   "execution_count": 17,
   "metadata": {
    "id": "jWfWV2_sAl37"
   },
   "outputs": [],
   "source": [
    "lr = LogisticRegression(\n",
    "    penalty='l2',\n",
    "    max_iter=1000\n",
    ")\n",
    "\n",
    "pipe = Pipeline([\n",
    "    ('cleaner', cleaner),\n",
    "    ('classifier', lr)\n",
    "])\n",
    "\n",
    "param_distributions = {\n",
    "    'classifier__C': loguniform(1e-2, 1e2),\n",
    "    'classifier__solver': ['liblinear', 'newton-cholesky', 'saga']\n",
    "}\n",
    "\n",
    "search_lr = RandomizedSearchCV(\n",
    "    estimator=pipe,\n",
    "    param_distributions=param_distributions,\n",
    "    n_iter=15,\n",
    "    scoring='f1',\n",
    "    n_jobs=1,\n",
    "    refit=True,\n",
    "    cv=5,\n",
    "    verbose=1\n",
    ")"
   ]
  },
  {
   "cell_type": "code",
   "execution_count": 18,
   "metadata": {
    "id": "lOa1gKCmAl38"
   },
   "outputs": [
    {
     "name": "stdout",
     "output_type": "stream",
     "text": [
      "Fitting 5 folds for each of 15 candidates, totalling 75 fits\n"
     ]
    }
   ],
   "source": [
    "search_lr.fit(X_train, y_train);"
   ]
  },
  {
   "cell_type": "code",
   "execution_count": 19,
   "metadata": {
    "id": "s2vSpT-GYX6E"
   },
   "outputs": [
    {
     "name": "stdout",
     "output_type": "stream",
     "text": [
      "Best parameters: {'classifier__C': 0.8440952454647955, 'classifier__solver': 'liblinear'}\n",
      "Test F1-score: 0.8747854548357482\n"
     ]
    }
   ],
   "source": [
    "test_score_lr = search_lr.score(X_test, y_test)\n",
    "\n",
    "print(f'Best parameters: {search_lr.best_params_}')\n",
    "print(f'Test F1-score: {test_score_lr}')"
   ]
  },
  {
   "cell_type": "code",
   "execution_count": 20,
   "metadata": {
    "id": "-deFy3WYMqAu"
   },
   "outputs": [],
   "source": [
    "best_model = search_lr.best_estimator_\n",
    "best_score = test_score_lr"
   ]
  },
  {
   "cell_type": "markdown",
   "metadata": {
    "id": "lKqLIcDJNnyK"
   },
   "source": [
    "### Random Forest"
   ]
  },
  {
   "cell_type": "code",
   "execution_count": 21,
   "metadata": {
    "id": "PRP4PVpwAl38"
   },
   "outputs": [],
   "source": [
    "rfc = RandomForestClassifier()\n",
    "\n",
    "pipe = Pipeline([\n",
    "    ('cleaner', cleaner),\n",
    "    ('classifier', rfc)\n",
    "])\n",
    "\n",
    "param_distributions = {\n",
    "    'classifier__n_estimators': [10, 30, 100, 300, 1000],\n",
    "    'classifier__max_depth': list(range(10, 101)),\n",
    "    'classifier__min_samples_split': list(range(2, 11)),\n",
    "    'classifier__min_samples_leaf': list(range(1, 11))\n",
    "}\n",
    "\n",
    "search_rfc = RandomizedSearchCV(\n",
    "    estimator=pipe,\n",
    "    param_distributions=param_distributions,\n",
    "    n_iter=20,\n",
    "    scoring='f1',\n",
    "    n_jobs=1,\n",
    "    refit=True,\n",
    "    cv=5,\n",
    "    verbose=1\n",
    ")"
   ]
  },
  {
   "cell_type": "code",
   "execution_count": 22,
   "metadata": {
    "id": "VpVfqqUrOVKk"
   },
   "outputs": [
    {
     "name": "stdout",
     "output_type": "stream",
     "text": [
      "Fitting 5 folds for each of 20 candidates, totalling 100 fits\n"
     ]
    }
   ],
   "source": [
    "search_rfc.fit(X_train, y_train);"
   ]
  },
  {
   "cell_type": "code",
   "execution_count": 23,
   "metadata": {
    "id": "vtZIsatbZBi1"
   },
   "outputs": [
    {
     "name": "stdout",
     "output_type": "stream",
     "text": [
      "Best parameters: {'classifier__n_estimators': 1000, 'classifier__min_samples_split': 5, 'classifier__min_samples_leaf': 2, 'classifier__max_depth': 56}\n",
      "Test F1-score: 0.8521822236381013\n"
     ]
    }
   ],
   "source": [
    "test_score_rfc = search_rfc.score(X_test, y_test)\n",
    "\n",
    "print(f'Best parameters: {search_rfc.best_params_}')\n",
    "print(f'Test F1-score: {test_score_rfc}')"
   ]
  },
  {
   "cell_type": "code",
   "execution_count": 24,
   "metadata": {
    "id": "_PI7XehrNS_0"
   },
   "outputs": [],
   "source": [
    "if test_score_rfc > best_score:\n",
    "    best_model = search_rfc.best_estimator_\n",
    "    best_score = test_score_rfc"
   ]
  },
  {
   "cell_type": "markdown",
   "metadata": {
    "id": "_4dTJFlzdR5J"
   },
   "source": [
    "### Support Vector Machine"
   ]
  },
  {
   "cell_type": "code",
   "execution_count": 25,
   "metadata": {
    "id": "OzZlXEXIdXPD"
   },
   "outputs": [],
   "source": [
    "svc = LinearSVC(penalty='l2', dual='auto', max_iter=2500)\n",
    "\n",
    "pipe = Pipeline([\n",
    "    ('cleaner', cleaner),\n",
    "    ('classifier', svc)\n",
    "])\n",
    "\n",
    "param_distributions = {\n",
    "    'classifier__C': loguniform(1e-2, 1e2),\n",
    "    'classifier__loss': ['hinge', 'squared_hinge']\n",
    "}\n",
    "\n",
    "search_svc = RandomizedSearchCV(\n",
    "    estimator=pipe,\n",
    "    param_distributions=param_distributions,\n",
    "    n_iter=10,\n",
    "    scoring='f1',\n",
    "    n_jobs=1,\n",
    "    refit=True,\n",
    "    cv=5,\n",
    "    verbose=1\n",
    ")"
   ]
  },
  {
   "cell_type": "code",
   "execution_count": 26,
   "metadata": {
    "id": "-ol8BGeDeQ6A"
   },
   "outputs": [
    {
     "name": "stdout",
     "output_type": "stream",
     "text": [
      "Fitting 5 folds for each of 10 candidates, totalling 50 fits\n"
     ]
    }
   ],
   "source": [
    "search_svc.fit(X_train, y_train);"
   ]
  },
  {
   "cell_type": "code",
   "execution_count": 27,
   "metadata": {
    "id": "DKeHEuvyeYFv"
   },
   "outputs": [
    {
     "name": "stdout",
     "output_type": "stream",
     "text": [
      "Best model: {'classifier__C': 0.01990565573866495, 'classifier__loss': 'squared_hinge'}\n",
      "Test F1-score: 0.8679185858824455\n"
     ]
    }
   ],
   "source": [
    "test_score_svc = search_svc.score(X_test, y_test)\n",
    "\n",
    "print(f'Best model: {search_svc.best_params_}')\n",
    "print(f'Test F1-score: {test_score_svc}')"
   ]
  },
  {
   "cell_type": "code",
   "execution_count": 28,
   "metadata": {
    "id": "I7XR2vcANmlO"
   },
   "outputs": [],
   "source": [
    "if test_score_svc > best_score:\n",
    "    best_model = search_svc.best_estimator_\n",
    "    best_score = test_score_svc"
   ]
  },
  {
   "cell_type": "markdown",
   "metadata": {
    "id": "E4nMSB0TUPEH"
   },
   "source": [
    "## Conclusion"
   ]
  },
  {
   "cell_type": "code",
   "execution_count": 29,
   "metadata": {
    "id": "OIYkP5g2UTM4"
   },
   "outputs": [
    {
     "name": "stdout",
     "output_type": "stream",
     "text": [
      "Test F1-scores:\n",
      "    Logistic regression: 0.8747854548357482\n",
      "    Random forest: 0.8521822236381013\n",
      "    Support vector machine: 0.8679185858824455\n"
     ]
    }
   ],
   "source": [
    "print(f'Test F1-scores:')\n",
    "print(f'    Logistic regression: {test_score_lr}')\n",
    "print(f'    Random forest: {test_score_rfc}')\n",
    "print(f'    Support vector machine: {test_score_svc}')"
   ]
  },
  {
   "cell_type": "markdown",
   "metadata": {
    "id": "w0xrCOYo9eJK"
   },
   "source": [
    "I pickle the best-performing model so that it can be deployed later."
   ]
  },
  {
   "cell_type": "code",
   "execution_count": 30,
   "metadata": {
    "id": "oZT0s9JA6DZB"
   },
   "outputs": [],
   "source": [
    "model_dir = 'app/model'\n",
    "with open(f'{model_dir}/best_model.pkl', 'wb') as file:\n",
    "    pickle.dump(best_model, file)"
   ]
  },
  {
   "cell_type": "code",
   "execution_count": null,
   "metadata": {},
   "outputs": [],
   "source": []
  }
 ],
 "metadata": {
  "colab": {
   "include_colab_link": true,
   "provenance": []
  },
  "kernelspec": {
   "display_name": "nlp",
   "language": "python",
   "name": "nlp"
  },
  "language_info": {
   "codemirror_mode": {
    "name": "ipython",
    "version": 3
   },
   "file_extension": ".py",
   "mimetype": "text/x-python",
   "name": "python",
   "nbconvert_exporter": "python",
   "pygments_lexer": "ipython3",
   "version": "3.12.4"
  }
 },
 "nbformat": 4,
 "nbformat_minor": 4
}
