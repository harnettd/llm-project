{
 "cells": [
  {
   "cell_type": "markdown",
   "metadata": {},
   "source": [
    "# Deployed with Flask"
   ]
  },
  {
   "cell_type": "markdown",
   "metadata": {},
   "source": [
    "Using scikit-learn, I trained a classifier to classify movie reviews using the IMDB dataset. A positive review should get a score of 1 (*i.e.,* thumbs-up) and a negative review should get a score of 0 (*i.e., thumbs-down). \n",
    "\n",
    "I then used Flask to set up a local server at http://localhost:5000/classify. (The corresponding code is in 'app/api.py'.) Upon receiving a POST request with a payload consisting of a list of (text) movie reviews, the server applies the trained model to generate corresponding movie-review-classification predictions.\n",
    "\n",
    "To try the out the trained classifier, I use samples from the set of unlabelled (*i.e.,* unsupervised) movie revews from the IMDB dataset."
   ]
  },
  {
   "cell_type": "markdown",
   "metadata": {},
   "source": [
    "## Imports"
   ]
  },
  {
   "cell_type": "code",
   "execution_count": 1,
   "metadata": {},
   "outputs": [],
   "source": [
    "import numpy as np\n",
    "import pandas as pd\n",
    "import requests\n",
    "\n",
    "from datasets import load_dataset\n",
    "\n",
    "from app.cleaner.preprocessor import Preprocessor\n",
    "from app.cleaner.tokenizer import Tokenizer"
   ]
  },
  {
   "cell_type": "code",
   "execution_count": 2,
   "metadata": {},
   "outputs": [],
   "source": [
    "rng = np.random.default_rng()"
   ]
  },
  {
   "cell_type": "markdown",
   "metadata": {},
   "source": [
    "## Load Dataset"
   ]
  },
  {
   "cell_type": "code",
   "execution_count": 3,
   "metadata": {},
   "outputs": [],
   "source": [
    "ds = load_dataset('imdb')\n",
    "all_reviews = ds['unsupervised']['text']"
   ]
  },
  {
   "cell_type": "markdown",
   "metadata": {},
   "source": [
    "Here's an example movie review:"
   ]
  },
  {
   "cell_type": "code",
   "execution_count": 4,
   "metadata": {},
   "outputs": [
    {
     "data": {
      "text/plain": [
       "\"I was very disappointed in this movie. Hearing the DVD commentary by the director, producer, and screenwriter explained why it was so bad but annoyed me because they didn't seem to know the book as well as anyone adapting a book into a movie should. It is understandable that the director and producer were much better acquainted with the screenplay than with its source, but the screenwriter has no excuse. She frequently said that adapting a popular book is difficult because fans of the book are so devoted to the text that they are upset because their own favorite episodes are left out. I enjoyed the book but am not that devoted a fan, and though I was sorry to see characters and scenes I liked left out, I know it would be impossible to make a movie that retained everything in a full-length novel. But to take the title, characters, and some of the events of a book, but change significant motivations, events, or characters beyond recognition is inexcusable. It was especially annoying when the screenwriter claimed scenes were true to the book when they weren't. The worst was when she made a big deal about not changing the ending, saying that Dodie Smith (the author) had been offered half a million dollars by book-of-the-month club to change it and she (the screenwriter) felt that if Smith resisted that much money it was important the ending stay the same. And she changed it! She changed it in a different way but the change was just as bad, arguably worse. She also changed some scenes in a way that made them not only contrary to fiction, but also to the real era in which the events of the movie are supposed to take place. Many movies do this, but I wish they wouldn't. On the positive side, the scenery was beautiful (though wrong for the supposed setting) and the acting was good for the most part. It was too bad that the story was changed enough that Neil and Simon behaved bizarrely and inexplicably. Neil especially was a strange caricature of an American, but given what he had to work with, I don't think it was the actor's fault. I'm sure I would have liked this movie slightly more if I had not read the book, but I still wouldn't recommend it to anyone. The screenwriter's plot just doesn't make sense. Maybe no screenplay could have adequately conveyed the character's motivations and the plot only makes sense in book form, but this screenwriter's attempt is truly terrible.\""
      ]
     },
     "execution_count": 4,
     "metadata": {},
     "output_type": "execute_result"
    }
   ],
   "source": [
    "rng.choice(all_reviews)"
   ]
  },
  {
   "cell_type": "markdown",
   "metadata": {},
   "source": [
    "## Predictions"
   ]
  },
  {
   "cell_type": "code",
   "execution_count": 5,
   "metadata": {},
   "outputs": [],
   "source": [
    "# url of the movie-review-classifier server\n",
    "URL = 'http://localhost:5000/classify'"
   ]
  },
  {
   "cell_type": "code",
   "execution_count": 6,
   "metadata": {},
   "outputs": [],
   "source": [
    "def get_predictions(reviews: list[str]) -> list[int]:\n",
    "    \"\"\"Return a list of movie-review-classifier predictions.\n",
    "\n",
    "    Makes a POST request to the movie-review classifier and returns\n",
    "    a list of 0's and 1's where a 0 indicates a thumbs-down\n",
    "    classification of the corresponding movie review and a 1 indicates\n",
    "    a thumbs-up.\n",
    "\n",
    "    :param reviews: A list of movie reviews\n",
    "    :type reviews: list[str]\n",
    "\n",
    "    :return: A list of predictions from the movie-review-classifier\n",
    "    :rtype: list[int]\n",
    "    \"\"\"\n",
    "    payload = {'reviews': reviews}\n",
    "    response = requests.post(URL, json=payload)\n",
    "    return response.json()['labels']"
   ]
  },
  {
   "cell_type": "code",
   "execution_count": 7,
   "metadata": {},
   "outputs": [
    {
     "data": {
      "text/plain": [
       "['In my private library Bernard Cornwell\\'s novels are the most read. And the Sharpe novels do show some wear and tear. As it is with the movies. As soon as my partners hears the song \"Over the Hills...\" she knows it is time to visit her friend. I am so glad they succeeded in merging the first three books into one movies and make it believable that everything takes place after Waterloo. There is of course one setback: I do so miss Obediah Hakeswill. But Sergeant Bickerstaff is a worthy replacement. And that while Bickerstaff is such a nice guy in the novel. But Dodd is there as evil as he is in Sharpe\\'s Fortress. A great movie and a worthy successor to series. Am I the only one who misses the rest of the gang? Micheal Mears (Rifleman Cooper), John Tams (Daniel Hagman)and Jason Salkey (Rifleman Harris. A pity but not all of us have the luck of the Irish.',\n",
       " \"Those who think that Cole Porter and the Cold War make strange bedfellows aren't going to have their minds changed by this movie. It's a bizarre mishmash of MGM kitsch, Red-baiting, and homosexual archness, adapted from the stage musical. It also must be the dullest movie ever made in celebration of fun. I don't know what the stage version did (it's never revived) but this movie has one idea (Communism boring, Capitalism fun!) and it keeps beating us on the head with it while showing us around out a lot of Louis Whatever hotel suites that few Americans in 1957 could afford either. 1...2...3...what are we fighting for! (Money, evidently.) The propaganda would be more persuasive if Charisse didn't look sexier in her Worker's Black Nylons than she does in the silks that mark her transformation from dull comrade to fun capitalist-- and if those silks didn't actually appear to be nylons. <br /><br />For Komic Relief, there are Three Komrades-- they're the Three Stooges. The 'Ninotchka' (Charisse) is innocent of kissing-- she's like the native girls in '30s South Seas flicks. I guess they didn't do THAT behind the Iron Curtain. Perhaps the relevant passages were blacked out of her state translation of THE SUN ALSO RISES. We wait, and wait, and wait while Astaire sings and Janis Paige (she's trying to be Jean Hagen) chews the scenery, for Astaire and Charisse to dance. The dance numbers are very good and show off Astaire's unending quest to try out new ideas. Shame the rest of the movie didn't do so. <br /><br />This period piece is useful as a stored version of the Broadway show but it's watchable only if you occasionally use fast-forward.\",\n",
       " \"I was unable to see how anyone can find this movie funny. Taste is a strange thing i guess... There is not a single scene in this movie that made me laugh. Worse, there are so few scenes that i watched and considered to be MEANT to be funny. Ice cube does his bad acting once again (look at me, i'm a rapper and i have only one facial expression!) The rest is only so-so (nothing special). One of them is when the unfunny guy meets his blind date. However, you saw it coming from a mile, so it did absolutely nothing to me.<br /><br />If you want to see funny bake movies, check out stuff like Harold and Kumar, or the all-time classic Half-baked.\",\n",
       " '\"Bingo\" is exactly the word! This film hits all the right spots and its not all about Joan Crawford, who simply sparkles. I fell totally in love with her character!<br /><br />It is not by accident that IMDb lists 107 films by Director Jack Conway between 1912 and 1948. This was his 72nd film according to that chronology and his expertise shows. I found it thoroughly engrossing and continuously entertaining. I laughed aloud often -- some really great gags and a fine early sit-com.<br /><br />I don\\'t know much about the writer Charles E. Scoggins, but co-writer Sivia Thalberg is credited with 15 films and is the sister of Irving Thalberg. That ought to tell you this film deserves close attention. Don\\'t allow yourself to think of it as \"cornball\" and just engross yourself in it. You won\\'t be disappointed.']"
      ]
     },
     "execution_count": 7,
     "metadata": {},
     "output_type": "execute_result"
    }
   ],
   "source": [
    "reviews = rng.choice(all_reviews, size=4).tolist()\n",
    "reviews"
   ]
  },
  {
   "cell_type": "code",
   "execution_count": 8,
   "metadata": {},
   "outputs": [
    {
     "data": {
      "text/plain": [
       "[1, 0, 0, 1]"
      ]
     },
     "execution_count": 8,
     "metadata": {},
     "output_type": "execute_result"
    }
   ],
   "source": [
    "predictions = get_predictions(reviews)\n",
    "predictions"
   ]
  },
  {
   "cell_type": "code",
   "execution_count": null,
   "metadata": {},
   "outputs": [],
   "source": []
  }
 ],
 "metadata": {
  "kernelspec": {
   "display_name": "nlp",
   "language": "python",
   "name": "nlp"
  },
  "language_info": {
   "codemirror_mode": {
    "name": "ipython",
    "version": 3
   },
   "file_extension": ".py",
   "mimetype": "text/x-python",
   "name": "python",
   "nbconvert_exporter": "python",
   "pygments_lexer": "ipython3",
   "version": "3.12.4"
  }
 },
 "nbformat": 4,
 "nbformat_minor": 4
}
