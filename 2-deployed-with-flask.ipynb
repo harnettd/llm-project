{
 "cells": [
  {
   "cell_type": "markdown",
   "metadata": {},
   "source": [
    "# Deployed with Flask"
   ]
  },
  {
   "cell_type": "markdown",
   "metadata": {},
   "source": [
    "Using scikit-learn, I trained a classifier to classify movie reviews using the IMDB dataset. A positive review should get a score of 1 (*i.e.,* thumbs-up) and a negative review should get a score of 0 (*i.e., thumbs-down). \n",
    "\n",
    "I then used Flask to set up a local server at http://localhost:5000/classify. (The corresponding code is in 'app/api.py'.) Upon receiving a POST request with a payload consisting of a list of (text) movie reviews, the server applies the trained model to generate corresponding movie-review-classification predictions.\n",
    "\n",
    "To try the out the trained classifier, I use samples from the set of unlabelled (*i.e.,* unsupervised) movie revews from the IMDB dataset."
   ]
  },
  {
   "cell_type": "markdown",
   "metadata": {},
   "source": [
    "## Imports"
   ]
  },
  {
   "cell_type": "code",
   "execution_count": 1,
   "metadata": {},
   "outputs": [],
   "source": [
    "import numpy as np\n",
    "import pandas as pd\n",
    "import requests\n",
    "\n",
    "from datasets import load_dataset\n",
    "\n",
    "from app.cleaner.preprocessor import Preprocessor\n",
    "from app.cleaner.tokenizer import Tokenizer"
   ]
  },
  {
   "cell_type": "code",
   "execution_count": 2,
   "metadata": {},
   "outputs": [],
   "source": [
    "rng = np.random.default_rng()"
   ]
  },
  {
   "cell_type": "markdown",
   "metadata": {},
   "source": [
    "## Load Dataset"
   ]
  },
  {
   "cell_type": "code",
   "execution_count": 3,
   "metadata": {},
   "outputs": [],
   "source": [
    "ds = load_dataset('imdb')\n",
    "all_reviews = ds['unsupervised']['text']"
   ]
  },
  {
   "cell_type": "markdown",
   "metadata": {},
   "source": [
    "Here's an example movie review:"
   ]
  },
  {
   "cell_type": "code",
   "execution_count": 4,
   "metadata": {},
   "outputs": [
    {
     "data": {
      "text/plain": [
       "\"This game is terrific. Even do this game is made for the game boy advance with all of the console's limits, is also extremely enjoyable. It is a very long and fun game with innovating stuff for the genre. Its story is really good as the characters are. But what is the difference between this RPG and others? It has magic.<br /><br />When you take into account that the game boy advance is not one of the best consoles out there, you would be a bit hesitant about this game. But I can assure you that all the good stuff totally make up for the system's limits. The fight are very well designed, the world is really big and you can find tons of monster to practice the moves. The sound is also enjoyable and the graphics are good for the game boy advance.<br /><br />The story is about a group of four adepts (The person who can use Psynergy) with different powers, who need to stop the bad guys from lighting the four beacons/seals and therefore break the alchemy seal that use to balance to forces on earth. The story is little more complicated than that since there are many sub-plots and you get to understand our characters and the bad guys actions.<br /><br />The new features included in this game are the Djinn, which are Pokémon like creatures (They need to be caught as well) with different powers. The difference is that there are only four kinds of them (Water, fire, wind and earth) which match each of the four main characters type. The main characters own special powers according to their type (for example the earth guy has powers related to earth and so on) which are necessary when you need to solve puzzles to beat the many different dungeons. You can set Djinns to each character to provide them with additional strength or you can also change types for them. The Djinn can be use in different forms in battle, you are able to use each Djinn special technique, or use a group of them to sum an even stronger attack. You can also use each character special power (They call it Psynergy) or simply attack the bad guys with your weapons. The battle system is really good as well but it would be a little long to explain.<br /><br />Overall this game is an absolute worth trying. Anyone who claim he/she likes RPG will love this title, and the rest will love it as well.\""
      ]
     },
     "execution_count": 4,
     "metadata": {},
     "output_type": "execute_result"
    }
   ],
   "source": [
    "rng.choice(all_reviews)"
   ]
  },
  {
   "cell_type": "markdown",
   "metadata": {},
   "source": [
    "## Predictions"
   ]
  },
  {
   "cell_type": "code",
   "execution_count": 5,
   "metadata": {},
   "outputs": [],
   "source": [
    "# url of the movie-review-classifier server\n",
    "URL = 'http://localhost:5000/classify'"
   ]
  },
  {
   "cell_type": "code",
   "execution_count": 6,
   "metadata": {},
   "outputs": [],
   "source": [
    "def get_predictions(reviews: list[str]) -> list[int]:\n",
    "    \"\"\"Return a list of movie-review-classifier predictions.\n",
    "\n",
    "    Makes a POST request to the movie-review classifier and returns\n",
    "    a list of 0's and 1's where a 0 indicates a thumbs-down\n",
    "    classification of the corresponding movie review and a 1 indicates\n",
    "    a thumbs-up.\n",
    "\n",
    "    :param reviews: A list of movie reviews\n",
    "    :type reviews: list[str]\n",
    "\n",
    "    :return: A list of predictions from the movie-review-classifier\n",
    "    :rtype: list[int]\n",
    "    \"\"\"\n",
    "    payload = {'reviews': reviews}\n",
    "    response = requests.post(URL, json=payload)\n",
    "    return response.json()['labels']"
   ]
  },
  {
   "cell_type": "code",
   "execution_count": 7,
   "metadata": {},
   "outputs": [
    {
     "data": {
      "text/plain": [
       "[\"This is one of the Great ones: In terms of French cinema in the first full decade of Sound it belongs right up there with Marius, Fanny, Cesar, Quai des Brumes, Le Jour se leve, La Femme du boulanger, La Grande Illusion and you can't put anything higher than that though Duvivier's own La Belle equipe and Pepe Le Moko both come within a whisker. It's the kind of film that would be difficult to make today as would, for example, Dial M For Murder. Frederick Knott wrote Dial as a play in the early fifties and the Hitchcock film version was released in 1954 BUT the entire plot (our old friend the 'perfect' murder) hinged on the fact that in those days only the upper and middle classes had telephones at all and those were in fixed locations and in this era of jack points and cell phones the idea of someone obliged to answer a telephone located on a desk in front of heavy drapes behind which a murderer was lurking ready to strike when the phone was answered would be ludicrous. Carnet is similar inasmuch as 'dance cards' are unheard of today belonging as they do to a world of stately dancing and courtly manners where even a 'nice' girl would as soon turn up to a dance totally naked as without a 'full' dance card - many of us will remember how, in Meet Me In St Louis, Judy Garland and Lucille Bremner 'marked' the dance card of an out-of-towner loading it with every dead-beat in town. So, yes, it is archaic but fortunately those of us who care to can have archaic and eat it courtesy of the Art/Revival House, Movie Channels on TV and/or the DVD. Living by a lake a widow comes face to face with what today we would call a mid-life crisis; vaguely melancholic and slightly wistful lest she did, as she suspects, marry the wrong man, she allows her thoughts to drift to her first dance and the names on her very first dance card who, on a whim, she decides to trace. WE know of course that you can't go home again even if we've never even heard of Tom Wolfe let alone read him but thankfully Christine feels otherwise. It was a nice touch to find that the first name on the card is dead - but try telling that to his mother, the great Francoise Rosay - as if to say right from the word go that love dies, baby, if you neglect it. One by one via a night-club semi racketeer, a monk, a ski instructor, the mayor of a small town, an epileptic doctor with a lucrative sideline in abortion and a gay hairdresser the scales fall and/or are stripped from her eyes leaving her sadder but wiser. Some of the top names in French cinema step up to the plate, Harry Baur, Louis Jouvet, Fernandel etc and no one strikes out. Henri Jeanson and Julien Duvivier brought honour to the French cinema with this one that remains a must-see and before I sign off let me acknowledge a genuine altruistic contributor to these boards who, with exceptional kindness, sent me not only this gem but seventeen others. Watch this space.\",\n",
       " 'This version of \"Hamlet\" uses the exact idea of Bazz Luhrmann\\'s \"Romeo + Juliet\". A William Shakespeare play, presented in our decade, with all modern things interfering or completely changing scenes. All but the dialog, who remained as close as possible to the original. Ethan Hawke and Kyle MacLachlan are both very good, but unfortunately Julia Stiles destroys her scenes, with her flat and inexpressive appearence.<br /><br />Still it\\'s an interesting watch, but only if you\\'re a big fan of someone involved in this picture. Vote: 4 out of 10.',\n",
       " 'I discovered this show years ago and wow is this funny! Unlike the American version, this show had no restrictions and anything goes with the improvisers. Also unlike the lame version of todays \"Whose Line\", the games at times where played by other improvisers that made things fresh. Song styles before becoming about the same thing every time by Wayne Brady, were actually funny and were about different things. I remember when Mike McShane and Josie Lawrence did a song styles and the song was about kitty litter. Greg Proops did news flash once in a while instead of Colin all the time, and I loved the game Helping Hands. My personal favorite improvisers are: Paul Mertin, Tony Slattery, and Greg Proops. The ongoing war between Greg Proops and Clive Anderson was always funny, how the improvisers will say that Clive has no neck, and Clive Anderson is a MUCH better host than O SO BORING Drew Carey.<br /><br />The Last Word: The British Version Ruled. Want decent improv without the restrictions and with humor? Tune in, It rules.',\n",
       " \"For anyone who hasn't seen the movie yet... Go see it! It will move you; not in the English sense, but the Hindi one... It will Hilao you! And it'll strengthen your will to stay on in this country despite all kinds of devilish plans! And you will learn why Govind Nihalani is one of our best directors.<br /><br />And even if this is stating the obvious, you will want to fall at Amitabh Bachchan's feet for being the actor he is. If it is possible to dwarf Om Puri, it's been done by Mr. Bachchan in this movie! In the Bandstand scene, he makes an actor of Om Puri's ability & stature look completely insignificant & pitiful. He's khaoed him!!!<br /><br />That's one point of view though. Another point of view is that Om Puri being the actor he is understood the Bandstand scene very well & enacted the scene in line with the story & the characters.<br /><br />Fardeen doesn't disappoint - he is as bad as he is in all his other movies. This is one actor who still hasn't learned to act, and probably never will.\"]"
      ]
     },
     "execution_count": 7,
     "metadata": {},
     "output_type": "execute_result"
    }
   ],
   "source": [
    "reviews = rng.choice(all_reviews, size=4, replace=False).tolist()\n",
    "reviews"
   ]
  },
  {
   "cell_type": "code",
   "execution_count": 8,
   "metadata": {},
   "outputs": [
    {
     "data": {
      "text/plain": [
       "[1, 0, 1, 0]"
      ]
     },
     "execution_count": 8,
     "metadata": {},
     "output_type": "execute_result"
    }
   ],
   "source": [
    "predictions = get_predictions(reviews)\n",
    "predictions"
   ]
  },
  {
   "cell_type": "code",
   "execution_count": null,
   "metadata": {},
   "outputs": [],
   "source": []
  }
 ],
 "metadata": {
  "kernelspec": {
   "display_name": "nlp",
   "language": "python",
   "name": "nlp"
  },
  "language_info": {
   "codemirror_mode": {
    "name": "ipython",
    "version": 3
   },
   "file_extension": ".py",
   "mimetype": "text/x-python",
   "name": "python",
   "nbconvert_exporter": "python",
   "pygments_lexer": "ipython3",
   "version": "3.12.4"
  }
 },
 "nbformat": 4,
 "nbformat_minor": 4
}
