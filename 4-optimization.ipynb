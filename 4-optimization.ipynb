{
  "cells": [
    {
      "cell_type": "markdown",
      "source": [
        "# Sentiment Analysis of Movie Reviews using a Pretrained LLM"
      ],
      "metadata": {
        "id": "Q5gRkEyL9-u0"
      }
    },
    {
      "cell_type": "markdown",
      "metadata": {
        "id": "5aQUy0-iFRNk"
      },
      "source": [
        "In this notebook, I fine-tune a pretrained LLM, DistilBERT base model (uncased), on the IMDB movie-review dataset. I deploy the fine-tuned model to Hugging Face."
      ]
    },
    {
      "cell_type": "markdown",
      "source": [
        "## Installs and Imports"
      ],
      "metadata": {
        "id": "eo6GMF3X-NZW"
      }
    },
    {
      "cell_type": "code",
      "execution_count": null,
      "metadata": {
        "id": "XORZmGw1g7iJ",
        "collapsed": true
      },
      "outputs": [],
      "source": [
        "!pip install datasets\n",
        "!pip install transformers[torch]\n",
        "!pip install evaluate\n",
        "!pip install -U accelerate"
      ]
    },
    {
      "cell_type": "code",
      "execution_count": 3,
      "metadata": {
        "id": "XPvqoRWrhmI8"
      },
      "outputs": [],
      "source": [
        "import numpy as np\n",
        "import torch\n",
        "\n",
        "from datasets import load_dataset\n",
        "from transformers import (\n",
        "    AutoTokenizer,\n",
        "    AutoModelForSequenceClassification,\n",
        "    TrainingArguments,\n",
        "    Trainer\n",
        ")\n",
        "import accelerate\n",
        "import evaluate"
      ]
    },
    {
      "cell_type": "code",
      "source": [
        "from huggingface_hub import notebook_login\n",
        "notebook_login()"
      ],
      "metadata": {
        "id": "O9ghsqWhLlIp"
      },
      "execution_count": null,
      "outputs": []
    },
    {
      "cell_type": "markdown",
      "source": [
        "## Load the Data"
      ],
      "metadata": {
        "id": "hUBHcxqBECFd"
      }
    },
    {
      "cell_type": "code",
      "execution_count": 5,
      "metadata": {
        "id": "s2HS44dNh8x_"
      },
      "outputs": [],
      "source": [
        "ds_movies = load_dataset('imdb')"
      ]
    },
    {
      "cell_type": "code",
      "source": [
        "# Select a subset of movie reviews on which to investigate hyperparameters.\n",
        "from numpy import random\n",
        "\n",
        "rng = random.default_rng()\n",
        "n_samples = 1_000\n",
        "indices = rng.choice(len(ds_movies['train']), size=n_samples, replace=False)\n",
        "ds_movies['train'] = ds_movies['train'].select(indices)"
      ],
      "metadata": {
        "id": "lMZOAiA4mTB1"
      },
      "execution_count": 6,
      "outputs": []
    },
    {
      "cell_type": "markdown",
      "metadata": {
        "id": "GJU49IwNFwrP"
      },
      "source": [
        "## Pretrained Model and Tokenizer"
      ]
    },
    {
      "cell_type": "code",
      "source": [
        "model_name = 'distilbert-base-uncased'\n",
        "model = AutoModelForSequenceClassification.from_pretrained(model_name)\n",
        "tokenizer = AutoTokenizer.from_pretrained(model_name)"
      ],
      "metadata": {
        "id": "4VBEb-_tFiad"
      },
      "execution_count": null,
      "outputs": []
    },
    {
      "cell_type": "code",
      "execution_count": 8,
      "metadata": {
        "id": "sSIHED88iDvB"
      },
      "outputs": [],
      "source": [
        "def tokenize(dataset):\n",
        "    \"\"\"Tokenize the movie reviews of dataset.\"\"\"\n",
        "    return tokenizer(dataset[\"text\"], padding=\"max_length\", truncation=True)"
      ]
    },
    {
      "cell_type": "code",
      "source": [
        "tokenized_ds_movies = ds_movies.map(tokenize, batched=True)"
      ],
      "metadata": {
        "id": "u1lszceXTXLi"
      },
      "execution_count": null,
      "outputs": []
    },
    {
      "cell_type": "markdown",
      "source": [
        "## Train and Test"
      ],
      "metadata": {
        "id": "z6XBGrt-H_PB"
      }
    },
    {
      "cell_type": "code",
      "execution_count": 10,
      "metadata": {
        "id": "_ER7CBPsjSut"
      },
      "outputs": [],
      "source": [
        "f1_score = evaluate.load('f1')\n",
        "\n",
        "def compute_metrics(eval_pred):\n",
        "    \"\"\"Compute metrics for evaluation.\"\"\"\n",
        "    # raw outputs, actual labels\n",
        "    logits, labels = eval_pred\n",
        "\n",
        "    # predictions is the highest output probability\n",
        "    predictions = np.argmax(logits, axis=-1)\n",
        "\n",
        "    f1 = f1_score.compute(predictions=predictions, references=labels)\n",
        "    return {'f1': f1['f1']}"
      ]
    },
    {
      "cell_type": "code",
      "execution_count": 11,
      "metadata": {
        "id": "_ODx1NzyjJmi"
      },
      "outputs": [],
      "source": [
        "training_args = TrainingArguments(\n",
        "    output_dir='movie-review-classifier',\n",
        "    eval_strategy='epoch',\n",
        "    num_train_epochs=2,\n",
        "    learning_rate=2e-5,\n",
        "    weight_decay=0.1,\n",
        "    per_device_train_batch_size=16,\n",
        "    per_device_eval_batch_size=16,\n",
        "    push_to_hub=True,\n",
        "    hub_model_id='derek-harnett/movie-review-classifier',\n",
        "    hub_strategy='end'\n",
        ")"
      ]
    },
    {
      "cell_type": "code",
      "execution_count": 12,
      "metadata": {
        "id": "VNeueylPjVF2"
      },
      "outputs": [],
      "source": [
        "trainer = Trainer(\n",
        "    model=model,\n",
        "    args=training_args,\n",
        "    train_dataset=tokenized_ds_movies['train'],\n",
        "    eval_dataset=tokenized_ds_movies['test'],\n",
        "    tokenizer=tokenizer,\n",
        "    compute_metrics=compute_metrics\n",
        ")"
      ]
    },
    {
      "cell_type": "code",
      "execution_count": null,
      "metadata": {
        "id": "fxnZ7qxhj4Pk"
      },
      "outputs": [],
      "source": [
        "trainer.train()"
      ]
    },
    {
      "cell_type": "code",
      "execution_count": 14,
      "metadata": {
        "colab": {
          "base_uri": "https://localhost:8080/",
          "height": 141
        },
        "id": "gMKCqf5nKXIq",
        "outputId": "e2af5208-f0d3-4e3c-e427-c5cdd442962e"
      },
      "outputs": [
        {
          "output_type": "display_data",
          "data": {
            "text/plain": [
              "<IPython.core.display.HTML object>"
            ],
            "text/html": [
              "\n",
              "    <div>\n",
              "      \n",
              "      <progress value='1563' max='1563' style='width:300px; height:20px; vertical-align: middle;'></progress>\n",
              "      [1563/1563 07:46]\n",
              "    </div>\n",
              "    "
            ]
          },
          "metadata": {}
        },
        {
          "output_type": "execute_result",
          "data": {
            "text/plain": [
              "{'eval_loss': 0.3089124858379364,\n",
              " 'eval_f1': 0.8748628327575696,\n",
              " 'eval_runtime': 466.9509,\n",
              " 'eval_samples_per_second': 53.539,\n",
              " 'eval_steps_per_second': 3.347,\n",
              " 'epoch': 2.0}"
            ]
          },
          "metadata": {},
          "execution_count": 14
        }
      ],
      "source": [
        "trainer.evaluate()"
      ]
    },
    {
      "cell_type": "markdown",
      "metadata": {
        "id": "6wLIYxuXSIWE"
      },
      "source": [
        "## Push to Hugging Face"
      ]
    },
    {
      "cell_type": "code",
      "execution_count": 16,
      "metadata": {
        "id": "p-h39-mKSB5Y"
      },
      "outputs": [],
      "source": [
        "# trainer.push_to_hub(commit_message='test push_to_hub()')"
      ]
    }
  ],
  "metadata": {
    "accelerator": "GPU",
    "colab": {
      "gpuType": "T4",
      "provenance": []
    },
    "kernelspec": {
      "display_name": "Python 3",
      "name": "python3"
    },
    "language_info": {
      "codemirror_mode": {
        "name": "ipython",
        "version": 3
      },
      "file_extension": ".py",
      "mimetype": "text/x-python",
      "name": "python",
      "nbconvert_exporter": "python",
      "pygments_lexer": "ipython3",
      "version": "3.11.0"
    }
  },
  "nbformat": 4,
  "nbformat_minor": 0
}